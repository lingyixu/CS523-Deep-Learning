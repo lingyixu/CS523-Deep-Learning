{
  "nbformat": 4,
  "nbformat_minor": 0,
  "metadata": {
    "colab": {
      "provenance": [],
      "machine_shape": "hm",
      "include_colab_link": true
    },
    "kernelspec": {
      "name": "python3",
      "display_name": "Python 3"
    },
    "language_info": {
      "name": "python"
    },
    "accelerator": "GPU",
    "gpuClass": "premium"
  },
  "cells": [
    {
      "cell_type": "markdown",
      "metadata": {
        "id": "view-in-github",
        "colab_type": "text"
      },
      "source": [
        "<a href=\"https://colab.research.google.com/github/lingyixu/CS523-Deep-Learning/blob/main/GNN/GAT_Multilabel_Classification_5Fold_CV.ipynb\" target=\"_parent\"><img src=\"https://colab.research.google.com/assets/colab-badge.svg\" alt=\"Open In Colab\"/></a>"
      ]
    },
    {
      "cell_type": "markdown",
      "source": [
        "### Load packages"
      ],
      "metadata": {
        "id": "docIYKxAba5j"
      }
    },
    {
      "cell_type": "code",
      "execution_count": 1,
      "metadata": {
        "colab": {
          "base_uri": "https://localhost:8080/"
        },
        "id": "L7P6Gln1UcWV",
        "outputId": "9f8eb167-ec0b-4d58-e8c7-1a96c19b801f"
      },
      "outputs": [
        {
          "output_type": "stream",
          "name": "stdout",
          "text": [
            "2.0.0+cu118\n",
            "  Installing build dependencies ... \u001b[?25l\u001b[?25hdone\n",
            "  Getting requirements to build wheel ... \u001b[?25l\u001b[?25hdone\n",
            "  Preparing metadata (pyproject.toml) ... \u001b[?25l\u001b[?25hdone\n",
            "  Building wheel for torch_geometric (pyproject.toml) ... \u001b[?25l\u001b[?25hdone\n",
            "Looking in indexes: https://pypi.org/simple, https://us-python.pkg.dev/colab-wheels/public/simple/\n",
            "Requirement already satisfied: torchmetrics in /usr/local/lib/python3.9/dist-packages (0.11.4)\n",
            "Requirement already satisfied: packaging in /usr/local/lib/python3.9/dist-packages (from torchmetrics) (23.0)\n",
            "Requirement already satisfied: torch>=1.8.1 in /usr/local/lib/python3.9/dist-packages (from torchmetrics) (2.0.0+cu118)\n",
            "Requirement already satisfied: numpy>=1.17.2 in /usr/local/lib/python3.9/dist-packages (from torchmetrics) (1.22.4)\n",
            "Requirement already satisfied: typing-extensions in /usr/local/lib/python3.9/dist-packages (from torch>=1.8.1->torchmetrics) (4.5.0)\n",
            "Requirement already satisfied: triton==2.0.0 in /usr/local/lib/python3.9/dist-packages (from torch>=1.8.1->torchmetrics) (2.0.0)\n",
            "Requirement already satisfied: jinja2 in /usr/local/lib/python3.9/dist-packages (from torch>=1.8.1->torchmetrics) (3.1.2)\n",
            "Requirement already satisfied: networkx in /usr/local/lib/python3.9/dist-packages (from torch>=1.8.1->torchmetrics) (3.1)\n",
            "Requirement already satisfied: filelock in /usr/local/lib/python3.9/dist-packages (from torch>=1.8.1->torchmetrics) (3.11.0)\n",
            "Requirement already satisfied: sympy in /usr/local/lib/python3.9/dist-packages (from torch>=1.8.1->torchmetrics) (1.11.1)\n",
            "Requirement already satisfied: lit in /usr/local/lib/python3.9/dist-packages (from triton==2.0.0->torch>=1.8.1->torchmetrics) (16.0.1)\n",
            "Requirement already satisfied: cmake in /usr/local/lib/python3.9/dist-packages (from triton==2.0.0->torch>=1.8.1->torchmetrics) (3.25.2)\n",
            "Requirement already satisfied: MarkupSafe>=2.0 in /usr/local/lib/python3.9/dist-packages (from jinja2->torch>=1.8.1->torchmetrics) (2.1.2)\n",
            "Requirement already satisfied: mpmath>=0.19 in /usr/local/lib/python3.9/dist-packages (from sympy->torch>=1.8.1->torchmetrics) (1.3.0)\n"
          ]
        }
      ],
      "source": [
        "import os\n",
        "import torch\n",
        "os.environ['TORCH'] = torch.__version__\n",
        "print(torch.__version__)\n",
        "\n",
        "!pip install -q torch-scatter -f https://data.pyg.org/whl/torch-${TORCH}.html\n",
        "!pip install -q torch-sparse -f https://data.pyg.org/whl/torch-${TORCH}.html\n",
        "!pip install -q git+https://github.com/pyg-team/pytorch_geometric.git\n",
        "!pip install torchmetrics"
      ]
    },
    {
      "cell_type": "code",
      "source": [
        "import torch.nn.functional as F\n",
        "import torch_geometric\n",
        "from torch_geometric.data import Dataset, Data\n",
        "from torch_geometric.loader import DataLoader\n",
        "from torch_geometric.nn import GCNConv, GATConv, global_mean_pool\n",
        "from torch_geometric.transforms import RandomNodeSplit\n",
        "from torch_geometric.utils import index_to_mask, mask_to_index, remove_self_loops, to_networkx\n",
        "from torchmetrics.classification import BinaryHammingDistance"
      ],
      "metadata": {
        "id": "60Uf21e2bfFS"
      },
      "execution_count": 46,
      "outputs": []
    },
    {
      "cell_type": "code",
      "source": [
        "import pandas as pd\n",
        "import numpy as np\n",
        "import json\n",
        "import glob\n",
        "import random\n",
        "import matplotlib.pyplot as plt\n",
        "%matplotlib inline\n",
        "from sklearn.manifold import TSNE\n",
        "from sklearn.model_selection import KFold, train_test_split\n",
        "import networkx as nx"
      ],
      "metadata": {
        "id": "ic-3zTIOb_Y8"
      },
      "execution_count": 3,
      "outputs": []
    },
    {
      "cell_type": "code",
      "source": [
        "device = torch.device('cuda') if torch.cuda.is_available() else torch.device('cpu')\n",
        "device"
      ],
      "metadata": {
        "colab": {
          "base_uri": "https://localhost:8080/"
        },
        "id": "DUmlpmBoymWC",
        "outputId": "1ce4e9ec-4f57-42a1-ee32-fc21b84f5316"
      },
      "execution_count": 4,
      "outputs": [
        {
          "output_type": "execute_result",
          "data": {
            "text/plain": [
              "device(type='cuda')"
            ]
          },
          "metadata": {},
          "execution_count": 4
        }
      ]
    },
    {
      "cell_type": "code",
      "source": [
        "from google.colab import drive\n",
        "drive.mount('/content/drive')\n",
        "drive_path = '/content/drive/Shareddrives/CS523/lastFM-data/'"
      ],
      "metadata": {
        "colab": {
          "base_uri": "https://localhost:8080/"
        },
        "id": "ENNRDCAFkRNP",
        "outputId": "49affd9d-379f-4976-9986-9b07fbb7bdee"
      },
      "execution_count": 5,
      "outputs": [
        {
          "output_type": "stream",
          "name": "stdout",
          "text": [
            "Mounted at /content/drive\n"
          ]
        }
      ]
    },
    {
      "cell_type": "markdown",
      "source": [
        "### Load dataset: LastFM"
      ],
      "metadata": {
        "id": "Hy92RRnibgEX"
      }
    },
    {
      "cell_type": "code",
      "source": [
        "df_feat = pd.read_json(drive_path + 'processed_feature.json')   # load features\n",
        "arr_feat = df_feat.T.values\n",
        "df_edge = pd.read_csv(drive_path + 'lastfm_asia_edges.csv')   # load edge indices\n",
        "arr_edge = df_edge.T.values\n",
        "df_tar = pd.read_csv(drive_path + 'lastfm_asia_target.csv', index_col=0)   # load targets\n",
        "arr_tar = df_tar.values\n",
        "\n",
        "num_nodes = arr_feat.shape[0]\n",
        "num_features = arr_feat.shape[1]\n",
        "num_classes = len(df_tar.target.unique())\n",
        "classes = df_tar.target.sort_values().unique()\n",
        "\n",
        "print('Dataset:')\n",
        "print('====================')\n",
        "print(f'Number of nodes: {num_nodes}')\n",
        "print(f'Number of features: {num_features}')\n",
        "print(f'Number of edges: {arr_edge.shape[1]}')\n",
        "print(f'Number of distinct regions: {num_classes}')\n",
        "print(f'All region classes: {classes}')"
      ],
      "metadata": {
        "colab": {
          "base_uri": "https://localhost:8080/"
        },
        "id": "OjZdIyqKjrM0",
        "outputId": "ea9bcca6-b97c-40e8-dce0-e42e040f25a5"
      },
      "execution_count": 6,
      "outputs": [
        {
          "output_type": "stream",
          "name": "stdout",
          "text": [
            "Dataset:\n",
            "====================\n",
            "Number of nodes: 7624\n",
            "Number of features: 7842\n",
            "Number of edges: 27806\n",
            "Number of distinct regions: 18\n",
            "All region classes: [ 0  1  2  3  4  5  6  7  8  9 10 11 12 13 14 15 16 17]\n"
          ]
        }
      ]
    },
    {
      "cell_type": "code",
      "source": [
        "graph_metadata = {'data': arr_feat, 'edge_index': arr_edge, 'label': arr_tar}"
      ],
      "metadata": {
        "id": "04Yjji1BqS8z"
      },
      "execution_count": 7,
      "outputs": []
    },
    {
      "cell_type": "markdown",
      "source": [
        "### Create GraphDataset"
      ],
      "metadata": {
        "id": "MSa2dZP0pTVo"
      }
    },
    {
      "cell_type": "code",
      "source": [
        "class GraphDataset(Dataset):\n",
        "    \n",
        "    def __init__(self, root, out_dir, metadata, transform=None, pre_transform=None, pre_filter=None):\n",
        "        self.root = root\n",
        "        self.out_dir = out_dir\n",
        "        self.metadata = metadata\n",
        "        super(GraphDataset, self).__init__(root, transform, pre_transform, pre_filter)\n",
        "\n",
        "    @property\n",
        "    def raw_file_names(self):\n",
        "        return root\n",
        "\n",
        "    @property\n",
        "    def processed_file_names(self):\n",
        "        return glob.glob(f'{self.out_dir}/*.pt')\n",
        "\n",
        "    def download(self):\n",
        "        pass\n",
        "    \n",
        "    \n",
        "    def process(self):\n",
        "\n",
        "        self.node_features = torch.tensor(self.metadata['data'], dtype=torch.float)\n",
        "        self.edge_index = torch.tensor(self.metadata['edge_index'], dtype=torch.int64)\n",
        "        self.label = torch.tensor(self.metadata['label'], dtype=torch.int64)\n",
        "        # self.all_features = torch.concat([self.node_features, self.label], dim=1)   # take region as an additional feature\n",
        "        \n",
        "        data = Data(x = self.node_features,\n",
        "                    edge_index = self.edge_index,\n",
        "                    # edge_attr = None,\n",
        "                    y = self.label)\n",
        "\n",
        "        torch.save(data, f'{self.out_dir}/data.pt')\n",
        "\n",
        "    def len(self):\n",
        "        return self.node_features.shape[0]\n",
        "\n",
        "    def get(self):\n",
        "        data = torch.load(f'{self.out_dir}/data.pt')\n",
        "        return data"
      ],
      "metadata": {
        "id": "eyvO5T5mpWZC"
      },
      "execution_count": 8,
      "outputs": []
    },
    {
      "cell_type": "code",
      "source": [
        "root = ''\n",
        "out_dir = 'graph_data'\n",
        "os.mkdir(out_dir)\n",
        "metadata = graph_metadata\n",
        "dataset = GraphDataset(root=root, out_dir=out_dir, metadata=metadata)"
      ],
      "metadata": {
        "colab": {
          "base_uri": "https://localhost:8080/"
        },
        "id": "deb4Wyu2sJzy",
        "outputId": "e771052d-0d31-457e-ffad-8aa02fc57f45"
      },
      "execution_count": 9,
      "outputs": [
        {
          "output_type": "stream",
          "name": "stderr",
          "text": [
            "Processing...\n",
            "Done!\n"
          ]
        }
      ]
    },
    {
      "cell_type": "code",
      "source": [
        "# inspect the graph dataset\n",
        "data = dataset.get()\n",
        "print()\n",
        "print(data)\n",
        "print('=============================================================')\n",
        "print(f'Number of nodes: {data.num_nodes}')\n",
        "print(f'Number of edges: {data.num_edges}')"
      ],
      "metadata": {
        "colab": {
          "base_uri": "https://localhost:8080/"
        },
        "id": "Q8Q_Lz4Ttpz8",
        "outputId": "868ebdb0-2cbb-4d4f-8824-7bbdd3348d78"
      },
      "execution_count": 10,
      "outputs": [
        {
          "output_type": "stream",
          "name": "stdout",
          "text": [
            "\n",
            "Data(x=[7624, 7842], edge_index=[2, 27806], y=[7624, 1])\n",
            "=============================================================\n",
            "Number of nodes: 7624\n",
            "Number of edges: 27806\n"
          ]
        }
      ]
    },
    {
      "cell_type": "code",
      "source": [
        "# set data to cuda\n",
        "data.to(device)"
      ],
      "metadata": {
        "colab": {
          "base_uri": "https://localhost:8080/"
        },
        "id": "tAOuLAcZBjwm",
        "outputId": "36bb644c-5b96-40a6-fb9b-caea9b20297a"
      },
      "execution_count": 11,
      "outputs": [
        {
          "output_type": "execute_result",
          "data": {
            "text/plain": [
              "Data(x=[7624, 7842], edge_index=[2, 27806], y=[7624, 1])"
            ]
          },
          "metadata": {},
          "execution_count": 11
        }
      ]
    },
    {
      "cell_type": "markdown",
      "source": [
        "### Train/valid/test split for 5-fold cross validation"
      ],
      "metadata": {
        "id": "JA8yaxXFvx__"
      }
    },
    {
      "cell_type": "code",
      "source": [
        "def graphdataset_split(dataset, n_fold):\n",
        "\n",
        "    X = np.arange(num_nodes)\n",
        "    splits = KFold(n_fold, shuffle=True, random_state=42)   # fix the seed to make the split reproducible\n",
        "    splits.split(X)\n",
        "    \n",
        "    train_sets = []\n",
        "    valid_sets = []\n",
        "    test_sets = []\n",
        "\n",
        "    for train_index, test_index in splits.split(X):\n",
        "        train_index, valid_index = train_test_split(train_index, test_size=0.1)\n",
        "        train_sets.append(list(train_index))\n",
        "        valid_sets.append(list(valid_index))\n",
        "        test_sets.append(list(test_index))\n",
        "\n",
        "    return train_sets, valid_sets, test_sets"
      ],
      "metadata": {
        "id": "I3H03JLu7z0F"
      },
      "execution_count": 12,
      "outputs": []
    },
    {
      "cell_type": "code",
      "source": [
        "n_fold = 5\n",
        "train_sets, valid_sets, test_sets = graphdataset_split(data, n_fold)\n",
        "\n",
        "for i in range(n_fold):\n",
        "    print('================')\n",
        "    print(f'Fold {i+1}:')\n",
        "    print(f'Train nodes: {len(train_sets[i])}')\n",
        "    print(f'Valid nodes: {len(valid_sets[i])}')\n",
        "    print(f'Test nodes: {len(test_sets[i])}')"
      ],
      "metadata": {
        "colab": {
          "base_uri": "https://localhost:8080/"
        },
        "id": "URR2N_n18bcw",
        "outputId": "d026fcd4-d518-48e1-d46f-f48f7635865c"
      },
      "execution_count": 13,
      "outputs": [
        {
          "output_type": "stream",
          "name": "stdout",
          "text": [
            "================\n",
            "Fold 1:\n",
            "Train nodes: 5489\n",
            "Valid nodes: 610\n",
            "Test nodes: 1525\n",
            "================\n",
            "Fold 2:\n",
            "Train nodes: 5489\n",
            "Valid nodes: 610\n",
            "Test nodes: 1525\n",
            "================\n",
            "Fold 3:\n",
            "Train nodes: 5489\n",
            "Valid nodes: 610\n",
            "Test nodes: 1525\n",
            "================\n",
            "Fold 4:\n",
            "Train nodes: 5489\n",
            "Valid nodes: 610\n",
            "Test nodes: 1525\n",
            "================\n",
            "Fold 5:\n",
            "Train nodes: 5490\n",
            "Valid nodes: 610\n",
            "Test nodes: 1524\n"
          ]
        }
      ]
    },
    {
      "cell_type": "code",
      "source": [
        "# create masks\n",
        "train_masks = []\n",
        "valid_masks = []\n",
        "test_masks = []\n",
        "\n",
        "for i in range(n_fold):\n",
        "    \n",
        "    train_mask = index_to_mask(torch.tensor(train_sets[i]), size=num_nodes).to(device)\n",
        "    valid_mask = index_to_mask(torch.tensor(valid_sets[i]), size=num_nodes).to(device)\n",
        "    test_mask = index_to_mask(torch.tensor(test_sets[i]), size=num_nodes).to(device)\n",
        "    \n",
        "    train_masks.append(train_mask)\n",
        "    valid_masks.append(valid_mask)\n",
        "    test_masks.append(test_mask)"
      ],
      "metadata": {
        "id": "GKHDx2GL-pHB"
      },
      "execution_count": 14,
      "outputs": []
    },
    {
      "cell_type": "markdown",
      "source": [
        "### Build GNN"
      ],
      "metadata": {
        "id": "va7_CVtBc3d8"
      }
    },
    {
      "cell_type": "code",
      "source": [
        "# ref: https://github.com/pyg-team/pytorch_geometric/issues/3550\n",
        "class GAT(torch.nn.Module):\n",
        "    \n",
        "    def __init__(self, hidden_channels1, hidden_channels2, hidden_channels3):\n",
        "        super().__init__()\n",
        "        self.conv1 = GATConv(num_features, hidden_channels1)\n",
        "        self.conv2 = GATConv(hidden_channels1, hidden_channels2)\n",
        "        self.conv3 = GATConv(hidden_channels2, hidden_channels3)\n",
        "        self.linear = torch.nn.Linear(hidden_channels3, num_features)\n",
        "\n",
        "    def forward(self, x, edge_index, train_mask):\n",
        "\n",
        "        # out = torch.zeros_like(x)\n",
        "        train_nodes = mask_to_index(train_mask)\n",
        "        untrain_nodes = mask_to_index(~train_mask)\n",
        "        x_masked = x.clone()\n",
        "        x_masked[untrain_nodes] = -1   # set all un-training node features to -1\n",
        "\n",
        "        out = self.conv1(x_masked, edge_index)\n",
        "        out = out.relu()\n",
        "        out = self.conv2(out, edge_index)\n",
        "        out = out.relu()\n",
        "        out, w = self.conv3(out, edge_index, return_attention_weights=True)\n",
        "        out = out.relu()\n",
        "        # x = F.dropout(x, p=0.5)\n",
        "        out = self.linear(out)\n",
        "        out = out.sigmoid()\n",
        "        return out, w"
      ],
      "metadata": {
        "id": "XGxTkf2iVzuQ"
      },
      "execution_count": 15,
      "outputs": []
    },
    {
      "cell_type": "code",
      "source": [
        "criterion = torch.nn.BCEWithLogitsLoss()"
      ],
      "metadata": {
        "id": "RyeLJOYR1yDt"
      },
      "execution_count": 16,
      "outputs": []
    },
    {
      "cell_type": "code",
      "source": [
        "# model = GAT(4096, 4096, 2048, train_masks[0], valid_masks[0])\n",
        "# model.to(device)\n",
        "# optimizer = torch.optim.Adam(model.parameters(), lr=2e-4, weight_decay=5e-4)\n",
        "# out = model(data.x, data.edge_index)\n",
        "# loss = criterion(out[test_mask], data.x[test_mask]).cpu().detach().item()\n",
        "# metric = BinaryHammingDistance(task='multilabel', num_labels=2).to(device)\n",
        "# acc = 1 - metric(out[valid_masks[0]], data.x[valid_masks[0]])"
      ],
      "metadata": {
        "id": "iqRoGX5eScA3"
      },
      "execution_count": 17,
      "outputs": []
    },
    {
      "cell_type": "markdown",
      "source": [
        "### Model training and testing"
      ],
      "metadata": {
        "id": "EP4Yu0qvMVv-"
      }
    },
    {
      "cell_type": "code",
      "source": [
        "# set params\n",
        "hidden_channels1 = 4096\n",
        "hidden_channels2 = 4096\n",
        "hidden_channels3 = 2048\n",
        "lr = 2e-4\n",
        "weight_decay = 5e-4\n",
        "epoch = 20\n",
        "save_results = False"
      ],
      "metadata": {
        "id": "lF9kvasrBgSZ"
      },
      "execution_count": 18,
      "outputs": []
    },
    {
      "cell_type": "code",
      "source": [
        "def train(model, train_mask, test_mask):   # use test_mask for backprop only\n",
        "    model.train()\n",
        "    optimizer.zero_grad()\n",
        "    out, _ = model(data.x, data.edge_index, train_mask)\n",
        "    loss = criterion(out[test_mask], data.x[test_mask])\n",
        "    loss.backward()\n",
        "    optimizer.step()\n",
        "    # return loss.detach().cpu().item()\n",
        "\n",
        "def test(model, train_mask, test_mask):   # use test_mask for calculating accuracy only\n",
        "    model.eval()\n",
        "    out, w = model(data.x, data.edge_index, train_mask)\n",
        "    loss = criterion(out[test_mask], data.x[test_mask]).cpu().detach().item()\n",
        "    metric = BinaryHammingDistance(task='multilabel', num_labels=2).to(device)   # measure average disagreement in a binary task\n",
        "    acc = 1 - metric(out[test_mask], data.x[test_mask])\n",
        "    return out, w, loss, acc.cpu().item()"
      ],
      "metadata": {
        "id": "TrQrdyzdddCA"
      },
      "execution_count": 19,
      "outputs": []
    },
    {
      "cell_type": "code",
      "source": [
        "# cross validation\n",
        "train_acc_all = []\n",
        "test_acc_all = []\n",
        "train_loss_all = []\n",
        "test_loss_all = []\n",
        "\n",
        "for i in range(n_fold):   # loop through folds\n",
        "\n",
        "    print(f'===== Fold {i+1} ======')\n",
        "    \n",
        "    # initialize model and optimizer\n",
        "    model = GAT(hidden_channels1, hidden_channels2, hidden_channels3)\n",
        "    model.to(device)\n",
        "    optimizer = torch.optim.Adam(model.parameters(), lr=lr, weight_decay=weight_decay)\n",
        "\n",
        "    # accuracy per epoch\n",
        "    train_acc_epoch = []\n",
        "    test_acc_epoch = []\n",
        "    # loss per epoch\n",
        "    train_loss_epoch = []\n",
        "    test_loss_epoch = []\n",
        "\n",
        "    for e in range(epoch):   # loop through epochs\n",
        "        \n",
        "        train(model, train_masks[i], valid_masks[i])\n",
        "        _, _, train_loss, train_acc = test(model, train_masks[i], valid_masks[i])\n",
        "        out, w, test_loss, test_acc = test(model, train_masks[i], test_masks[i])\n",
        "        \n",
        "        # save loss and accuracy history\n",
        "        train_acc_epoch.append(train_acc)\n",
        "        test_acc_epoch.append(test_acc)\n",
        "        train_loss_epoch.append(train_loss)\n",
        "        test_loss_epoch.append(test_loss)\n",
        "                \n",
        "        # save model, output, and attention\n",
        "        if (e == epoch-1) and (save_results==True):\n",
        "            torch.save(model, f'/content/drive/Shareddrives/CS523/Notebooks/model/GAT/fold_{i+1}.pt')\n",
        "            torch.save(out, f'/content/drive/Shareddrives/CS523/Notebooks/output/GAT/fold_{i+1}.pt')\n",
        "            edges = w[0]\n",
        "            weight = w[1]\n",
        "            edge, edge_weight = remove_self_loops(edges, weight)\n",
        "            torch.save(edge_weight, f'/content/drive/Shareddrives/CS523/Notebooks/output/GAT/attention_fold_{i+1}.pt')\n",
        "\n",
        "        print(f'Epoch: {e+1:02d}, Train loss: {train_loss:.4f}, Test loss: {test_loss:.4f}')\n",
        "\n",
        "        torch.cuda.empty_cache()\n",
        "\n",
        "    train_acc_all.append(train_acc_epoch)\n",
        "    test_acc_all.append(test_acc_epoch)\n",
        "    train_loss_all.append(train_loss_epoch)\n",
        "    test_loss_all.append(test_loss_epoch)"
      ],
      "metadata": {
        "colab": {
          "base_uri": "https://localhost:8080/"
        },
        "id": "c1SphvGDBFzw",
        "outputId": "55e579a8-46e5-47c3-981f-dcf5f58a6dda"
      },
      "execution_count": 30,
      "outputs": [
        {
          "output_type": "stream",
          "name": "stdout",
          "text": [
            "===== Fold 1 ======\n",
            "Epoch: 01, Train loss: 0.9413, Test loss: 0.9399\n",
            "Epoch: 02, Train loss: 0.9078, Test loss: 0.9069\n",
            "Epoch: 03, Train loss: 0.8442, Test loss: 0.8433\n",
            "Epoch: 04, Train loss: 0.7758, Test loss: 0.7753\n",
            "Epoch: 05, Train loss: 0.7299, Test loss: 0.7296\n",
            "Epoch: 06, Train loss: 0.7072, Test loss: 0.7071\n",
            "Epoch: 07, Train loss: 0.6980, Test loss: 0.6980\n",
            "Epoch: 08, Train loss: 0.6952, Test loss: 0.6952\n",
            "Epoch: 09, Train loss: 0.6945, Test loss: 0.6945\n",
            "Epoch: 10, Train loss: 0.6943, Test loss: 0.6943\n",
            "Epoch: 11, Train loss: 0.6943, Test loss: 0.6942\n",
            "Epoch: 12, Train loss: 0.6942, Test loss: 0.6941\n",
            "Epoch: 13, Train loss: 0.6940, Test loss: 0.6940\n",
            "Epoch: 14, Train loss: 0.6939, Test loss: 0.6939\n",
            "Epoch: 15, Train loss: 0.6939, Test loss: 0.6939\n",
            "Epoch: 16, Train loss: 0.6938, Test loss: 0.6938\n",
            "Epoch: 17, Train loss: 0.6937, Test loss: 0.6937\n",
            "Epoch: 18, Train loss: 0.6936, Test loss: 0.6936\n",
            "Epoch: 19, Train loss: 0.6935, Test loss: 0.6935\n",
            "Epoch: 20, Train loss: 0.6935, Test loss: 0.6935\n",
            "===== Fold 2 ======\n",
            "Epoch: 01, Train loss: 0.9397, Test loss: 0.9405\n",
            "Epoch: 02, Train loss: 0.9000, Test loss: 0.9006\n",
            "Epoch: 03, Train loss: 0.8350, Test loss: 0.8355\n",
            "Epoch: 04, Train loss: 0.7684, Test loss: 0.7687\n",
            "Epoch: 05, Train loss: 0.7268, Test loss: 0.7270\n",
            "Epoch: 06, Train loss: 0.7066, Test loss: 0.7066\n",
            "Epoch: 07, Train loss: 0.6986, Test loss: 0.6986\n",
            "Epoch: 08, Train loss: 0.6958, Test loss: 0.6958\n",
            "Epoch: 09, Train loss: 0.6948, Test loss: 0.6948\n",
            "Epoch: 10, Train loss: 0.6943, Test loss: 0.6943\n",
            "Epoch: 11, Train loss: 0.6940, Test loss: 0.6940\n",
            "Epoch: 12, Train loss: 0.6937, Test loss: 0.6937\n",
            "Epoch: 13, Train loss: 0.6937, Test loss: 0.6937\n",
            "Epoch: 14, Train loss: 0.6937, Test loss: 0.6937\n",
            "Epoch: 15, Train loss: 0.6936, Test loss: 0.6936\n",
            "Epoch: 16, Train loss: 0.6936, Test loss: 0.6936\n",
            "Epoch: 17, Train loss: 0.6936, Test loss: 0.6936\n",
            "Epoch: 18, Train loss: 0.6936, Test loss: 0.6936\n",
            "Epoch: 19, Train loss: 0.6936, Test loss: 0.6936\n",
            "Epoch: 20, Train loss: 0.6936, Test loss: 0.6936\n",
            "===== Fold 3 ======\n",
            "Epoch: 01, Train loss: 0.9387, Test loss: 0.9389\n",
            "Epoch: 02, Train loss: 0.8944, Test loss: 0.8941\n",
            "Epoch: 03, Train loss: 0.8272, Test loss: 0.8270\n",
            "Epoch: 04, Train loss: 0.7621, Test loss: 0.7620\n",
            "Epoch: 05, Train loss: 0.7236, Test loss: 0.7236\n",
            "Epoch: 06, Train loss: 0.7056, Test loss: 0.7056\n",
            "Epoch: 07, Train loss: 0.6983, Test loss: 0.6982\n",
            "Epoch: 08, Train loss: 0.6958, Test loss: 0.6958\n",
            "Epoch: 09, Train loss: 0.6946, Test loss: 0.6946\n",
            "Epoch: 10, Train loss: 0.6941, Test loss: 0.6941\n",
            "Epoch: 11, Train loss: 0.6940, Test loss: 0.6940\n",
            "Epoch: 12, Train loss: 0.6940, Test loss: 0.6940\n",
            "Epoch: 13, Train loss: 0.6939, Test loss: 0.6939\n",
            "Epoch: 14, Train loss: 0.6939, Test loss: 0.6939\n",
            "Epoch: 15, Train loss: 0.6939, Test loss: 0.6939\n",
            "Epoch: 16, Train loss: 0.6938, Test loss: 0.6938\n",
            "Epoch: 17, Train loss: 0.6938, Test loss: 0.6938\n",
            "Epoch: 18, Train loss: 0.6938, Test loss: 0.6938\n",
            "Epoch: 19, Train loss: 0.6938, Test loss: 0.6938\n",
            "Epoch: 20, Train loss: 0.6938, Test loss: 0.6938\n",
            "===== Fold 4 ======\n",
            "Epoch: 01, Train loss: 0.9417, Test loss: 0.9415\n",
            "Epoch: 02, Train loss: 0.9087, Test loss: 0.9088\n",
            "Epoch: 03, Train loss: 0.8472, Test loss: 0.8472\n",
            "Epoch: 04, Train loss: 0.7783, Test loss: 0.7784\n",
            "Epoch: 05, Train loss: 0.7330, Test loss: 0.7330\n",
            "Epoch: 06, Train loss: 0.7099, Test loss: 0.7100\n",
            "Epoch: 07, Train loss: 0.6996, Test loss: 0.6996\n",
            "Epoch: 08, Train loss: 0.6958, Test loss: 0.6958\n",
            "Epoch: 09, Train loss: 0.6949, Test loss: 0.6949\n",
            "Epoch: 10, Train loss: 0.6945, Test loss: 0.6945\n",
            "Epoch: 11, Train loss: 0.6943, Test loss: 0.6943\n",
            "Epoch: 12, Train loss: 0.6941, Test loss: 0.6941\n",
            "Epoch: 13, Train loss: 0.6940, Test loss: 0.6940\n",
            "Epoch: 14, Train loss: 0.6939, Test loss: 0.6939\n",
            "Epoch: 15, Train loss: 0.6939, Test loss: 0.6939\n",
            "Epoch: 16, Train loss: 0.6938, Test loss: 0.6938\n",
            "Epoch: 17, Train loss: 0.6937, Test loss: 0.6937\n",
            "Epoch: 18, Train loss: 0.6937, Test loss: 0.6937\n",
            "Epoch: 19, Train loss: 0.6937, Test loss: 0.6937\n",
            "Epoch: 20, Train loss: 0.6937, Test loss: 0.6937\n",
            "===== Fold 5 ======\n",
            "Epoch: 01, Train loss: 0.9401, Test loss: 0.9408\n",
            "Epoch: 02, Train loss: 0.8997, Test loss: 0.9000\n",
            "Epoch: 03, Train loss: 0.8386, Test loss: 0.8391\n",
            "Epoch: 04, Train loss: 0.7726, Test loss: 0.7728\n",
            "Epoch: 05, Train loss: 0.7284, Test loss: 0.7285\n",
            "Epoch: 06, Train loss: 0.7068, Test loss: 0.7069\n",
            "Epoch: 07, Train loss: 0.6980, Test loss: 0.6980\n",
            "Epoch: 08, Train loss: 0.6951, Test loss: 0.6951\n",
            "Epoch: 09, Train loss: 0.6943, Test loss: 0.6943\n",
            "Epoch: 10, Train loss: 0.6939, Test loss: 0.6939\n",
            "Epoch: 11, Train loss: 0.6937, Test loss: 0.6938\n",
            "Epoch: 12, Train loss: 0.6937, Test loss: 0.6937\n",
            "Epoch: 13, Train loss: 0.6937, Test loss: 0.6937\n",
            "Epoch: 14, Train loss: 0.6936, Test loss: 0.6937\n",
            "Epoch: 15, Train loss: 0.6936, Test loss: 0.6937\n",
            "Epoch: 16, Train loss: 0.6936, Test loss: 0.6937\n",
            "Epoch: 17, Train loss: 0.6936, Test loss: 0.6937\n",
            "Epoch: 18, Train loss: 0.6936, Test loss: 0.6937\n",
            "Epoch: 19, Train loss: 0.6936, Test loss: 0.6937\n",
            "Epoch: 20, Train loss: 0.6936, Test loss: 0.6937\n"
          ]
        }
      ]
    },
    {
      "cell_type": "code",
      "source": [
        "# plot train and test loss\n",
        "fig, ax = plt.subplots(figsize=(10,4))\n",
        "colors = ['#0343DF', '#E50000', '#008000', '#DDA0DD', '#FFA500']\n",
        "for i in range(n_fold):\n",
        "    ax.plot(range(1,len(train_loss_all[i])+1), train_loss_all[i], '-x', markersize=4, label=f'train_fold_{i+1}', color=colors[i])\n",
        "    ax.plot(range(1,len(test_loss_all[i])+1), test_loss_all[i], '-o', markersize=4, label=f'test_fold_{i+1}', color=colors[i])\n",
        "ax.set_xticks(np.arange(1, epoch+1))\n",
        "ax.grid()\n",
        "ax.set_title('Train and test loss')\n",
        "ax.set_xlabel('epochs')\n",
        "fig.legend()\n",
        "fig.show()"
      ],
      "metadata": {
        "colab": {
          "base_uri": "https://localhost:8080/",
          "height": 429
        },
        "id": "yO4qcMphDW9C",
        "outputId": "c52d3513-b081-4c44-c70b-5cd6bdd44751"
      },
      "execution_count": 31,
      "outputs": [
        {
          "output_type": "display_data",
          "data": {
            "text/plain": [
              "<Figure size 1000x400 with 1 Axes>"
            ],
            "image/png": "[encoded data removed]"
          },
          "metadata": {}
        }
      ]
    },
    {
      "cell_type": "code",
      "source": [
        "# plot train and test accuracy\n",
        "fig, ax = plt.subplots(figsize=(10,4))\n",
        "for i in range(n_fold):\n",
        "    ax.plot(range(1,len(train_acc_all[i])+1), train_acc_all[i], '-x', markersize=4, label=f'train_fold_{i+1}', color=colors[i])\n",
        "    ax.plot(range(1,len(test_acc_all[i])+1), test_acc_all[i], '-o', markersize=4, label=f'test_fold_{i+1}', color=colors[i])\n",
        "ax.set_xticks(np.arange(1, epoch+1))\n",
        "ax.grid()\n",
        "ax.set_title('Train and test accuracy')\n",
        "ax.set_xlabel('epochs')\n",
        "fig.legend()\n",
        "fig.show()"
      ],
      "metadata": {
        "colab": {
          "base_uri": "https://localhost:8080/",
          "height": 429
        },
        "id": "_kCUMlAvERSN",
        "outputId": "edf9b693-fa7e-4c42-9f8e-dbbcf3936f2e"
      },
      "execution_count": 32,
      "outputs": [
        {
          "output_type": "display_data",
          "data": {
            "text/plain": [
              "<Figure size 1000x400 with 1 Axes>"
            ],
            "image/png": "[encoded data removed]"
          },
          "metadata": {}
        }
      ]
    },
    {
      "cell_type": "code",
      "source": [
        "# print out average accuracy\n",
        "acc_list = []\n",
        "for i in range(n_fold):\n",
        "    acc = test_acc_all[i][-1]\n",
        "    acc_list.append(acc)\n",
        "    print(f'Fold {i+1} test accuracy: {acc:.4f}')\n",
        "print(f'Average accuracy: {np.mean(acc_list):.4f}')"
      ],
      "metadata": {
        "colab": {
          "base_uri": "https://localhost:8080/"
        },
        "id": "01_jysLrEoyw",
        "outputId": "4ee6de69-2352-4c90-95c5-57511b5f9503"
      },
      "execution_count": 33,
      "outputs": [
        {
          "output_type": "stream",
          "name": "stdout",
          "text": [
            "Fold 1 test accuracy: 0.9478\n",
            "Fold 2 test accuracy: 0.9495\n",
            "Fold 3 test accuracy: 0.9480\n",
            "Fold 4 test accuracy: 0.9497\n",
            "Fold 5 test accuracy: 0.9495\n",
            "Average accuracy: 0.9489\n"
          ]
        }
      ]
    },
    {
      "cell_type": "markdown",
      "source": [
        "### Inspect all folds output"
      ],
      "metadata": {
        "id": "GypH2jY6R3pw"
      }
    },
    {
      "cell_type": "code",
      "source": [
        "# combine and reorder the outputs\n",
        "output_sorted = torch.zeros(num_nodes, num_features)\n",
        "\n",
        "for i in range(n_fold):\n",
        "    output = torch.load(f'/content/drive/Shareddrives/CS523/Notebooks/output/GAT/fold_{i+1}.pt')   # load back saved outputs\n",
        "    output_masked = output[[test_masks[i]]].cpu().detach()\n",
        "    print(f'Fold {i+1} output: {output_masked.shape[0]} nodes')\n",
        "    output_sorted[test_masks[i]] = output_masked   # put output of each folder back to the original order\n",
        "\n",
        "print('==============')\n",
        "print(f'All folds output: {output_sorted.shape[0]} nodes')"
      ],
      "metadata": {
        "colab": {
          "base_uri": "https://localhost:8080/"
        },
        "id": "4ZIN_-iyRAGf",
        "outputId": "7b464e51-2c57-43ff-9627-c54e03c82d3f"
      },
      "execution_count": 37,
      "outputs": [
        {
          "output_type": "stream",
          "name": "stdout",
          "text": [
            "Fold 1 output: 1525 nodes\n",
            "Fold 2 output: 1525 nodes\n",
            "Fold 3 output: 1525 nodes\n",
            "Fold 4 output: 1525 nodes\n",
            "Fold 5 output: 1524 nodes\n",
            "==============\n",
            "All folds output: 7624 nodes\n"
          ]
        }
      ]
    },
    {
      "cell_type": "code",
      "source": [
        "if save_results:\n",
        "    torch.save(output_sorted, f'/content/drive/Shareddrives/CS523/Notebooks/output/GAT/all_folds.pt')"
      ],
      "metadata": {
        "id": "8xex_pApSWqS"
      },
      "execution_count": 38,
      "outputs": []
    },
    {
      "cell_type": "markdown",
      "source": [
        "### Inspect edge weights"
      ],
      "metadata": {
        "id": "j0EsvjSJU1zb"
      }
    },
    {
      "cell_type": "code",
      "source": [
        "# load the weights\n",
        "all_weights = []\n",
        "for i in range(n_fold):\n",
        "    weights = torch.load(f'/content/drive/Shareddrives/CS523/Notebooks/output/GAT/attention_fold_{i+1}.pt').cpu().detach()   # shape of num_edges x 1\n",
        "    all_weights.append(weights)"
      ],
      "metadata": {
        "id": "LUno2fddU4tN"
      },
      "execution_count": 44,
      "outputs": []
    },
    {
      "cell_type": "code",
      "source": [
        "# make a new graph dataset with edge_attr = edge_weight\n",
        "# take fold 1 for example\n",
        "class NewGraphDataset(Dataset):\n",
        "    \n",
        "    def __init__(self, root, out_dir, metadata, transform=None, pre_transform=None, pre_filter=None):\n",
        "        self.root = root\n",
        "        self.out_dir = out_dir\n",
        "        self.metadata = metadata\n",
        "        super(NewGraphDataset, self).__init__(root, transform, pre_transform, pre_filter)\n",
        "\n",
        "    @property\n",
        "    def raw_file_names(self):\n",
        "        return root\n",
        "\n",
        "    @property\n",
        "    def processed_file_names(self):\n",
        "        return glob.glob(f'{self.out_dir}/*.pt')\n",
        "\n",
        "    def download(self):\n",
        "        pass\n",
        "    \n",
        "    \n",
        "    def process(self):\n",
        "\n",
        "        self.node_features = torch.tensor(self.metadata['data'], dtype=torch.float)\n",
        "        self.edge_index = torch.tensor(self.metadata['edge_index'], dtype=torch.int64)\n",
        "        self.edge_attr = torch.tensor(self.metadata['edge_attr'], dtype=torch.float)\n",
        "        self.label = torch.tensor(self.metadata['label'], dtype=torch.int64)\n",
        "        \n",
        "        data = Data(x = self.node_features,\n",
        "                    edge_index = self.edge_index,\n",
        "                    edge_attr = self.edge_attr,\n",
        "                    y = self.label)\n",
        "\n",
        "        torch.save(data, f'{self.out_dir}/data.pt')\n",
        "\n",
        "    def len(self):\n",
        "        return self.node_features.shape[0]\n",
        "\n",
        "    def get(self):\n",
        "        data = torch.load(f'{self.out_dir}/data.pt')\n",
        "        return data"
      ],
      "metadata": {
        "id": "NpRiBSDMWsjP"
      },
      "execution_count": 53,
      "outputs": []
    },
    {
      "cell_type": "code",
      "source": [
        "new_graph_metadata = {'data': arr_feat, 'edge_index': arr_edge, 'edge_attr': all_weights[0], 'label': arr_tar}\n",
        "root = ''\n",
        "new_out_dir = 'new_graph_data'\n",
        "# os.mkdir(out_dir)\n",
        "new_metadata = new_graph_metadata\n",
        "new_dataset = NewGraphDataset(root=root, out_dir=new_out_dir, metadata=new_metadata)"
      ],
      "metadata": {
        "colab": {
          "base_uri": "https://localhost:8080/"
        },
        "id": "fdA7MWLcaYHO",
        "outputId": "277f9688-2ca3-4f1f-aa82-7fa2925c5cb7"
      },
      "execution_count": 55,
      "outputs": [
        {
          "output_type": "stream",
          "name": "stderr",
          "text": [
            "Processing...\n",
            "<ipython-input-53-7a5a261620d0>:27: UserWarning: To copy construct from a tensor, it is recommended to use sourceTensor.clone().detach() or sourceTensor.clone().detach().requires_grad_(True), rather than torch.tensor(sourceTensor).\n",
            "  self.edge_attr = torch.tensor(self.metadata['edge_attr'], dtype=torch.float)\n",
            "Done!\n"
          ]
        }
      ]
    },
    {
      "cell_type": "code",
      "source": [
        "# inspect the new graph dataset\n",
        "new_data = new_dataset.get()\n",
        "print()\n",
        "print(new_data)\n",
        "print('=============================================================')\n",
        "print(f'Number of nodes: {new_data.num_nodes}')\n",
        "print(f'Number of edges: {new_data.num_edges}')"
      ],
      "metadata": {
        "colab": {
          "base_uri": "https://localhost:8080/"
        },
        "id": "fbk5AnScagjB",
        "outputId": "29883325-c357-44f9-f8f2-b64e09220a8b"
      },
      "execution_count": 61,
      "outputs": [
        {
          "output_type": "stream",
          "name": "stdout",
          "text": [
            "\n",
            "Data(x=[7624, 7842], edge_index=[2, 27806], edge_attr=[27806, 1], y=[7624, 1])\n",
            "=============================================================\n",
            "Number of nodes: 7624\n",
            "Number of edges: 27806\n"
          ]
        }
      ]
    },
    {
      "cell_type": "code",
      "source": [
        "# simple visualization\n",
        "# 太丑了！need to export to Gephi\n",
        "G = to_networkx(new_data)\n",
        "nx.draw(G, pos=nx.spring_layout(G), node_color='#A0CBE2', edge_color='#BB0000', width=2, edge_cmap=plt.cm.Blues, with_labels=False)\n",
        "# plt.savefig('graph_fold_1.pdf')"
      ],
      "metadata": {
        "colab": {
          "base_uri": "https://localhost:8080/",
          "height": 516
        },
        "id": "_RRPQpsdbuMK",
        "outputId": "926ea884-ea20-44c3-ee2e-42c27143423a"
      },
      "execution_count": 63,
      "outputs": [
        {
          "output_type": "display_data",
          "data": {
            "text/plain": [
              "<Figure size 640x480 with 1 Axes>"
            ],
            "image/png": "[encoded data removed]"
          },
          "metadata": {}
        }
      ]
    }
  ]
}