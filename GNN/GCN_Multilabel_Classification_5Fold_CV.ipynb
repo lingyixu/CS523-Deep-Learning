{
  "nbformat": 4,
  "nbformat_minor": 0,
  "metadata": {
    "colab": {
      "provenance": [],
      "machine_shape": "hm",
      "include_colab_link": true
    },
    "kernelspec": {
      "name": "python3",
      "display_name": "Python 3"
    },
    "language_info": {
      "name": "python"
    },
    "accelerator": "GPU",
    "gpuClass": "premium"
  },
  "cells": [
    {
      "cell_type": "markdown",
      "metadata": {
        "id": "view-in-github",
        "colab_type": "text"
      },
      "source": [
        "<a href=\"https://colab.research.google.com/github/lingyixu/CS523-Deep-Learning/blob/main/GNN/GCN_Multilabel_Classification_5Fold_CV.ipynb\" target=\"_parent\"><img src=\"https://colab.research.google.com/assets/colab-badge.svg\" alt=\"Open In Colab\"/></a>"
      ]
    },
    {
      "cell_type": "markdown",
      "source": [
        "### Load packages"
      ],
      "metadata": {
        "id": "docIYKxAba5j"
      }
    },
    {
      "cell_type": "code",
      "execution_count": 1,
      "metadata": {
        "colab": {
          "base_uri": "https://localhost:8080/"
        },
        "id": "L7P6Gln1UcWV",
        "outputId": "fe5ec0df-bc63-4c1e-b437-2b24ad1814ef"
      },
      "outputs": [
        {
          "output_type": "stream",
          "name": "stdout",
          "text": [
            "2.0.0+cu118\n",
            "\u001b[2K     \u001b[90m━━━━━━━━━━━━━━━━━━━━━━━━━━━━━━━━━━━━━━━━\u001b[0m \u001b[32m10.2/10.2 MB\u001b[0m \u001b[31m10.6 MB/s\u001b[0m eta \u001b[36m0:00:00\u001b[0m\n",
            "\u001b[2K     \u001b[90m━━━━━━━━━━━━━━━━━━━━━━━━━━━━━━━━━━━━━━━━\u001b[0m \u001b[32m4.8/4.8 MB\u001b[0m \u001b[31m7.1 MB/s\u001b[0m eta \u001b[36m0:00:00\u001b[0m\n",
            "\u001b[?25h  Installing build dependencies ... \u001b[?25l\u001b[?25hdone\n",
            "  Getting requirements to build wheel ... \u001b[?25l\u001b[?25hdone\n",
            "  Preparing metadata (pyproject.toml) ... \u001b[?25l\u001b[?25hdone\n",
            "  Building wheel for torch_geometric (pyproject.toml) ... \u001b[?25l\u001b[?25hdone\n",
            "Looking in indexes: https://pypi.org/simple, https://us-python.pkg.dev/colab-wheels/public/simple/\n",
            "Collecting torchmetrics\n",
            "  Downloading torchmetrics-0.11.4-py3-none-any.whl (519 kB)\n",
            "\u001b[2K     \u001b[90m━━━━━━━━━━━━━━━━━━━━━━━━━━━━━━━━━━━━━━\u001b[0m \u001b[32m519.2/519.2 kB\u001b[0m \u001b[31m10.0 MB/s\u001b[0m eta \u001b[36m0:00:00\u001b[0m\n",
            "\u001b[?25hRequirement already satisfied: numpy>=1.17.2 in /usr/local/lib/python3.9/dist-packages (from torchmetrics) (1.22.4)\n",
            "Requirement already satisfied: packaging in /usr/local/lib/python3.9/dist-packages (from torchmetrics) (23.0)\n",
            "Requirement already satisfied: torch>=1.8.1 in /usr/local/lib/python3.9/dist-packages (from torchmetrics) (2.0.0+cu118)\n",
            "Requirement already satisfied: filelock in /usr/local/lib/python3.9/dist-packages (from torch>=1.8.1->torchmetrics) (3.11.0)\n",
            "Requirement already satisfied: jinja2 in /usr/local/lib/python3.9/dist-packages (from torch>=1.8.1->torchmetrics) (3.1.2)\n",
            "Requirement already satisfied: sympy in /usr/local/lib/python3.9/dist-packages (from torch>=1.8.1->torchmetrics) (1.11.1)\n",
            "Requirement already satisfied: triton==2.0.0 in /usr/local/lib/python3.9/dist-packages (from torch>=1.8.1->torchmetrics) (2.0.0)\n",
            "Requirement already satisfied: networkx in /usr/local/lib/python3.9/dist-packages (from torch>=1.8.1->torchmetrics) (3.1)\n",
            "Requirement already satisfied: typing-extensions in /usr/local/lib/python3.9/dist-packages (from torch>=1.8.1->torchmetrics) (4.5.0)\n",
            "Requirement already satisfied: lit in /usr/local/lib/python3.9/dist-packages (from triton==2.0.0->torch>=1.8.1->torchmetrics) (16.0.1)\n",
            "Requirement already satisfied: cmake in /usr/local/lib/python3.9/dist-packages (from triton==2.0.0->torch>=1.8.1->torchmetrics) (3.25.2)\n",
            "Requirement already satisfied: MarkupSafe>=2.0 in /usr/local/lib/python3.9/dist-packages (from jinja2->torch>=1.8.1->torchmetrics) (2.1.2)\n",
            "Requirement already satisfied: mpmath>=0.19 in /usr/local/lib/python3.9/dist-packages (from sympy->torch>=1.8.1->torchmetrics) (1.3.0)\n",
            "Installing collected packages: torchmetrics\n",
            "Successfully installed torchmetrics-0.11.4\n"
          ]
        }
      ],
      "source": [
        "import os\n",
        "import torch\n",
        "os.environ['TORCH'] = torch.__version__\n",
        "print(torch.__version__)\n",
        "\n",
        "!pip install -q torch-scatter -f https://data.pyg.org/whl/torch-${TORCH}.html\n",
        "!pip install -q torch-sparse -f https://data.pyg.org/whl/torch-${TORCH}.html\n",
        "!pip install -q git+https://github.com/pyg-team/pytorch_geometric.git\n",
        "!pip install torchmetrics"
      ]
    },
    {
      "cell_type": "code",
      "source": [
        "import torch.nn.functional as F\n",
        "import torch_geometric\n",
        "from torch_geometric.data import Dataset, Data\n",
        "from torch_geometric.loader import DataLoader\n",
        "from torch_geometric.nn import GCNConv, GATConv, global_mean_pool\n",
        "from torch_geometric.transforms import RandomNodeSplit\n",
        "from torch_geometric.utils import index_to_mask, mask_to_index\n",
        "from torchmetrics.classification import BinaryHammingDistance"
      ],
      "metadata": {
        "id": "60Uf21e2bfFS"
      },
      "execution_count": 2,
      "outputs": []
    },
    {
      "cell_type": "code",
      "source": [
        "import pandas as pd\n",
        "import numpy as np\n",
        "import json\n",
        "import glob\n",
        "import random\n",
        "import matplotlib.pyplot as plt\n",
        "%matplotlib inline\n",
        "from sklearn.manifold import TSNE\n",
        "from sklearn.model_selection import KFold, train_test_split"
      ],
      "metadata": {
        "id": "ic-3zTIOb_Y8"
      },
      "execution_count": 3,
      "outputs": []
    },
    {
      "cell_type": "code",
      "source": [
        "device = torch.device('cuda') if torch.cuda.is_available() else torch.device('cpu')\n",
        "device"
      ],
      "metadata": {
        "colab": {
          "base_uri": "https://localhost:8080/"
        },
        "id": "DUmlpmBoymWC",
        "outputId": "4db7a3d7-4b8e-44b8-c149-ebc4c7af9cc1"
      },
      "execution_count": 4,
      "outputs": [
        {
          "output_type": "execute_result",
          "data": {
            "text/plain": [
              "device(type='cuda')"
            ]
          },
          "metadata": {},
          "execution_count": 4
        }
      ]
    },
    {
      "cell_type": "code",
      "source": [
        "from google.colab import drive\n",
        "drive.mount('/content/drive')\n",
        "drive_path = '/content/drive/Shareddrives/CS523/lastFM-data/'"
      ],
      "metadata": {
        "colab": {
          "base_uri": "https://localhost:8080/"
        },
        "id": "ENNRDCAFkRNP",
        "outputId": "537fc571-245a-447a-e7df-6c8d57afe11a"
      },
      "execution_count": 5,
      "outputs": [
        {
          "output_type": "stream",
          "name": "stdout",
          "text": [
            "Mounted at /content/drive\n"
          ]
        }
      ]
    },
    {
      "cell_type": "markdown",
      "source": [
        "### Load dataset: LastFM"
      ],
      "metadata": {
        "id": "Hy92RRnibgEX"
      }
    },
    {
      "cell_type": "code",
      "source": [
        "df_feat = pd.read_json(drive_path + 'processed_feature.json')   # load features\n",
        "arr_feat = df_feat.T.values\n",
        "df_edge = pd.read_csv(drive_path + 'lastfm_asia_edges.csv')   # load edge indices\n",
        "arr_edge = df_edge.T.values\n",
        "df_tar = pd.read_csv(drive_path + 'lastfm_asia_target.csv', index_col=0)   # load targets\n",
        "arr_tar = df_tar.values\n",
        "\n",
        "num_nodes = arr_feat.shape[0]\n",
        "num_features = arr_feat.shape[1]\n",
        "num_classes = len(df_tar.target.unique())\n",
        "classes = df_tar.target.sort_values().unique()\n",
        "\n",
        "print('Dataset:')\n",
        "print('====================')\n",
        "print(f'Number of nodes: {num_nodes}')\n",
        "print(f'Number of features: {num_features}')\n",
        "print(f'Number of edges: {arr_edge.shape[1]}')\n",
        "print(f'Number of distinct regions: {num_classes}')\n",
        "print(f'All region classes: {classes}')"
      ],
      "metadata": {
        "colab": {
          "base_uri": "https://localhost:8080/"
        },
        "id": "OjZdIyqKjrM0",
        "outputId": "178ccb20-7b45-487e-d19c-94a241a95f37"
      },
      "execution_count": 6,
      "outputs": [
        {
          "output_type": "stream",
          "name": "stdout",
          "text": [
            "Dataset:\n",
            "====================\n",
            "Number of nodes: 7624\n",
            "Number of features: 7842\n",
            "Number of edges: 27806\n",
            "Number of distinct regions: 18\n",
            "All region classes: [ 0  1  2  3  4  5  6  7  8  9 10 11 12 13 14 15 16 17]\n"
          ]
        }
      ]
    },
    {
      "cell_type": "code",
      "source": [
        "graph_metadata = {'data': arr_feat, 'edge_index': arr_edge, 'label': arr_tar}"
      ],
      "metadata": {
        "id": "04Yjji1BqS8z"
      },
      "execution_count": 7,
      "outputs": []
    },
    {
      "cell_type": "markdown",
      "source": [
        "### Create GraphDataset"
      ],
      "metadata": {
        "id": "MSa2dZP0pTVo"
      }
    },
    {
      "cell_type": "code",
      "source": [
        "class GraphDataset(Dataset):\n",
        "    \n",
        "    def __init__(self, root, out_dir, metadata, transform=None, pre_transform=None, pre_filter=None):\n",
        "        self.root = root\n",
        "        self.out_dir = out_dir\n",
        "        self.metadata = metadata\n",
        "        super(GraphDataset, self).__init__(root, transform, pre_transform, pre_filter)\n",
        "\n",
        "    @property\n",
        "    def raw_file_names(self):\n",
        "        return root\n",
        "\n",
        "    @property\n",
        "    def processed_file_names(self):\n",
        "        return glob.glob(f'{self.out_dir}/*.pt')\n",
        "\n",
        "    def download(self):\n",
        "        pass\n",
        "    \n",
        "    \n",
        "    def process(self):\n",
        "\n",
        "        self.node_features = torch.tensor(self.metadata['data'], dtype=torch.float)\n",
        "        self.edge_index = torch.tensor(self.metadata['edge_index'], dtype=torch.int64)\n",
        "        self.label = torch.tensor(self.metadata['label'], dtype=torch.int64)\n",
        "        # self.all_features = torch.concat([self.node_features, self.label], dim=1)   # take region as an additional feature\n",
        "        \n",
        "        data = Data(x = self.node_features,\n",
        "                    edge_index = self.edge_index,\n",
        "                    # edge_attr = None,\n",
        "                    y = self.label)\n",
        "\n",
        "        torch.save(data, f'{self.out_dir}/data.pt')\n",
        "\n",
        "    def len(self):\n",
        "        return self.node_features.shape[0]\n",
        "\n",
        "    def get(self):\n",
        "        data = torch.load(f'{self.out_dir}/data.pt')\n",
        "        return data"
      ],
      "metadata": {
        "id": "eyvO5T5mpWZC"
      },
      "execution_count": 8,
      "outputs": []
    },
    {
      "cell_type": "code",
      "source": [
        "root = ''\n",
        "out_dir = 'graph_data'\n",
        "os.mkdir(out_dir)\n",
        "metadata = graph_metadata\n",
        "dataset = GraphDataset(root=root, out_dir=out_dir, metadata=metadata)"
      ],
      "metadata": {
        "colab": {
          "base_uri": "https://localhost:8080/"
        },
        "id": "deb4Wyu2sJzy",
        "outputId": "936dbf3b-8a9d-4ae9-82c2-6f0b191b3b6e"
      },
      "execution_count": 10,
      "outputs": [
        {
          "output_type": "stream",
          "name": "stderr",
          "text": [
            "Processing...\n",
            "Done!\n"
          ]
        }
      ]
    },
    {
      "cell_type": "code",
      "source": [
        "# inspect the graph dataset\n",
        "data = dataset.get()\n",
        "print()\n",
        "print(data)\n",
        "print('=============================================================')\n",
        "print(f'Number of nodes: {data.num_nodes}')\n",
        "print(f'Number of edges: {data.num_edges}')"
      ],
      "metadata": {
        "colab": {
          "base_uri": "https://localhost:8080/"
        },
        "id": "Q8Q_Lz4Ttpz8",
        "outputId": "69f6afe8-6691-4a7e-9f65-708ec0dcf4ab"
      },
      "execution_count": 11,
      "outputs": [
        {
          "output_type": "stream",
          "name": "stdout",
          "text": [
            "\n",
            "Data(x=[7624, 7842], edge_index=[2, 27806], y=[7624, 1])\n",
            "=============================================================\n",
            "Number of nodes: 7624\n",
            "Number of edges: 27806\n"
          ]
        }
      ]
    },
    {
      "cell_type": "code",
      "source": [
        "# set data to cuda\n",
        "data.to(device)"
      ],
      "metadata": {
        "colab": {
          "base_uri": "https://localhost:8080/"
        },
        "id": "tAOuLAcZBjwm",
        "outputId": "a44b90a5-e4ab-4427-fe51-d99f2ebb4acd"
      },
      "execution_count": 12,
      "outputs": [
        {
          "output_type": "execute_result",
          "data": {
            "text/plain": [
              "Data(x=[7624, 7842], edge_index=[2, 27806], y=[7624, 1])"
            ]
          },
          "metadata": {},
          "execution_count": 12
        }
      ]
    },
    {
      "cell_type": "markdown",
      "source": [
        "### Train/valid/test split for 5-fold cross validation"
      ],
      "metadata": {
        "id": "JA8yaxXFvx__"
      }
    },
    {
      "cell_type": "code",
      "source": [
        "def graphdataset_split(dataset, n_fold):\n",
        "\n",
        "    X = np.arange(num_nodes)\n",
        "    splits = KFold(n_fold, shuffle=True, random_state=42)   # fix the seed to make the split reproducible\n",
        "    splits.split(X)\n",
        "    \n",
        "    train_sets = []\n",
        "    valid_sets = []\n",
        "    test_sets = []\n",
        "\n",
        "    for train_index, test_index in splits.split(X):\n",
        "        train_index, valid_index = train_test_split(train_index, test_size=0.1)\n",
        "        train_sets.append(list(train_index))\n",
        "        valid_sets.append(list(valid_index))\n",
        "        test_sets.append(list(test_index))\n",
        "\n",
        "    return train_sets, valid_sets, test_sets"
      ],
      "metadata": {
        "id": "I3H03JLu7z0F"
      },
      "execution_count": 13,
      "outputs": []
    },
    {
      "cell_type": "code",
      "source": [
        "n_fold = 5\n",
        "train_sets, valid_sets, test_sets = graphdataset_split(data, n_fold)\n",
        "\n",
        "for i in range(n_fold):\n",
        "    print('================')\n",
        "    print(f'Fold {i+1}:')\n",
        "    print(f'Train nodes: {len(train_sets[i])}')\n",
        "    print(f'Valid nodes: {len(valid_sets[i])}')\n",
        "    print(f'Test nodes: {len(test_sets[i])}')"
      ],
      "metadata": {
        "colab": {
          "base_uri": "https://localhost:8080/"
        },
        "id": "URR2N_n18bcw",
        "outputId": "0a02b315-cc11-444e-abe5-ac88e6aa7556"
      },
      "execution_count": 14,
      "outputs": [
        {
          "output_type": "stream",
          "name": "stdout",
          "text": [
            "================\n",
            "Fold 1:\n",
            "Train nodes: 5489\n",
            "Valid nodes: 610\n",
            "Test nodes: 1525\n",
            "================\n",
            "Fold 2:\n",
            "Train nodes: 5489\n",
            "Valid nodes: 610\n",
            "Test nodes: 1525\n",
            "================\n",
            "Fold 3:\n",
            "Train nodes: 5489\n",
            "Valid nodes: 610\n",
            "Test nodes: 1525\n",
            "================\n",
            "Fold 4:\n",
            "Train nodes: 5489\n",
            "Valid nodes: 610\n",
            "Test nodes: 1525\n",
            "================\n",
            "Fold 5:\n",
            "Train nodes: 5490\n",
            "Valid nodes: 610\n",
            "Test nodes: 1524\n"
          ]
        }
      ]
    },
    {
      "cell_type": "code",
      "source": [
        "# create masks\n",
        "train_masks = []\n",
        "valid_masks = []\n",
        "test_masks = []\n",
        "\n",
        "for i in range(n_fold):\n",
        "    \n",
        "    train_mask = index_to_mask(torch.tensor(train_sets[i]), size=num_nodes).to(device)\n",
        "    valid_mask = index_to_mask(torch.tensor(valid_sets[i]), size=num_nodes).to(device)\n",
        "    test_mask = index_to_mask(torch.tensor(test_sets[i]), size=num_nodes).to(device)\n",
        "    \n",
        "    train_masks.append(train_mask)\n",
        "    valid_masks.append(valid_mask)\n",
        "    test_masks.append(test_mask)"
      ],
      "metadata": {
        "id": "GKHDx2GL-pHB"
      },
      "execution_count": 15,
      "outputs": []
    },
    {
      "cell_type": "markdown",
      "source": [
        "### Build GNN"
      ],
      "metadata": {
        "id": "va7_CVtBc3d8"
      }
    },
    {
      "cell_type": "code",
      "source": [
        "class GCN(torch.nn.Module):\n",
        "    \n",
        "    def __init__(self, hidden_channels1, hidden_channels2, hidden_channels3):\n",
        "        super().__init__()\n",
        "        self.conv1 = GCNConv(num_features, hidden_channels1)\n",
        "        self.conv2 = GCNConv(hidden_channels1, hidden_channels2)\n",
        "        self.conv3 = GCNConv(hidden_channels2, hidden_channels3)\n",
        "        self.linear = torch.nn.Linear(hidden_channels3, num_features)\n",
        "\n",
        "    def forward(self, x, edge_index, train_mask):\n",
        "\n",
        "        # out = torch.zeros_like(x)\n",
        "        train_nodes = mask_to_index(train_mask)\n",
        "        untrain_nodes = mask_to_index(~train_mask)\n",
        "        x_masked = x.clone()\n",
        "        x_masked[untrain_nodes] = -1   # set all un-training node features to -1\n",
        "\n",
        "        out = self.conv1(x_masked, edge_index)\n",
        "        out = out.relu()\n",
        "        out = self.conv2(out, edge_index)\n",
        "        out = out.relu()\n",
        "        out = self.conv3(out, edge_index)\n",
        "        out = out.relu()\n",
        "        x = F.dropout(x, p=0.5)\n",
        "        out = self.linear(out)\n",
        "        out = out.sigmoid()\n",
        "        return out"
      ],
      "metadata": {
        "id": "XGxTkf2iVzuQ"
      },
      "execution_count": 25,
      "outputs": []
    },
    {
      "cell_type": "code",
      "source": [
        "criterion = torch.nn.BCEWithLogitsLoss()"
      ],
      "metadata": {
        "id": "RyeLJOYR1yDt"
      },
      "execution_count": 26,
      "outputs": []
    },
    {
      "cell_type": "code",
      "source": [
        "# model = GCN(4096, 4096, 2048, train_masks[0], valid_masks[0])\n",
        "# model.to(device)\n",
        "# optimizer = torch.optim.Adam(model.parameters(), lr=2e-4, weight_decay=5e-4)\n",
        "# out = model(data.x, data.edge_index)\n",
        "# loss = criterion(out[test_mask], data.x[test_mask]).cpu().detach().item()\n",
        "# metric = BinaryHammingDistance(task='multilabel', num_labels=2).to(device)\n",
        "# acc = 1 - metric(out[valid_masks[0]], data.x[valid_masks[0]])"
      ],
      "metadata": {
        "id": "iqRoGX5eScA3"
      },
      "execution_count": 18,
      "outputs": []
    },
    {
      "cell_type": "markdown",
      "source": [
        "### Model training and testing"
      ],
      "metadata": {
        "id": "EP4Yu0qvMVv-"
      }
    },
    {
      "cell_type": "code",
      "source": [
        "# set params\n",
        "hidden_channels1 = 4096\n",
        "hidden_channels2 = 4096\n",
        "hidden_channels3 = 2048\n",
        "lr = 2e-4\n",
        "weight_decay = 5e-4\n",
        "epoch = 20\n",
        "save_results = False"
      ],
      "metadata": {
        "id": "lF9kvasrBgSZ"
      },
      "execution_count": 27,
      "outputs": []
    },
    {
      "cell_type": "code",
      "source": [
        "def train(model, train_mask, test_mask):   # use test_mask for backprop only\n",
        "    model.train()\n",
        "    optimizer.zero_grad()\n",
        "    out = model(data.x, data.edge_index, train_mask)\n",
        "    loss = criterion(out[test_mask], data.x[test_mask])\n",
        "    loss.backward()\n",
        "    optimizer.step()\n",
        "    # return loss.detach().cpu().item()\n",
        "\n",
        "def test(model, train_mask, test_mask):   # use test_mask for calculating accuracy only\n",
        "    model.eval()\n",
        "    out = model(data.x, data.edge_index, train_mask)\n",
        "    loss = criterion(out[test_mask], data.x[test_mask]).cpu().detach().item()\n",
        "    metric = BinaryHammingDistance(task='multilabel', num_labels=2).to(device)   # measure average disagreement in a binary task\n",
        "    acc = 1 - metric(out[test_mask], data.x[test_mask])\n",
        "    return out, loss, acc.cpu().item()"
      ],
      "metadata": {
        "id": "TrQrdyzdddCA"
      },
      "execution_count": 28,
      "outputs": []
    },
    {
      "cell_type": "code",
      "source": [
        "# cross validation\n",
        "train_acc_all = []\n",
        "test_acc_all = []\n",
        "train_loss_all = []\n",
        "test_loss_all = []\n",
        "\n",
        "for i in range(n_fold):   # loop through folds\n",
        "\n",
        "    print(f'===== Fold {i+1} ======')\n",
        "    \n",
        "    # initialize model and optimizer\n",
        "    model = GCN(hidden_channels1, hidden_channels2, hidden_channels3)\n",
        "    model.to(device)\n",
        "    optimizer = torch.optim.Adam(model.parameters(), lr=lr, weight_decay=weight_decay)\n",
        "\n",
        "    # accuracy per epoch\n",
        "    train_acc_epoch = []\n",
        "    test_acc_epoch = []\n",
        "    # loss per epoch\n",
        "    train_loss_epoch = []\n",
        "    test_loss_epoch = []\n",
        "\n",
        "    for e in range(epoch):   # loop through epochs\n",
        "        \n",
        "        train(model, train_masks[i], valid_masks[i])\n",
        "        _, train_loss, train_acc = test(model, train_masks[i], valid_masks[i])\n",
        "        out, test_loss, test_acc = test(model, train_masks[i], test_masks[i])\n",
        "        \n",
        "        # save loss and accuracy history\n",
        "        train_acc_epoch.append(train_acc)\n",
        "        test_acc_epoch.append(test_acc)\n",
        "        train_loss_epoch.append(train_loss)\n",
        "        test_loss_epoch.append(test_loss)\n",
        "                \n",
        "        # save model and output\n",
        "        if (e == epoch-1) and (save_results==True):\n",
        "            torch.save(model, f'/content/drive/Shareddrives/CS523/Notebooks/model/GCN/fold_{i+1}.pt')\n",
        "            torch.save(out, f'/content/drive/Shareddrives/CS523/Notebooks/output/GCN/fold_{i+1}.pt')\n",
        "\n",
        "        print(f'Epoch: {e+1:02d}, Train loss: {train_loss:.4f}, Test loss: {test_loss:.4f}')\n",
        "\n",
        "        torch.cuda.empty_cache()\n",
        "\n",
        "    train_acc_all.append(train_acc_epoch)\n",
        "    test_acc_all.append(test_acc_epoch)\n",
        "    train_loss_all.append(train_loss_epoch)\n",
        "    test_loss_all.append(test_loss_epoch)"
      ],
      "metadata": {
        "colab": {
          "base_uri": "https://localhost:8080/"
        },
        "id": "c1SphvGDBFzw",
        "outputId": "1c164530-435c-498d-a8ab-7d5f01203887"
      },
      "execution_count": 29,
      "outputs": [
        {
          "output_type": "stream",
          "name": "stdout",
          "text": [
            "===== Fold 1 ======\n",
            "Epoch: 01, Train loss: 0.9324, Test loss: 0.9324\n",
            "Epoch: 02, Train loss: 0.8992, Test loss: 0.8988\n",
            "Epoch: 03, Train loss: 0.8454, Test loss: 0.8448\n",
            "Epoch: 04, Train loss: 0.7882, Test loss: 0.7881\n",
            "Epoch: 05, Train loss: 0.7444, Test loss: 0.7450\n",
            "Epoch: 06, Train loss: 0.7178, Test loss: 0.7187\n",
            "Epoch: 07, Train loss: 0.7043, Test loss: 0.7050\n",
            "Epoch: 08, Train loss: 0.6982, Test loss: 0.6987\n",
            "Epoch: 09, Train loss: 0.6957, Test loss: 0.6960\n",
            "Epoch: 10, Train loss: 0.6947, Test loss: 0.6948\n",
            "Epoch: 11, Train loss: 0.6942, Test loss: 0.6942\n",
            "Epoch: 12, Train loss: 0.6939, Test loss: 0.6940\n",
            "Epoch: 13, Train loss: 0.6938, Test loss: 0.6938\n",
            "Epoch: 14, Train loss: 0.6937, Test loss: 0.6937\n",
            "Epoch: 15, Train loss: 0.6936, Test loss: 0.6936\n",
            "Epoch: 16, Train loss: 0.6936, Test loss: 0.6935\n",
            "Epoch: 17, Train loss: 0.6935, Test loss: 0.6935\n",
            "Epoch: 18, Train loss: 0.6935, Test loss: 0.6935\n",
            "Epoch: 19, Train loss: 0.6935, Test loss: 0.6935\n",
            "Epoch: 20, Train loss: 0.6935, Test loss: 0.6935\n",
            "===== Fold 2 ======\n",
            "Epoch: 01, Train loss: 0.9357, Test loss: 0.9364\n",
            "Epoch: 02, Train loss: 0.9074, Test loss: 0.9078\n",
            "Epoch: 03, Train loss: 0.8582, Test loss: 0.8580\n",
            "Epoch: 04, Train loss: 0.8021, Test loss: 0.8013\n",
            "Epoch: 05, Train loss: 0.7558, Test loss: 0.7547\n",
            "Epoch: 06, Train loss: 0.7256, Test loss: 0.7246\n",
            "Epoch: 07, Train loss: 0.7091, Test loss: 0.7083\n",
            "Epoch: 08, Train loss: 0.7013, Test loss: 0.7007\n",
            "Epoch: 09, Train loss: 0.6976, Test loss: 0.6973\n",
            "Epoch: 10, Train loss: 0.6957, Test loss: 0.6956\n",
            "Epoch: 11, Train loss: 0.6948, Test loss: 0.6947\n",
            "Epoch: 12, Train loss: 0.6943, Test loss: 0.6943\n",
            "Epoch: 13, Train loss: 0.6940, Test loss: 0.6940\n",
            "Epoch: 14, Train loss: 0.6938, Test loss: 0.6938\n",
            "Epoch: 15, Train loss: 0.6937, Test loss: 0.6937\n",
            "Epoch: 16, Train loss: 0.6936, Test loss: 0.6937\n",
            "Epoch: 17, Train loss: 0.6935, Test loss: 0.6936\n",
            "Epoch: 18, Train loss: 0.6935, Test loss: 0.6936\n",
            "Epoch: 19, Train loss: 0.6935, Test loss: 0.6936\n",
            "Epoch: 20, Train loss: 0.6935, Test loss: 0.6936\n",
            "===== Fold 3 ======\n",
            "Epoch: 01, Train loss: 0.9346, Test loss: 0.9341\n",
            "Epoch: 02, Train loss: 0.9058, Test loss: 0.9045\n",
            "Epoch: 03, Train loss: 0.8566, Test loss: 0.8541\n",
            "Epoch: 04, Train loss: 0.8014, Test loss: 0.7982\n",
            "Epoch: 05, Train loss: 0.7561, Test loss: 0.7530\n",
            "Epoch: 06, Train loss: 0.7260, Test loss: 0.7233\n",
            "Epoch: 07, Train loss: 0.7096, Test loss: 0.7074\n",
            "Epoch: 08, Train loss: 0.7016, Test loss: 0.6999\n",
            "Epoch: 09, Train loss: 0.6980, Test loss: 0.6966\n",
            "Epoch: 10, Train loss: 0.6961, Test loss: 0.6952\n",
            "Epoch: 11, Train loss: 0.6951, Test loss: 0.6944\n",
            "Epoch: 12, Train loss: 0.6945, Test loss: 0.6940\n",
            "Epoch: 13, Train loss: 0.6942, Test loss: 0.6938\n",
            "Epoch: 14, Train loss: 0.6939, Test loss: 0.6937\n",
            "Epoch: 15, Train loss: 0.6938, Test loss: 0.6936\n",
            "Epoch: 16, Train loss: 0.6937, Test loss: 0.6935\n",
            "Epoch: 17, Train loss: 0.6937, Test loss: 0.6935\n",
            "Epoch: 18, Train loss: 0.6936, Test loss: 0.6935\n",
            "Epoch: 19, Train loss: 0.6936, Test loss: 0.6935\n",
            "Epoch: 20, Train loss: 0.6936, Test loss: 0.6934\n",
            "===== Fold 4 ======\n",
            "Epoch: 01, Train loss: 0.9346, Test loss: 0.9347\n",
            "Epoch: 02, Train loss: 0.9024, Test loss: 0.9021\n",
            "Epoch: 03, Train loss: 0.8494, Test loss: 0.8484\n",
            "Epoch: 04, Train loss: 0.7919, Test loss: 0.7911\n",
            "Epoch: 05, Train loss: 0.7471, Test loss: 0.7471\n",
            "Epoch: 06, Train loss: 0.7195, Test loss: 0.7200\n",
            "Epoch: 07, Train loss: 0.7055, Test loss: 0.7059\n",
            "Epoch: 08, Train loss: 0.6992, Test loss: 0.6995\n",
            "Epoch: 09, Train loss: 0.6964, Test loss: 0.6965\n",
            "Epoch: 10, Train loss: 0.6952, Test loss: 0.6953\n",
            "Epoch: 11, Train loss: 0.6945, Test loss: 0.6946\n",
            "Epoch: 12, Train loss: 0.6941, Test loss: 0.6941\n",
            "Epoch: 13, Train loss: 0.6938, Test loss: 0.6939\n",
            "Epoch: 14, Train loss: 0.6937, Test loss: 0.6937\n",
            "Epoch: 15, Train loss: 0.6936, Test loss: 0.6936\n",
            "Epoch: 16, Train loss: 0.6935, Test loss: 0.6936\n",
            "Epoch: 17, Train loss: 0.6935, Test loss: 0.6935\n",
            "Epoch: 18, Train loss: 0.6935, Test loss: 0.6935\n",
            "Epoch: 19, Train loss: 0.6935, Test loss: 0.6935\n",
            "Epoch: 20, Train loss: 0.6935, Test loss: 0.6935\n",
            "===== Fold 5 ======\n",
            "Epoch: 01, Train loss: 0.9363, Test loss: 0.9359\n",
            "Epoch: 02, Train loss: 0.9081, Test loss: 0.9075\n",
            "Epoch: 03, Train loss: 0.8597, Test loss: 0.8580\n",
            "Epoch: 04, Train loss: 0.8049, Test loss: 0.8014\n",
            "Epoch: 05, Train loss: 0.7591, Test loss: 0.7542\n",
            "Epoch: 06, Train loss: 0.7281, Test loss: 0.7231\n",
            "Epoch: 07, Train loss: 0.7106, Test loss: 0.7066\n",
            "Epoch: 08, Train loss: 0.7020, Test loss: 0.6991\n",
            "Epoch: 09, Train loss: 0.6980, Test loss: 0.6960\n",
            "Epoch: 10, Train loss: 0.6961, Test loss: 0.6947\n",
            "Epoch: 11, Train loss: 0.6951, Test loss: 0.6941\n",
            "Epoch: 12, Train loss: 0.6945, Test loss: 0.6938\n",
            "Epoch: 13, Train loss: 0.6942, Test loss: 0.6936\n",
            "Epoch: 14, Train loss: 0.6939, Test loss: 0.6934\n",
            "Epoch: 15, Train loss: 0.6937, Test loss: 0.6934\n",
            "Epoch: 16, Train loss: 0.6936, Test loss: 0.6933\n",
            "Epoch: 17, Train loss: 0.6936, Test loss: 0.6933\n",
            "Epoch: 18, Train loss: 0.6935, Test loss: 0.6933\n",
            "Epoch: 19, Train loss: 0.6935, Test loss: 0.6933\n",
            "Epoch: 20, Train loss: 0.6935, Test loss: 0.6933\n"
          ]
        }
      ]
    },
    {
      "cell_type": "code",
      "source": [
        "# plot train and test loss\n",
        "fig, ax = plt.subplots(figsize=(10,4))\n",
        "colors = ['#0343DF', '#E50000', '#008000', '#DDA0DD', '#FFA500']\n",
        "for i in range(n_fold):\n",
        "    ax.plot(range(1,len(train_loss_all[i])+1), train_loss_all[i], '-x', markersize=4, label=f'train_fold_{i+1}', color=colors[i])\n",
        "    ax.plot(range(1,len(test_loss_all[i])+1), test_loss_all[i], '-o', markersize=4, label=f'test_fold_{i+1}', color=colors[i])\n",
        "ax.set_xticks(np.arange(1, epoch+1))\n",
        "ax.grid()\n",
        "ax.set_title('Train and test loss')\n",
        "ax.set_xlabel('epochs')\n",
        "fig.legend()\n",
        "fig.show()"
      ],
      "metadata": {
        "colab": {
          "base_uri": "https://localhost:8080/",
          "height": 429
        },
        "id": "yO4qcMphDW9C",
        "outputId": "74f31ce2-8610-46d6-8c7c-ce753ae80de2"
      },
      "execution_count": 30,
      "outputs": [
        {
          "output_type": "display_data",
          "data": {
            "text/plain": [
              "<Figure size 1000x400 with 1 Axes>"
            ],
            "image/png": "[encoded data removed]"
          },
          "metadata": {}
        }
      ]
    },
    {
      "cell_type": "code",
      "source": [
        "# plot train and test accuracy\n",
        "fig, ax = plt.subplots(figsize=(10,4))\n",
        "for i in range(n_fold):\n",
        "    ax.plot(range(1,len(train_acc_all[i])+1), train_acc_all[i], '-x', markersize=4, label=f'train_fold_{i+1}', color=colors[i])\n",
        "    ax.plot(range(1,len(test_acc_all[i])+1), test_acc_all[i], '-o', markersize=4, label=f'test_fold_{i+1}', color=colors[i])\n",
        "ax.set_xticks(np.arange(1, epoch+1))\n",
        "ax.grid()\n",
        "ax.set_title('Train and test accuracy')\n",
        "ax.set_xlabel('epochs')\n",
        "fig.legend()\n",
        "fig.show()"
      ],
      "metadata": {
        "colab": {
          "base_uri": "https://localhost:8080/",
          "height": 429
        },
        "id": "_kCUMlAvERSN",
        "outputId": "49bcf0b3-8803-4671-c6b5-c38678d89b74"
      },
      "execution_count": 31,
      "outputs": [
        {
          "output_type": "display_data",
          "data": {
            "text/plain": [
              "<Figure size 1000x400 with 1 Axes>"
            ],
            "image/png": "[encoded data removed]"
          },
          "metadata": {}
        }
      ]
    },
    {
      "cell_type": "code",
      "source": [
        "# print out average accuracy\n",
        "acc_list = []\n",
        "for i in range(n_fold):\n",
        "    acc = test_acc_all[i][-1]\n",
        "    acc_list.append(acc)\n",
        "    print(f'Fold {i+1} test accuracy: {acc:.4f}')\n",
        "print(f'Average accuracy: {np.mean(acc_list):.4f}')"
      ],
      "metadata": {
        "colab": {
          "base_uri": "https://localhost:8080/"
        },
        "id": "01_jysLrEoyw",
        "outputId": "9bbe1639-3312-45cc-c52b-3240f5d601d7"
      },
      "execution_count": 32,
      "outputs": [
        {
          "output_type": "stream",
          "name": "stdout",
          "text": [
            "Fold 1 test accuracy: 0.9484\n",
            "Fold 2 test accuracy: 0.9502\n",
            "Fold 3 test accuracy: 0.9489\n",
            "Fold 4 test accuracy: 0.9506\n",
            "Fold 5 test accuracy: 0.9503\n",
            "Average accuracy: 0.9497\n"
          ]
        }
      ]
    }
  ]
}