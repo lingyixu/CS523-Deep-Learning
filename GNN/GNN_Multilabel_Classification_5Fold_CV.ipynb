{
  "nbformat": 4,
  "nbformat_minor": 0,
  "metadata": {
    "colab": {
      "provenance": [],
      "machine_shape": "hm",
      "include_colab_link": true
    },
    "kernelspec": {
      "name": "python3",
      "display_name": "Python 3"
    },
    "language_info": {
      "name": "python"
    },
    "accelerator": "GPU",
    "gpuClass": "premium"
  },
  "cells": [
    {
      "cell_type": "markdown",
      "metadata": {
        "id": "view-in-github",
        "colab_type": "text"
      },
      "source": [
        "<a href=\"https://colab.research.google.com/github/lingyixu/CS523-Deep-Learning/blob/main/GNN/GNN_Multilabel_Classification_5Fold_CV.ipynb\" target=\"_parent\"><img src=\"https://colab.research.google.com/assets/colab-badge.svg\" alt=\"Open In Colab\"/></a>"
      ]
    },
    {
      "cell_type": "markdown",
      "source": [
        "### Load packages"
      ],
      "metadata": {
        "id": "docIYKxAba5j"
      }
    },
    {
      "cell_type": "code",
      "execution_count": 1,
      "metadata": {
        "colab": {
          "base_uri": "https://localhost:8080/"
        },
        "id": "L7P6Gln1UcWV",
        "outputId": "55470bd6-0a45-44f0-e0f6-8e7544448092"
      },
      "outputs": [
        {
          "output_type": "stream",
          "name": "stdout",
          "text": [
            "2.0.0+cu118\n"
          ]
        }
      ],
      "source": [
        "import os\n",
        "import torch\n",
        "os.environ['TORCH'] = torch.__version__\n",
        "print(torch.__version__)\n",
        "\n",
        "# !pip install -q torch-scatter -f https://data.pyg.org/whl/torch-${TORCH}.html\n",
        "# !pip install -q torch-sparse -f https://data.pyg.org/whl/torch-${TORCH}.html\n",
        "# !pip install -q git+https://github.com/pyg-team/pytorch_geometric.git\n",
        "# !pip install torchmetrics"
      ]
    },
    {
      "cell_type": "code",
      "source": [
        "import torch.nn.functional as F\n",
        "import torch_geometric\n",
        "from torch_geometric.data import Dataset, Data\n",
        "from torch_geometric.loader import DataLoader\n",
        "from torch_geometric.nn import GCNConv, GATConv, global_mean_pool\n",
        "from torch_geometric.transforms import RandomNodeSplit\n",
        "from torchmetrics.classification import BinaryHammingDistance"
      ],
      "metadata": {
        "id": "60Uf21e2bfFS"
      },
      "execution_count": 2,
      "outputs": []
    },
    {
      "cell_type": "code",
      "source": [
        "import pandas as pd\n",
        "import numpy as np\n",
        "import json\n",
        "import glob\n",
        "%matplotlib inline\n",
        "import matplotlib.pyplot as plt\n",
        "from sklearn.manifold import TSNE\n",
        "from sklearn.model_selection import KFold"
      ],
      "metadata": {
        "id": "ic-3zTIOb_Y8"
      },
      "execution_count": 3,
      "outputs": []
    },
    {
      "cell_type": "code",
      "source": [
        "device = torch.device('cuda') if torch.cuda.is_available() else torch.device('cpu')\n",
        "device"
      ],
      "metadata": {
        "colab": {
          "base_uri": "https://localhost:8080/"
        },
        "id": "DUmlpmBoymWC",
        "outputId": "2ed2f42a-ea08-482e-be42-6ac895971c42"
      },
      "execution_count": 4,
      "outputs": [
        {
          "output_type": "execute_result",
          "data": {
            "text/plain": [
              "device(type='cuda')"
            ]
          },
          "metadata": {},
          "execution_count": 4
        }
      ]
    },
    {
      "cell_type": "code",
      "source": [
        "from google.colab import drive\n",
        "drive.mount('/content/drive')\n",
        "drive_path = '/content/drive/Shareddrives/CS523/lastFM-data/'"
      ],
      "metadata": {
        "colab": {
          "base_uri": "https://localhost:8080/"
        },
        "id": "ENNRDCAFkRNP",
        "outputId": "ffaf6539-8e59-438a-9f02-de7c0d1f0af1"
      },
      "execution_count": 5,
      "outputs": [
        {
          "output_type": "stream",
          "name": "stdout",
          "text": [
            "Drive already mounted at /content/drive; to attempt to forcibly remount, call drive.mount(\"/content/drive\", force_remount=True).\n"
          ]
        }
      ]
    },
    {
      "cell_type": "markdown",
      "source": [
        "### Load dataset: LastFM"
      ],
      "metadata": {
        "id": "Hy92RRnibgEX"
      }
    },
    {
      "cell_type": "code",
      "source": [
        "df_feat = pd.read_json(drive_path + 'processed_feature.json')   # load features\n",
        "arr_feat = df_feat.T.values\n",
        "df_edge = pd.read_csv(drive_path + 'lastfm_asia_edges.csv')   # load edge indices\n",
        "arr_edge = df_edge.T.values\n",
        "df_tar = pd.read_csv(drive_path + 'lastfm_asia_target.csv', index_col=0)   # load targets\n",
        "arr_tar = df_tar.values\n",
        "\n",
        "num_nodes = arr_feat.shape[0]\n",
        "num_features = arr_feat.shape[1]\n",
        "num_classes = len(df_tar.target.unique())\n",
        "classes = df_tar.target.sort_values().unique()\n",
        "\n",
        "print('Dataset:')\n",
        "print('====================')\n",
        "print(f'Number of nodes: {num_nodes}')\n",
        "print(f'Number of features: {num_features}')\n",
        "print(f'Number of edges: {arr_edge.shape[1]}')\n",
        "print(f'Number of distinct regions: {num_classes}')\n",
        "print(f'All region classes: {classes}')"
      ],
      "metadata": {
        "colab": {
          "base_uri": "https://localhost:8080/"
        },
        "id": "OjZdIyqKjrM0",
        "outputId": "7c1f4218-6218-4968-aa6b-5e94e0f0f50d"
      },
      "execution_count": 6,
      "outputs": [
        {
          "output_type": "stream",
          "name": "stdout",
          "text": [
            "Dataset:\n",
            "====================\n",
            "Number of nodes: 7624\n",
            "Number of features: 7842\n",
            "Number of edges: 27806\n",
            "Number of distinct regions: 18\n",
            "All region classes: [ 0  1  2  3  4  5  6  7  8  9 10 11 12 13 14 15 16 17]\n"
          ]
        }
      ]
    },
    {
      "cell_type": "code",
      "source": [
        "graph_metadata = {'data': arr_feat, 'edge_index': arr_edge, 'label': arr_tar}"
      ],
      "metadata": {
        "id": "04Yjji1BqS8z"
      },
      "execution_count": 7,
      "outputs": []
    },
    {
      "cell_type": "markdown",
      "source": [
        "### Create GraphDataset"
      ],
      "metadata": {
        "id": "MSa2dZP0pTVo"
      }
    },
    {
      "cell_type": "code",
      "source": [
        "class GraphDataset(Dataset):\n",
        "    \n",
        "    def __init__(self, root, out_dir, metadata, transform=None, pre_transform=None, pre_filter=None):\n",
        "        self.root = root\n",
        "        self.out_dir = out_dir\n",
        "        self.metadata = metadata\n",
        "        super(GraphDataset, self).__init__(root, transform, pre_transform, pre_filter)\n",
        "\n",
        "    @property\n",
        "    def raw_file_names(self):\n",
        "        return root\n",
        "\n",
        "    @property\n",
        "    def processed_file_names(self):\n",
        "        return glob.glob(f'{self.out_dir}/*.pt')\n",
        "\n",
        "    def download(self):\n",
        "        pass\n",
        "    \n",
        "    \n",
        "    def process(self):\n",
        "\n",
        "        self.node_features = torch.tensor(self.metadata['data'], dtype=torch.float)\n",
        "        self.edge_index = torch.tensor(self.metadata['edge_index'], dtype=torch.int64)\n",
        "        self.label = torch.tensor(self.metadata['label'], dtype=torch.int64)\n",
        "        # self.all_features = torch.concat([self.node_features, self.label], dim=1)   # take region as an additional feature\n",
        "        \n",
        "        data = Data(x = self.node_features,\n",
        "                    edge_index = self.edge_index,\n",
        "                    # edge_attr = None,\n",
        "                    y = self.label)\n",
        "\n",
        "        torch.save(data, f'{self.out_dir}/data.pt')\n",
        "\n",
        "    def len(self):\n",
        "        return self.node_features.shape[0]\n",
        "\n",
        "    def get(self):\n",
        "        data = torch.load(f'{self.out_dir}/data.pt')\n",
        "        return data"
      ],
      "metadata": {
        "id": "eyvO5T5mpWZC"
      },
      "execution_count": 8,
      "outputs": []
    },
    {
      "cell_type": "code",
      "source": [
        "root = ''\n",
        "out_dir = 'graph_data'\n",
        "# os.mkdir(out_dir)\n",
        "metadata = graph_metadata\n",
        "dataset = GraphDataset(root=root, out_dir=out_dir, metadata=metadata)"
      ],
      "metadata": {
        "colab": {
          "base_uri": "https://localhost:8080/"
        },
        "id": "deb4Wyu2sJzy",
        "outputId": "71f9b86f-e352-4ca3-8b52-abe332992e1f"
      },
      "execution_count": 9,
      "outputs": [
        {
          "output_type": "stream",
          "name": "stderr",
          "text": [
            "Processing...\n",
            "Done!\n"
          ]
        }
      ]
    },
    {
      "cell_type": "code",
      "source": [
        "# inspect the graph dataset\n",
        "data = dataset.get()\n",
        "print()\n",
        "print(data)\n",
        "print('=============================================================')\n",
        "print(f'Number of nodes: {data.num_nodes}')\n",
        "print(f'Number of edges: {data.num_edges}')"
      ],
      "metadata": {
        "colab": {
          "base_uri": "https://localhost:8080/"
        },
        "id": "Q8Q_Lz4Ttpz8",
        "outputId": "17bd4d05-f204-4309-9565-da96db6b7cf0"
      },
      "execution_count": 10,
      "outputs": [
        {
          "output_type": "stream",
          "name": "stdout",
          "text": [
            "\n",
            "Data(x=[7624, 7842], edge_index=[2, 27806], y=[7624, 1])\n",
            "=============================================================\n",
            "Number of nodes: 7624\n",
            "Number of edges: 27806\n"
          ]
        }
      ]
    },
    {
      "cell_type": "code",
      "source": [
        "# set data to cuda\n",
        "data.to(device)"
      ],
      "metadata": {
        "colab": {
          "base_uri": "https://localhost:8080/"
        },
        "id": "tAOuLAcZBjwm",
        "outputId": "1880f16c-8980-441e-e1d5-1b3555e3f4b9"
      },
      "execution_count": 11,
      "outputs": [
        {
          "output_type": "execute_result",
          "data": {
            "text/plain": [
              "Data(x=[7624, 7842], edge_index=[2, 27806], y=[7624, 1])"
            ]
          },
          "metadata": {},
          "execution_count": 11
        }
      ]
    },
    {
      "cell_type": "markdown",
      "source": [
        "### Train/test split for 5-fold cross validation"
      ],
      "metadata": {
        "id": "JA8yaxXFvx__"
      }
    },
    {
      "cell_type": "code",
      "source": [
        "def graphdataset_split(dataset, n_fold):\n",
        "\n",
        "    X = np.arange(num_nodes)\n",
        "    splits = KFold(n_fold, shuffle=True, random_state=42)\n",
        "    splits.split(X)\n",
        "    \n",
        "    train_sets = []\n",
        "    test_sets = []\n",
        "\n",
        "    for train_index, test_index in splits.split(X):\n",
        "        train_sets.append(list(train_index))\n",
        "        test_sets.append(list(test_index))\n",
        "\n",
        "    return train_sets, test_sets"
      ],
      "metadata": {
        "id": "I3H03JLu7z0F"
      },
      "execution_count": 12,
      "outputs": []
    },
    {
      "cell_type": "code",
      "source": [
        "n_fold = 5\n",
        "train_sets, test_sets = graphdataset_split(data, n_fold)\n",
        "\n",
        "for i in range(n_fold):\n",
        "    print('================')\n",
        "    print(f'Fold {i+1}:')\n",
        "    print(f'Training nodes: {len(train_sets[i])}')\n",
        "    print(f'Test nodes: {len(test_sets[i])}')"
      ],
      "metadata": {
        "colab": {
          "base_uri": "https://localhost:8080/"
        },
        "id": "URR2N_n18bcw",
        "outputId": "0ae16b76-37ff-4ba0-c601-1e1021a7a08a"
      },
      "execution_count": 13,
      "outputs": [
        {
          "output_type": "stream",
          "name": "stdout",
          "text": [
            "================\n",
            "Fold 1:\n",
            "Training nodes: 6099\n",
            "Test nodes: 1525\n",
            "================\n",
            "Fold 2:\n",
            "Training nodes: 6099\n",
            "Test nodes: 1525\n",
            "================\n",
            "Fold 3:\n",
            "Training nodes: 6099\n",
            "Test nodes: 1525\n",
            "================\n",
            "Fold 4:\n",
            "Training nodes: 6099\n",
            "Test nodes: 1525\n",
            "================\n",
            "Fold 5:\n",
            "Training nodes: 6100\n",
            "Test nodes: 1524\n"
          ]
        }
      ]
    },
    {
      "cell_type": "code",
      "source": [
        "# create masks\n",
        "train_masks = []\n",
        "test_masks = []\n",
        "\n",
        "for i in range(n_fold):\n",
        "    train_mask = np.zeros(num_nodes, dtype=bool)\n",
        "    train_mask.put(train_sets[i], True)\n",
        "    test_mask = np.zeros(num_nodes, dtype=bool)\n",
        "    test_mask.put(test_sets[i], True)\n",
        "    train_masks.append(torch.tensor(train_mask).to(device))\n",
        "    test_masks.append(torch.tensor(test_mask).to(device))"
      ],
      "metadata": {
        "id": "GKHDx2GL-pHB"
      },
      "execution_count": 14,
      "outputs": []
    },
    {
      "cell_type": "markdown",
      "source": [
        "### Build GNN"
      ],
      "metadata": {
        "id": "va7_CVtBc3d8"
      }
    },
    {
      "cell_type": "code",
      "source": [
        "class GCN(torch.nn.Module):\n",
        "    def __init__(self, hidden_channels1, hidden_channels2, hidden_channels3):\n",
        "        super().__init__()\n",
        "        # torch.manual_seed(42)\n",
        "        self.conv1 = GCNConv(num_features, hidden_channels1)\n",
        "        self.conv2 = GCNConv(hidden_channels1, hidden_channels2)\n",
        "        self.conv3 = GCNConv(hidden_channels2, hidden_channels3)\n",
        "        self.linear = torch.nn.Linear(hidden_channels3, num_features)\n",
        "\n",
        "    def forward(self, x, edge_index):\n",
        "        \n",
        "        # out = torch.zeros_like(x)\n",
        "        # for i in range(x.shape[0]):\n",
        "        #     # mask = torch.ones(x.shape[0], dtype=torch.bool)   # a node mask\n",
        "        #     # mask[i] = False   # mask out a single node - the node for prediction\n",
        "        #     # x_masked = x[mask]\n",
        "        #     x_masked = x\n",
        "        #     x_masked[i] = 0   #-1\n",
        "        #     outi = self.conv1(x_masked, edge_index)\n",
        "        #     outi = outi.relu()\n",
        "        #     outi = self.conv2(outi, edge_index)\n",
        "        #     outi = outi.relu()\n",
        "        #     outi = self.conv3(outi, edge_index)\n",
        "        #     outi = outi.relu()\n",
        "        #     outi = self.linear(outi)[i]\n",
        "        #     outi = outi.sigmoid()\n",
        "        #     out[i] = outi\n",
        "        # return out\n",
        "\n",
        "        x = self.conv1(x, edge_index)\n",
        "        x = x.relu()\n",
        "        x = self.conv2(x, edge_index)\n",
        "        x = x.relu()\n",
        "        x = self.conv3(x, edge_index)\n",
        "        x = x.relu()\n",
        "        x = F.dropout(x, p=0.5)\n",
        "        x = self.linear(x)\n",
        "        x = x.sigmoid()\n",
        "        return x"
      ],
      "metadata": {
        "id": "XGxTkf2iVzuQ"
      },
      "execution_count": 16,
      "outputs": []
    },
    {
      "cell_type": "code",
      "source": [
        "criterion = torch.nn.BCEWithLogitsLoss()"
      ],
      "metadata": {
        "id": "RyeLJOYR1yDt"
      },
      "execution_count": 17,
      "outputs": []
    },
    {
      "cell_type": "code",
      "source": [
        "def train(model, mask):\n",
        "    model.train()\n",
        "    optimizer.zero_grad()\n",
        "    out = model(data.x, data.edge_index)\n",
        "    loss = criterion(out[mask], data.x[mask])\n",
        "    loss.backward()\n",
        "    optimizer.step()\n",
        "    # return loss.detach().cpu().item()\n",
        "\n",
        "def test(model, mask):\n",
        "    model.eval()\n",
        "    out = model(data.x, data.edge_index)\n",
        "    loss = criterion(out[mask], data.x[mask]).cpu().detach().item()\n",
        "    metric = BinaryHammingDistance(task='multilabel', num_labels=2).to(device)   # measure average disagreement in a binary task\n",
        "    acc = 1 - metric(out[mask], data.x[mask])\n",
        "    return loss, acc.cpu().item()"
      ],
      "metadata": {
        "id": "TrQrdyzdddCA"
      },
      "execution_count": 31,
      "outputs": []
    },
    {
      "cell_type": "code",
      "source": [
        "# set params\n",
        "hidden_channels1 = 4096\n",
        "hidden_channels2 = 4096\n",
        "hidden_channels3 = 2048\n",
        "lr = 2e-4\n",
        "weight_decay=5e-4\n",
        "epoch = 30"
      ],
      "metadata": {
        "id": "lF9kvasrBgSZ"
      },
      "execution_count": 19,
      "outputs": []
    },
    {
      "cell_type": "code",
      "source": [
        "# cross validation\n",
        "\n",
        "train_acc_all = []\n",
        "test_acc_all = []\n",
        "train_loss_all = []\n",
        "test_loss_all = []\n",
        "\n",
        "for i in range(n_fold):   # loop through folds\n",
        "\n",
        "    print(f'===== Fold {i+1} ======')\n",
        "    \n",
        "    # initialize model and optimizer\n",
        "    model = GCN(hidden_channels1, hidden_channels2, hidden_channels3)\n",
        "    model.to(device)\n",
        "    optimizer = torch.optim.Adam(model.parameters(), lr=lr, weight_decay=weight_decay)\n",
        "\n",
        "    # accuracy per epoch\n",
        "    train_acc_epoch = []\n",
        "    test_acc_epoch = []\n",
        "    # loss per epoch\n",
        "    train_loss_epoch = []\n",
        "    test_loss_epoch = []\n",
        "\n",
        "    for e in range(epoch):   # loop through epochs\n",
        "        \n",
        "        train(model, train_masks[i])\n",
        "        train_loss, train_acc = test(model, train_masks[i])\n",
        "        test_loss, test_acc = test(model, test_masks[i])\n",
        "        \n",
        "        train_acc_epoch.append(train_acc)\n",
        "        test_acc_epoch.append(test_acc)\n",
        "        train_loss_epoch.append(train_loss)\n",
        "        test_loss_epoch.append(test_loss)\n",
        "\n",
        "        print(f'Epoch: {e+1:02d}, Train loss: {train_loss:.4f}, Test loss: {test_loss:.4f}')\n",
        "\n",
        "    train_acc_all.append(train_acc_epoch)\n",
        "    test_acc_all.append(test_acc_epoch)\n",
        "    train_loss_all.append(train_loss_epoch)\n",
        "    test_loss_all.append(test_loss_epoch)"
      ],
      "metadata": {
        "colab": {
          "base_uri": "https://localhost:8080/"
        },
        "id": "c1SphvGDBFzw",
        "outputId": "61d26389-8140-4dee-b0af-a6e9585a05e5"
      },
      "execution_count": 32,
      "outputs": [
        {
          "output_type": "stream",
          "name": "stdout",
          "text": [
            "===== Fold 1 ======\n",
            "Epoch: 01, Train loss: 0.9477, Test loss: 0.9468\n",
            "Epoch: 02, Train loss: 0.9461, Test loss: 0.9452\n",
            "Epoch: 03, Train loss: 0.9440, Test loss: 0.9431\n",
            "Epoch: 04, Train loss: 0.9408, Test loss: 0.9398\n",
            "Epoch: 05, Train loss: 0.9356, Test loss: 0.9345\n",
            "Epoch: 06, Train loss: 0.9270, Test loss: 0.9256\n",
            "Epoch: 07, Train loss: 0.9127, Test loss: 0.9110\n",
            "Epoch: 08, Train loss: 0.8906, Test loss: 0.8885\n",
            "Epoch: 09, Train loss: 0.8593, Test loss: 0.8568\n",
            "Epoch: 10, Train loss: 0.8207, Test loss: 0.8183\n",
            "Epoch: 11, Train loss: 0.7811, Test loss: 0.7791\n",
            "Epoch: 12, Train loss: 0.7480, Test loss: 0.7467\n",
            "Epoch: 13, Train loss: 0.7255, Test loss: 0.7249\n",
            "Epoch: 14, Train loss: 0.7124, Test loss: 0.7123\n",
            "Epoch: 15, Train loss: 0.7056, Test loss: 0.7057\n",
            "Epoch: 16, Train loss: 0.7022, Test loss: 0.7024\n",
            "Epoch: 17, Train loss: 0.7004, Test loss: 0.7006\n",
            "Epoch: 18, Train loss: 0.6994, Test loss: 0.6997\n",
            "Epoch: 19, Train loss: 0.6987, Test loss: 0.6991\n",
            "Epoch: 20, Train loss: 0.6983, Test loss: 0.6987\n",
            "Epoch: 21, Train loss: 0.6979, Test loss: 0.6985\n",
            "Epoch: 22, Train loss: 0.6977, Test loss: 0.6982\n",
            "Epoch: 23, Train loss: 0.6976, Test loss: 0.6981\n",
            "Epoch: 24, Train loss: 0.6974, Test loss: 0.6980\n",
            "Epoch: 25, Train loss: 0.6974, Test loss: 0.6979\n",
            "Epoch: 26, Train loss: 0.6973, Test loss: 0.6978\n",
            "Epoch: 27, Train loss: 0.6973, Test loss: 0.6978\n",
            "Epoch: 28, Train loss: 0.6973, Test loss: 0.6978\n",
            "Epoch: 29, Train loss: 0.6973, Test loss: 0.6978\n",
            "Epoch: 30, Train loss: 0.6973, Test loss: 0.6979\n",
            "===== Fold 2 ======\n",
            "Epoch: 01, Train loss: 0.9474, Test loss: 0.9478\n",
            "Epoch: 02, Train loss: 0.9458, Test loss: 0.9462\n",
            "Epoch: 03, Train loss: 0.9437, Test loss: 0.9441\n",
            "Epoch: 04, Train loss: 0.9405, Test loss: 0.9409\n",
            "Epoch: 05, Train loss: 0.9352, Test loss: 0.9357\n",
            "Epoch: 06, Train loss: 0.9264, Test loss: 0.9270\n",
            "Epoch: 07, Train loss: 0.9119, Test loss: 0.9128\n",
            "Epoch: 08, Train loss: 0.8895, Test loss: 0.8906\n",
            "Epoch: 09, Train loss: 0.8577, Test loss: 0.8593\n",
            "Epoch: 10, Train loss: 0.8189, Test loss: 0.8204\n",
            "Epoch: 11, Train loss: 0.7792, Test loss: 0.7806\n",
            "Epoch: 12, Train loss: 0.7464, Test loss: 0.7473\n",
            "Epoch: 13, Train loss: 0.7245, Test loss: 0.7248\n",
            "Epoch: 14, Train loss: 0.7119, Test loss: 0.7117\n",
            "Epoch: 15, Train loss: 0.7055, Test loss: 0.7051\n",
            "Epoch: 16, Train loss: 0.7022, Test loss: 0.7017\n",
            "Epoch: 17, Train loss: 0.7005, Test loss: 0.7000\n",
            "Epoch: 18, Train loss: 0.6995, Test loss: 0.6990\n",
            "Epoch: 19, Train loss: 0.6989, Test loss: 0.6984\n",
            "Epoch: 20, Train loss: 0.6984, Test loss: 0.6980\n",
            "Epoch: 21, Train loss: 0.6981, Test loss: 0.6977\n",
            "Epoch: 22, Train loss: 0.6979, Test loss: 0.6975\n",
            "Epoch: 23, Train loss: 0.6978, Test loss: 0.6974\n",
            "Epoch: 24, Train loss: 0.6976, Test loss: 0.6973\n",
            "Epoch: 25, Train loss: 0.6976, Test loss: 0.6972\n",
            "Epoch: 26, Train loss: 0.6975, Test loss: 0.6972\n",
            "Epoch: 27, Train loss: 0.6975, Test loss: 0.6971\n",
            "Epoch: 28, Train loss: 0.6975, Test loss: 0.6971\n",
            "Epoch: 29, Train loss: 0.6975, Test loss: 0.6971\n",
            "Epoch: 30, Train loss: 0.6975, Test loss: 0.6972\n",
            "===== Fold 3 ======\n",
            "Epoch: 01, Train loss: 0.9475, Test loss: 0.9471\n",
            "Epoch: 02, Train loss: 0.9460, Test loss: 0.9455\n",
            "Epoch: 03, Train loss: 0.9439, Test loss: 0.9434\n",
            "Epoch: 04, Train loss: 0.9407, Test loss: 0.9402\n",
            "Epoch: 05, Train loss: 0.9354, Test loss: 0.9349\n",
            "Epoch: 06, Train loss: 0.9266, Test loss: 0.9259\n",
            "Epoch: 07, Train loss: 0.9122, Test loss: 0.9113\n",
            "Epoch: 08, Train loss: 0.8897, Test loss: 0.8887\n",
            "Epoch: 09, Train loss: 0.8583, Test loss: 0.8565\n",
            "Epoch: 10, Train loss: 0.8199, Test loss: 0.8174\n",
            "Epoch: 11, Train loss: 0.7805, Test loss: 0.7777\n",
            "Epoch: 12, Train loss: 0.7478, Test loss: 0.7447\n",
            "Epoch: 13, Train loss: 0.7257, Test loss: 0.7228\n",
            "Epoch: 14, Train loss: 0.7129, Test loss: 0.7102\n",
            "Epoch: 15, Train loss: 0.7061, Test loss: 0.7038\n",
            "Epoch: 16, Train loss: 0.7027, Test loss: 0.7006\n",
            "Epoch: 17, Train loss: 0.7008, Test loss: 0.6989\n",
            "Epoch: 18, Train loss: 0.6998, Test loss: 0.6981\n",
            "Epoch: 19, Train loss: 0.6991, Test loss: 0.6975\n",
            "Epoch: 20, Train loss: 0.6986, Test loss: 0.6972\n",
            "Epoch: 21, Train loss: 0.6983, Test loss: 0.6970\n",
            "Epoch: 22, Train loss: 0.6981, Test loss: 0.6968\n",
            "Epoch: 23, Train loss: 0.6979, Test loss: 0.6967\n",
            "Epoch: 24, Train loss: 0.6978, Test loss: 0.6966\n",
            "Epoch: 25, Train loss: 0.6977, Test loss: 0.6965\n",
            "Epoch: 26, Train loss: 0.6976, Test loss: 0.6965\n",
            "Epoch: 27, Train loss: 0.6976, Test loss: 0.6965\n",
            "Epoch: 28, Train loss: 0.6976, Test loss: 0.6965\n",
            "Epoch: 29, Train loss: 0.6976, Test loss: 0.6965\n",
            "Epoch: 30, Train loss: 0.6976, Test loss: 0.6965\n",
            "===== Fold 4 ======\n",
            "Epoch: 01, Train loss: 0.9476, Test loss: 0.9481\n",
            "Epoch: 02, Train loss: 0.9461, Test loss: 0.9467\n",
            "Epoch: 03, Train loss: 0.9441, Test loss: 0.9448\n",
            "Epoch: 04, Train loss: 0.9412, Test loss: 0.9419\n",
            "Epoch: 05, Train loss: 0.9365, Test loss: 0.9372\n",
            "Epoch: 06, Train loss: 0.9285, Test loss: 0.9294\n",
            "Epoch: 07, Train loss: 0.9155, Test loss: 0.9167\n",
            "Epoch: 08, Train loss: 0.8950, Test loss: 0.8964\n",
            "Epoch: 09, Train loss: 0.8653, Test loss: 0.8673\n",
            "Epoch: 10, Train loss: 0.8277, Test loss: 0.8301\n",
            "Epoch: 11, Train loss: 0.7875, Test loss: 0.7902\n",
            "Epoch: 12, Train loss: 0.7526, Test loss: 0.7554\n",
            "Epoch: 13, Train loss: 0.7280, Test loss: 0.7307\n",
            "Epoch: 14, Train loss: 0.7136, Test loss: 0.7161\n",
            "Epoch: 15, Train loss: 0.7061, Test loss: 0.7084\n",
            "Epoch: 16, Train loss: 0.7023, Test loss: 0.7043\n",
            "Epoch: 17, Train loss: 0.7003, Test loss: 0.7021\n",
            "Epoch: 18, Train loss: 0.6993, Test loss: 0.7008\n",
            "Epoch: 19, Train loss: 0.6986, Test loss: 0.7001\n",
            "Epoch: 20, Train loss: 0.6981, Test loss: 0.6995\n",
            "Epoch: 21, Train loss: 0.6978, Test loss: 0.6991\n",
            "Epoch: 22, Train loss: 0.6976, Test loss: 0.6989\n",
            "Epoch: 23, Train loss: 0.6974, Test loss: 0.6987\n",
            "Epoch: 24, Train loss: 0.6973, Test loss: 0.6985\n",
            "Epoch: 25, Train loss: 0.6973, Test loss: 0.6984\n",
            "Epoch: 26, Train loss: 0.6972, Test loss: 0.6984\n",
            "Epoch: 27, Train loss: 0.6972, Test loss: 0.6983\n",
            "Epoch: 28, Train loss: 0.6972, Test loss: 0.6983\n",
            "Epoch: 29, Train loss: 0.6972, Test loss: 0.6984\n",
            "Epoch: 30, Train loss: 0.6972, Test loss: 0.6984\n",
            "===== Fold 5 ======\n",
            "Epoch: 01, Train loss: 0.9473, Test loss: 0.9477\n",
            "Epoch: 02, Train loss: 0.9456, Test loss: 0.9460\n",
            "Epoch: 03, Train loss: 0.9433, Test loss: 0.9438\n",
            "Epoch: 04, Train loss: 0.9398, Test loss: 0.9402\n",
            "Epoch: 05, Train loss: 0.9340, Test loss: 0.9344\n",
            "Epoch: 06, Train loss: 0.9242, Test loss: 0.9248\n",
            "Epoch: 07, Train loss: 0.9084, Test loss: 0.9090\n",
            "Epoch: 08, Train loss: 0.8840, Test loss: 0.8847\n",
            "Epoch: 09, Train loss: 0.8505, Test loss: 0.8512\n",
            "Epoch: 10, Train loss: 0.8106, Test loss: 0.8115\n",
            "Epoch: 11, Train loss: 0.7717, Test loss: 0.7725\n",
            "Epoch: 12, Train loss: 0.7410, Test loss: 0.7416\n",
            "Epoch: 13, Train loss: 0.7211, Test loss: 0.7219\n",
            "Epoch: 14, Train loss: 0.7100, Test loss: 0.7107\n",
            "Epoch: 15, Train loss: 0.7044, Test loss: 0.7052\n",
            "Epoch: 16, Train loss: 0.7016, Test loss: 0.7022\n",
            "Epoch: 17, Train loss: 0.7001, Test loss: 0.7005\n",
            "Epoch: 18, Train loss: 0.6992, Test loss: 0.6995\n",
            "Epoch: 19, Train loss: 0.6986, Test loss: 0.6988\n",
            "Epoch: 20, Train loss: 0.6982, Test loss: 0.6984\n",
            "Epoch: 21, Train loss: 0.6980, Test loss: 0.6980\n",
            "Epoch: 22, Train loss: 0.6978, Test loss: 0.6978\n",
            "Epoch: 23, Train loss: 0.6977, Test loss: 0.6977\n",
            "Epoch: 24, Train loss: 0.6976, Test loss: 0.6975\n",
            "Epoch: 25, Train loss: 0.6975, Test loss: 0.6974\n",
            "Epoch: 26, Train loss: 0.6974, Test loss: 0.6974\n",
            "Epoch: 27, Train loss: 0.6974, Test loss: 0.6974\n",
            "Epoch: 28, Train loss: 0.6974, Test loss: 0.6974\n",
            "Epoch: 29, Train loss: 0.6975, Test loss: 0.6974\n",
            "Epoch: 30, Train loss: 0.6975, Test loss: 0.6975\n"
          ]
        }
      ]
    },
    {
      "cell_type": "code",
      "source": [
        "# test_acc = test()\n",
        "# print(f'Test Accuracy: {test_acc:.4f}')"
      ],
      "metadata": {
        "id": "1nHwPGm7vLyc"
      },
      "execution_count": 21,
      "outputs": []
    },
    {
      "cell_type": "code",
      "source": [
        "# plot train and test loss\n",
        "fig, ax = plt.subplots(figsize=(10,4))\n",
        "colors = ['#0343DF', '#E50000', '#008000', '#DDA0DD', '#FFA500']\n",
        "for i in range(n_fold):\n",
        "    ax.plot(range(1,len(train_loss_all[i])+1), train_loss_all[i], '-x', markersize=4, label=f'train_fold_{i+1}', color=colors[i])\n",
        "    ax.plot(range(1,len(test_loss_all[i])+1), test_loss_all[i], '-o', markersize=4, label=f'test_fold_{i+1}', color=colors[i])\n",
        "ax.set_xticks(np.arange(1, epoch+1))\n",
        "ax.grid()\n",
        "ax.set_title('Train and test loss')\n",
        "ax.set_xlabel('epochs')\n",
        "fig.legend()\n",
        "fig.show()"
      ],
      "metadata": {
        "colab": {
          "base_uri": "https://localhost:8080/",
          "height": 429
        },
        "id": "yO4qcMphDW9C",
        "outputId": "571aa8d8-f001-43a2-844e-e5f0962cb094"
      },
      "execution_count": 42,
      "outputs": [
        {
          "output_type": "display_data",
          "data": {
            "text/plain": [
              "<Figure size 1000x400 with 1 Axes>"
            ],
            "image/png": "[encoded data removed]"
          },
          "metadata": {}
        }
      ]
    },
    {
      "cell_type": "code",
      "source": [
        "# plot train and test accuracy\n",
        "fig, ax = plt.subplots(figsize=(10,4))\n",
        "for i in range(n_fold):\n",
        "    ax.plot(range(1,len(train_acc_all[i])+1), train_acc_all[i], '-x', markersize=4, label=f'train_fold_{i+1}', color=colors[i])\n",
        "    ax.plot(range(1,len(test_acc_all[i])+1), test_acc_all[i], '-o', markersize=4, label=f'test_fold_{i+1}', color=colors[i])\n",
        "ax.set_xticks(np.arange(1, epoch+1))\n",
        "ax.grid()\n",
        "ax.set_title('Train and test accuracy')\n",
        "ax.set_xlabel('epochs')\n",
        "fig.legend()\n",
        "fig.show()"
      ],
      "metadata": {
        "colab": {
          "base_uri": "https://localhost:8080/",
          "height": 429
        },
        "id": "_kCUMlAvERSN",
        "outputId": "86b04d06-3459-448f-eef9-88dd2775e5b6"
      },
      "execution_count": 51,
      "outputs": [
        {
          "output_type": "display_data",
          "data": {
            "text/plain": [
              "<Figure size 1000x400 with 1 Axes>"
            ],
            "image/png": "[encoded data removed]"
          },
          "metadata": {}
        }
      ]
    },
    {
      "cell_type": "code",
      "source": [
        "# print out average accuracy\n",
        "acc_list = []\n",
        "for i in range(n_fold):\n",
        "    acc = test_acc_all[i][-1]\n",
        "    acc_list.append(acc)\n",
        "    print(f'Fold {i+1} test accuracy: {acc:.4f}')\n",
        "print(f'Average accuracy: {np.mean(acc_list):.4f}')"
      ],
      "metadata": {
        "colab": {
          "base_uri": "https://localhost:8080/"
        },
        "id": "01_jysLrEoyw",
        "outputId": "8f643446-1b04-44ff-a09d-1f427ee5646e"
      },
      "execution_count": 52,
      "outputs": [
        {
          "output_type": "stream",
          "name": "stdout",
          "text": [
            "Fold 1 test accuracy: 0.9484\n",
            "Fold 2 test accuracy: 0.9502\n",
            "Fold 3 test accuracy: 0.9490\n",
            "Fold 4 test accuracy: 0.9506\n",
            "Fold 5 test accuracy: 0.9503\n",
            "Average accuracy: 0.9497\n"
          ]
        }
      ]
    }
  ]
}