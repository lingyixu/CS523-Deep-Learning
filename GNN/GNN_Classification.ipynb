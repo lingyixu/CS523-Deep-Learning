{
  "nbformat": 4,
  "nbformat_minor": 0,
  "metadata": {
    "colab": {
      "provenance": [],
      "include_colab_link": true
    },
    "kernelspec": {
      "name": "python3",
      "display_name": "Python 3"
    },
    "language_info": {
      "name": "python"
    }
  },
  "cells": [
    {
      "cell_type": "markdown",
      "metadata": {
        "id": "view-in-github",
        "colab_type": "text"
      },
      "source": [
        "<a href=\"https://colab.research.google.com/github/lingyixu/CS523-Deep-Learning/blob/main/GNN_Classification.ipynb\" target=\"_parent\"><img src=\"https://colab.research.google.com/assets/colab-badge.svg\" alt=\"Open In Colab\"/></a>"
      ]
    },
    {
      "cell_type": "markdown",
      "source": [
        "### Load packages"
      ],
      "metadata": {
        "id": "docIYKxAba5j"
      }
    },
    {
      "cell_type": "code",
      "execution_count": null,
      "metadata": {
        "colab": {
          "base_uri": "https://localhost:8080/"
        },
        "id": "L7P6Gln1UcWV",
        "outputId": "63f1b22e-dde3-4f73-81bd-1aa8a69d169d"
      },
      "outputs": [
        {
          "output_type": "stream",
          "name": "stdout",
          "text": [
            "1.13.1+cu116\n",
            "\u001b[2K     \u001b[90m━━━━━━━━━━━━━━━━━━━━━━━━━━━━━━━━━━━━━━━━\u001b[0m \u001b[32m9.4/9.4 MB\u001b[0m \u001b[31m27.7 MB/s\u001b[0m eta \u001b[36m0:00:00\u001b[0m\n",
            "\u001b[2K     \u001b[90m━━━━━━━━━━━━━━━━━━━━━━━━━━━━━━━━━━━━━━━━\u001b[0m \u001b[32m4.5/4.5 MB\u001b[0m \u001b[31m15.2 MB/s\u001b[0m eta \u001b[36m0:00:00\u001b[0m\n",
            "\u001b[?25h  Installing build dependencies ... \u001b[?25l\u001b[?25hdone\n",
            "  Getting requirements to build wheel ... \u001b[?25l\u001b[?25hdone\n",
            "  Preparing metadata (pyproject.toml) ... \u001b[?25l\u001b[?25hdone\n",
            "  Building wheel for torch-geometric (pyproject.toml) ... \u001b[?25l\u001b[?25hdone\n"
          ]
        }
      ],
      "source": [
        "import os\n",
        "import torch\n",
        "os.environ['TORCH'] = torch.__version__\n",
        "print(torch.__version__)\n",
        "\n",
        "!pip install -q torch-scatter -f https://data.pyg.org/whl/torch-${TORCH}.html\n",
        "!pip install -q torch-sparse -f https://data.pyg.org/whl/torch-${TORCH}.html\n",
        "!pip install -q git+https://github.com/pyg-team/pytorch_geometric.git"
      ]
    },
    {
      "cell_type": "code",
      "source": [
        "import torch\n",
        "import torch.nn.functional as F\n",
        "import torch_geometric\n",
        "from torch_geometric.data import Dataset, Data\n",
        "from torch_geometric.nn import GCNConv, GATConv\n",
        "from torch_geometric.transforms import RandomNodeSplit"
      ],
      "metadata": {
        "id": "60Uf21e2bfFS"
      },
      "execution_count": null,
      "outputs": []
    },
    {
      "cell_type": "code",
      "source": [
        "import pandas as pd\n",
        "import numpy as np\n",
        "import json\n",
        "import glob\n",
        "%matplotlib inline\n",
        "import matplotlib.pyplot as plt\n",
        "from sklearn.manifold import TSNE"
      ],
      "metadata": {
        "id": "ic-3zTIOb_Y8"
      },
      "execution_count": null,
      "outputs": []
    },
    {
      "cell_type": "code",
      "source": [
        "import sys\n",
        "is_colab = 'google.colab' in sys.modules\n",
        "\n",
        "if is_colab:\n",
        "    from google.colab import auth\n",
        "    auth.authenticate_user()"
      ],
      "metadata": {
        "id": "ydz96kCdkBth"
      },
      "execution_count": null,
      "outputs": []
    },
    {
      "cell_type": "code",
      "source": [
        "from google.colab import drive\n",
        "drive.mount('/content/drive')\n",
        "drive_path = '/content/drive/Shareddrives/CS523/lastFM-data/'"
      ],
      "metadata": {
        "colab": {
          "base_uri": "https://localhost:8080/"
        },
        "id": "ENNRDCAFkRNP",
        "outputId": "13080934-0f3e-4de7-b81c-4d1094d92dc9"
      },
      "execution_count": null,
      "outputs": [
        {
          "output_type": "stream",
          "name": "stdout",
          "text": [
            "Mounted at /content/drive\n"
          ]
        }
      ]
    },
    {
      "cell_type": "markdown",
      "source": [
        "### Load dataset: LastFM"
      ],
      "metadata": {
        "id": "Hy92RRnibgEX"
      }
    },
    {
      "cell_type": "code",
      "source": [
        "df_feat = pd.read_json(drive_path + 'processed_feature.json')   # load features\n",
        "arr_feat = df_feat.T.values\n",
        "df_edge = pd.read_csv(drive_path + 'lastfm_asia_edges.csv')   # load edge indices\n",
        "arr_edge = df_edge.T.values\n",
        "df_tar = pd.read_csv(drive_path + 'lastfm_asia_target.csv', index_col=0)   # load targets\n",
        "arr_tar = df_tar.values\n",
        "num_features = arr_feat.shape[1]\n",
        "num_classes = len(df_tar.target.unique())\n",
        "classes = df_tar.target.sort_values().unique()\n",
        "\n",
        "print('Dataset:')\n",
        "print('====================')\n",
        "print(f'Number of nodes: {arr_feat.shape[0]}')\n",
        "print(f'Number of features: {num_features}')\n",
        "print(f'Number of edges: {arr_edge.shape[1]}')\n",
        "print(f'Number of distinct regions: {num_classes}')\n",
        "print(f'All region classes: {classes}')"
      ],
      "metadata": {
        "colab": {
          "base_uri": "https://localhost:8080/"
        },
        "id": "OjZdIyqKjrM0",
        "outputId": "47e27345-5f56-472f-b4ea-de2260681fae"
      },
      "execution_count": null,
      "outputs": [
        {
          "output_type": "stream",
          "name": "stdout",
          "text": [
            "Dataset:\n",
            "====================\n",
            "Number of nodes: 7624\n",
            "Number of features: 7842\n",
            "Number of edges: 27806\n",
            "Number of distinct regions: 18\n",
            "All region classes: [ 0  1  2  3  4  5  6  7  8  9 10 11 12 13 14 15 16 17]\n"
          ]
        }
      ]
    },
    {
      "cell_type": "code",
      "source": [
        "graph_metadata = {'data': arr_feat, 'edge_index': arr_edge, 'label': arr_tar}"
      ],
      "metadata": {
        "id": "04Yjji1BqS8z"
      },
      "execution_count": null,
      "outputs": []
    },
    {
      "cell_type": "markdown",
      "source": [
        "### Create GraphDataset"
      ],
      "metadata": {
        "id": "MSa2dZP0pTVo"
      }
    },
    {
      "cell_type": "code",
      "source": [
        "class GraphDataset(Dataset):\n",
        "    \n",
        "    def __init__(self, root, out_dir, metadata, transform=None, pre_transform=None, pre_filter=None):\n",
        "        self.root = root\n",
        "        self.out_dir = out_dir\n",
        "        self.metadata = metadata\n",
        "        super(GraphDataset, self).__init__(root, transform, pre_transform, pre_filter)\n",
        "\n",
        "    @property\n",
        "    def raw_file_names(self):\n",
        "        return root\n",
        "\n",
        "    @property\n",
        "    def processed_file_names(self):\n",
        "        return glob.glob(f'{self.out_dir}/*.pt')\n",
        "\n",
        "    def download(self):\n",
        "        pass\n",
        "    \n",
        "    \n",
        "    def process(self):\n",
        "\n",
        "        self.node_features = torch.tensor(self.metadata['data'], dtype=torch.float)\n",
        "        self.edge_index = torch.tensor(self.metadata['edge_index'], dtype=torch.int64)\n",
        "        self.label = torch.tensor(self.metadata['label'], dtype=torch.int64)\n",
        "\n",
        "        data = Data(x = self.node_features, \n",
        "                    edge_index = self.edge_index,\n",
        "                    # edge_attr = None,\n",
        "                    y = self.label)\n",
        "\n",
        "        torch.save(data, f'{self.out_dir}/data.pt')\n",
        "\n",
        "    def len(self):\n",
        "        return self.node_features.shape[0]\n",
        "\n",
        "    def get(self):\n",
        "        data = torch.load(f'{self.out_dir}/data.pt')\n",
        "        return data"
      ],
      "metadata": {
        "id": "eyvO5T5mpWZC"
      },
      "execution_count": null,
      "outputs": []
    },
    {
      "cell_type": "code",
      "source": [
        "root = ''\n",
        "out_dir = 'graph_data'\n",
        "# os.mkdir(out_dir)\n",
        "metadata = graph_metadata\n",
        "dataset = GraphDataset(root=root, out_dir=out_dir, metadata=metadata)"
      ],
      "metadata": {
        "colab": {
          "base_uri": "https://localhost:8080/"
        },
        "id": "deb4Wyu2sJzy",
        "outputId": "e6f43962-077d-491e-d5a8-78f39b8a42fb"
      },
      "execution_count": null,
      "outputs": [
        {
          "output_type": "stream",
          "name": "stderr",
          "text": [
            "Processing...\n",
            "Done!\n"
          ]
        }
      ]
    },
    {
      "cell_type": "code",
      "source": [
        "# inspect the graph dataset\n",
        "data = dataset.get()\n",
        "print()\n",
        "print(data)\n",
        "print('=============================================================')\n",
        "print(f'Number of nodes: {data.num_nodes}')\n",
        "print(f'Number of edges: {data.num_edges}')"
      ],
      "metadata": {
        "colab": {
          "base_uri": "https://localhost:8080/"
        },
        "id": "Q8Q_Lz4Ttpz8",
        "outputId": "df9cd760-4b68-4f42-c694-0e7b338fa255"
      },
      "execution_count": null,
      "outputs": [
        {
          "output_type": "stream",
          "name": "stdout",
          "text": [
            "\n",
            "Data(x=[7624, 7842], edge_index=[2, 27806], y=[7624, 1])\n",
            "=============================================================\n",
            "Number of nodes: 7624\n",
            "Number of edges: 27806\n"
          ]
        }
      ]
    },
    {
      "cell_type": "markdown",
      "source": [
        "### Train/valid/test split"
      ],
      "metadata": {
        "id": "JA8yaxXFvx__"
      }
    },
    {
      "cell_type": "code",
      "source": [
        "# train_ratio = 0.6\n",
        "valid_ratio = 0.2\n",
        "test_ratio = 0.2\n",
        "split = RandomNodeSplit(num_val = valid_ratio, num_test = test_ratio)\n",
        "split_graph = split(data)"
      ],
      "metadata": {
        "id": "K-YXNrOXygSn"
      },
      "execution_count": null,
      "outputs": []
    },
    {
      "cell_type": "code",
      "source": [
        "print(f'Number of training nodes: {data.train_mask.sum()}')\n",
        "print(f'Number of validation nodes: {data.val_mask.sum()}')\n",
        "print(f'Number of testing nodes: {data.test_mask.sum()}')"
      ],
      "metadata": {
        "colab": {
          "base_uri": "https://localhost:8080/"
        },
        "id": "WAMcMg0E0u6_",
        "outputId": "392b902e-4d9c-49c1-a843-85d430e977f5"
      },
      "execution_count": null,
      "outputs": [
        {
          "output_type": "stream",
          "name": "stdout",
          "text": [
            "Number of training nodes: 4574\n",
            "Number of validation nodes: 1525\n",
            "Number of testing nodes: 1525\n"
          ]
        }
      ]
    },
    {
      "cell_type": "markdown",
      "source": [
        "### Build GNN"
      ],
      "metadata": {
        "id": "va7_CVtBc3d8"
      }
    },
    {
      "cell_type": "code",
      "source": [
        "class GCN(torch.nn.Module):\n",
        "    def __init__(self, hidden_channels):\n",
        "        super().__init__()\n",
        "        # torch.manual_seed(42)\n",
        "        self.conv1 = GCNConv(num_features, hidden_channels)\n",
        "        self.conv2 = GCNConv(hidden_channels, hidden_channels)\n",
        "        self.conv3 = GCNConv(hidden_channels, num_classes)\n",
        "\n",
        "    def forward(self, x, edge_index):\n",
        "        x = self.conv1(x, edge_index)\n",
        "        x = x.relu()\n",
        "        # x = F.dropout(x, p=0.5, training=self.training)\n",
        "        x = self.conv2(x, edge_index)\n",
        "        x = x.relu()\n",
        "        x = self.conv3(x, edge_index)\n",
        "        x = x.relu()\n",
        "        return x"
      ],
      "metadata": {
        "id": "XGxTkf2iVzuQ"
      },
      "execution_count": null,
      "outputs": []
    },
    {
      "cell_type": "code",
      "source": [
        "model = GCN(hidden_channels=64)\n",
        "print(model)"
      ],
      "metadata": {
        "colab": {
          "base_uri": "https://localhost:8080/"
        },
        "id": "aoZYoUOvc77N",
        "outputId": "69385bbb-a4ab-4af5-898e-1cb555e218e6"
      },
      "execution_count": null,
      "outputs": [
        {
          "output_type": "stream",
          "name": "stdout",
          "text": [
            "GCN(\n",
            "  (conv1): GCNConv(7842, 64)\n",
            "  (conv2): GCNConv(64, 64)\n",
            "  (conv3): GCNConv(64, 18)\n",
            ")\n"
          ]
        }
      ]
    },
    {
      "cell_type": "code",
      "source": [
        "criterion = torch.nn.CrossEntropyLoss()\n",
        "optimizer = torch.optim.Adam(model.parameters(), lr=5e-4, weight_decay=5e-4)"
      ],
      "metadata": {
        "id": "RyeLJOYR1yDt"
      },
      "execution_count": null,
      "outputs": []
    },
    {
      "cell_type": "code",
      "source": [
        "def train():\n",
        "      model.train()\n",
        "      optimizer.zero_grad()\n",
        "      out = model(data.x, data.edge_index)\n",
        "      loss = criterion(out[data.train_mask], data.y[data.train_mask].flatten())\n",
        "      loss.backward()\n",
        "      optimizer.step()\n",
        "      return loss\n",
        "\n",
        "def test():\n",
        "      model.eval()\n",
        "      out = model(data.x, data.edge_index)\n",
        "      pred = out.argmax(dim=1)\n",
        "      test_correct = pred[data.test_mask] == data.y[data.test_mask].flatten()\n",
        "      test_acc = int(test_correct.sum()) / int(data.test_mask.sum())\n",
        "      return test_acc\n",
        "\n",
        "for epoch in range(100):\n",
        "    loss = train()\n",
        "    print(f'Epoch: {epoch+1:02d}, Loss: {loss:.4f}')"
      ],
      "metadata": {
        "colab": {
          "base_uri": "https://localhost:8080/"
        },
        "id": "TrQrdyzdddCA",
        "outputId": "4b569819-8ae5-4bf5-a99e-ee2810b89ad5"
      },
      "execution_count": null,
      "outputs": [
        {
          "output_type": "stream",
          "name": "stdout",
          "text": [
            "Epoch: 01, Loss: 2.9191\n",
            "Epoch: 02, Loss: 2.7406\n",
            "Epoch: 03, Loss: 2.5825\n",
            "Epoch: 04, Loss: 2.4214\n",
            "Epoch: 05, Loss: 2.2578\n",
            "Epoch: 06, Loss: 2.1018\n",
            "Epoch: 07, Loss: 1.9591\n",
            "Epoch: 08, Loss: 1.8292\n",
            "Epoch: 09, Loss: 1.7131\n",
            "Epoch: 10, Loss: 1.6114\n",
            "Epoch: 11, Loss: 1.5232\n",
            "Epoch: 12, Loss: 1.4470\n",
            "Epoch: 13, Loss: 1.3811\n",
            "Epoch: 14, Loss: 1.3237\n",
            "Epoch: 15, Loss: 1.2733\n",
            "Epoch: 16, Loss: 1.2282\n",
            "Epoch: 17, Loss: 1.1870\n",
            "Epoch: 18, Loss: 1.1496\n",
            "Epoch: 19, Loss: 1.1160\n",
            "Epoch: 20, Loss: 1.0855\n",
            "Epoch: 21, Loss: 1.0574\n",
            "Epoch: 22, Loss: 1.0312\n",
            "Epoch: 23, Loss: 1.0068\n",
            "Epoch: 24, Loss: 0.9841\n",
            "Epoch: 25, Loss: 0.9626\n",
            "Epoch: 26, Loss: 0.9420\n",
            "Epoch: 27, Loss: 0.9220\n",
            "Epoch: 28, Loss: 0.9025\n",
            "Epoch: 29, Loss: 0.8838\n",
            "Epoch: 30, Loss: 0.8657\n",
            "Epoch: 31, Loss: 0.8485\n",
            "Epoch: 32, Loss: 0.8320\n",
            "Epoch: 33, Loss: 0.8162\n",
            "Epoch: 34, Loss: 0.8012\n",
            "Epoch: 35, Loss: 0.7867\n",
            "Epoch: 36, Loss: 0.7729\n",
            "Epoch: 37, Loss: 0.7594\n",
            "Epoch: 38, Loss: 0.7463\n",
            "Epoch: 39, Loss: 0.7334\n",
            "Epoch: 40, Loss: 0.7209\n",
            "Epoch: 41, Loss: 0.7086\n",
            "Epoch: 42, Loss: 0.6967\n",
            "Epoch: 43, Loss: 0.6851\n",
            "Epoch: 44, Loss: 0.6738\n",
            "Epoch: 45, Loss: 0.6629\n",
            "Epoch: 46, Loss: 0.6524\n",
            "Epoch: 47, Loss: 0.6422\n",
            "Epoch: 48, Loss: 0.6324\n",
            "Epoch: 49, Loss: 0.6228\n",
            "Epoch: 50, Loss: 0.6135\n",
            "Epoch: 51, Loss: 0.6044\n",
            "Epoch: 52, Loss: 0.5957\n",
            "Epoch: 53, Loss: 0.5872\n",
            "Epoch: 54, Loss: 0.5790\n",
            "Epoch: 55, Loss: 0.5711\n",
            "Epoch: 56, Loss: 0.5634\n",
            "Epoch: 57, Loss: 0.5560\n",
            "Epoch: 58, Loss: 0.5488\n",
            "Epoch: 59, Loss: 0.5418\n",
            "Epoch: 60, Loss: 0.5350\n",
            "Epoch: 61, Loss: 0.5284\n",
            "Epoch: 62, Loss: 0.5220\n",
            "Epoch: 63, Loss: 0.5157\n",
            "Epoch: 64, Loss: 0.5096\n",
            "Epoch: 65, Loss: 0.5036\n",
            "Epoch: 66, Loss: 0.4977\n",
            "Epoch: 67, Loss: 0.4920\n",
            "Epoch: 68, Loss: 0.4864\n",
            "Epoch: 69, Loss: 0.4809\n",
            "Epoch: 70, Loss: 0.4756\n",
            "Epoch: 71, Loss: 0.4704\n",
            "Epoch: 72, Loss: 0.4653\n",
            "Epoch: 73, Loss: 0.4604\n",
            "Epoch: 74, Loss: 0.4556\n",
            "Epoch: 75, Loss: 0.4510\n",
            "Epoch: 76, Loss: 0.4464\n",
            "Epoch: 77, Loss: 0.4419\n",
            "Epoch: 78, Loss: 0.4375\n",
            "Epoch: 79, Loss: 0.4332\n",
            "Epoch: 80, Loss: 0.4290\n",
            "Epoch: 81, Loss: 0.4249\n",
            "Epoch: 82, Loss: 0.4209\n",
            "Epoch: 83, Loss: 0.4169\n",
            "Epoch: 84, Loss: 0.4130\n",
            "Epoch: 85, Loss: 0.4092\n",
            "Epoch: 86, Loss: 0.4055\n",
            "Epoch: 87, Loss: 0.4018\n",
            "Epoch: 88, Loss: 0.3982\n",
            "Epoch: 89, Loss: 0.3947\n",
            "Epoch: 90, Loss: 0.3912\n",
            "Epoch: 91, Loss: 0.3878\n",
            "Epoch: 92, Loss: 0.3845\n",
            "Epoch: 93, Loss: 0.3813\n",
            "Epoch: 94, Loss: 0.3781\n",
            "Epoch: 95, Loss: 0.3750\n",
            "Epoch: 96, Loss: 0.3719\n",
            "Epoch: 97, Loss: 0.3689\n",
            "Epoch: 98, Loss: 0.3659\n",
            "Epoch: 99, Loss: 0.3630\n",
            "Epoch: 100, Loss: 0.3601\n"
          ]
        }
      ]
    },
    {
      "cell_type": "code",
      "source": [
        "test_acc = test()\n",
        "print(f'Test Accuracy: {test_acc:.4f}')"
      ],
      "metadata": {
        "colab": {
          "base_uri": "https://localhost:8080/"
        },
        "id": "kK-EBS32efm7",
        "outputId": "d9b56375-b997-4218-f4cb-1f9380ae27d0"
      },
      "execution_count": null,
      "outputs": [
        {
          "output_type": "stream",
          "name": "stdout",
          "text": [
            "Test Accuracy: 0.8203\n"
          ]
        }
      ]
    }
  ]
}
