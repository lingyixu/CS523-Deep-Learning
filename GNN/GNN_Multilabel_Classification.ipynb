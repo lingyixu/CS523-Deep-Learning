{
  "nbformat": 4,
  "nbformat_minor": 0,
  "metadata": {
    "colab": {
      "provenance": [],
      "include_colab_link": true
    },
    "kernelspec": {
      "name": "python3",
      "display_name": "Python 3"
    },
    "language_info": {
      "name": "python"
    },
    "accelerator": "GPU",
    "gpuClass": "premium"
  },
  "cells": [
    {
      "cell_type": "markdown",
      "metadata": {
        "id": "view-in-github",
        "colab_type": "text"
      },
      "source": [
        "<a href=\"https://colab.research.google.com/github/lingyixu/CS523-Deep-Learning/blob/main/GNN/GNN_Multilabel_Classification.ipynb\" target=\"_parent\"><img src=\"https://colab.research.google.com/assets/colab-badge.svg\" alt=\"Open In Colab\"/></a>"
      ]
    },
    {
      "cell_type": "markdown",
      "source": [
        "### Load packages"
      ],
      "metadata": {
        "id": "docIYKxAba5j"
      }
    },
    {
      "cell_type": "code",
      "execution_count": 1,
      "metadata": {
        "colab": {
          "base_uri": "https://localhost:8080/"
        },
        "id": "L7P6Gln1UcWV",
        "outputId": "923c1596-9203-45e6-e8d2-fe60f01660f1"
      },
      "outputs": [
        {
          "output_type": "stream",
          "name": "stdout",
          "text": [
            "2.0.0+cu118\n",
            "\u001b[2K     \u001b[90m━━━━━━━━━━━━━━━━━━━━━━━━━━━━━━━━━━━━━━━━\u001b[0m \u001b[32m10.2/10.2 MB\u001b[0m \u001b[31m55.7 MB/s\u001b[0m eta \u001b[36m0:00:00\u001b[0m\n",
            "\u001b[2K     \u001b[90m━━━━━━━━━━━━━━━━━━━━━━━━━━━━━━━━━━━━━━━━\u001b[0m \u001b[32m4.8/4.8 MB\u001b[0m \u001b[31m44.6 MB/s\u001b[0m eta \u001b[36m0:00:00\u001b[0m\n",
            "\u001b[?25h  Installing build dependencies ... \u001b[?25l\u001b[?25hdone\n",
            "  Getting requirements to build wheel ... \u001b[?25l\u001b[?25hdone\n",
            "  Preparing metadata (pyproject.toml) ... \u001b[?25l\u001b[?25hdone\n",
            "  Building wheel for torch_geometric (pyproject.toml) ... \u001b[?25l\u001b[?25hdone\n",
            "Looking in indexes: https://pypi.org/simple, https://us-python.pkg.dev/colab-wheels/public/simple/\n",
            "Collecting torchmetrics\n",
            "  Downloading torchmetrics-0.11.4-py3-none-any.whl (519 kB)\n",
            "\u001b[2K     \u001b[90m━━━━━━━━━━━━━━━━━━━━━━━━━━━━━━━━━━━━━━\u001b[0m \u001b[32m519.2/519.2 KB\u001b[0m \u001b[31m10.5 MB/s\u001b[0m eta \u001b[36m0:00:00\u001b[0m\n",
            "\u001b[?25hRequirement already satisfied: torch>=1.8.1 in /usr/local/lib/python3.9/dist-packages (from torchmetrics) (2.0.0+cu118)\n",
            "Requirement already satisfied: packaging in /usr/local/lib/python3.9/dist-packages (from torchmetrics) (23.0)\n",
            "Requirement already satisfied: numpy>=1.17.2 in /usr/local/lib/python3.9/dist-packages (from torchmetrics) (1.22.4)\n",
            "Requirement already satisfied: filelock in /usr/local/lib/python3.9/dist-packages (from torch>=1.8.1->torchmetrics) (3.10.7)\n",
            "Requirement already satisfied: jinja2 in /usr/local/lib/python3.9/dist-packages (from torch>=1.8.1->torchmetrics) (3.1.2)\n",
            "Requirement already satisfied: triton==2.0.0 in /usr/local/lib/python3.9/dist-packages (from torch>=1.8.1->torchmetrics) (2.0.0)\n",
            "Requirement already satisfied: typing-extensions in /usr/local/lib/python3.9/dist-packages (from torch>=1.8.1->torchmetrics) (4.5.0)\n",
            "Requirement already satisfied: sympy in /usr/local/lib/python3.9/dist-packages (from torch>=1.8.1->torchmetrics) (1.11.1)\n",
            "Requirement already satisfied: networkx in /usr/local/lib/python3.9/dist-packages (from torch>=1.8.1->torchmetrics) (3.0)\n",
            "Requirement already satisfied: cmake in /usr/local/lib/python3.9/dist-packages (from triton==2.0.0->torch>=1.8.1->torchmetrics) (3.25.2)\n",
            "Requirement already satisfied: lit in /usr/local/lib/python3.9/dist-packages (from triton==2.0.0->torch>=1.8.1->torchmetrics) (16.0.0)\n",
            "Requirement already satisfied: MarkupSafe>=2.0 in /usr/local/lib/python3.9/dist-packages (from jinja2->torch>=1.8.1->torchmetrics) (2.1.2)\n",
            "Requirement already satisfied: mpmath>=0.19 in /usr/local/lib/python3.9/dist-packages (from sympy->torch>=1.8.1->torchmetrics) (1.3.0)\n",
            "Installing collected packages: torchmetrics\n",
            "Successfully installed torchmetrics-0.11.4\n"
          ]
        }
      ],
      "source": [
        "import os\n",
        "import torch\n",
        "os.environ['TORCH'] = torch.__version__\n",
        "print(torch.__version__)\n",
        "\n",
        "!pip install -q torch-scatter -f https://data.pyg.org/whl/torch-${TORCH}.html\n",
        "!pip install -q torch-sparse -f https://data.pyg.org/whl/torch-${TORCH}.html\n",
        "!pip install -q git+https://github.com/pyg-team/pytorch_geometric.git\n",
        "!pip install torchmetrics"
      ]
    },
    {
      "cell_type": "code",
      "source": [
        "import torch\n",
        "import torch.nn.functional as F\n",
        "import torch_geometric\n",
        "from torch_geometric.data import Dataset, Data\n",
        "from torch_geometric.nn import GCNConv, GATConv\n",
        "from torch_geometric.transforms import RandomNodeSplit\n",
        "from torchmetrics.classification import BinaryHammingDistance"
      ],
      "metadata": {
        "id": "60Uf21e2bfFS"
      },
      "execution_count": 2,
      "outputs": []
    },
    {
      "cell_type": "code",
      "source": [
        "import pandas as pd\n",
        "import numpy as np\n",
        "import json\n",
        "import glob\n",
        "%matplotlib inline\n",
        "import matplotlib.pyplot as plt\n",
        "from sklearn.manifold import TSNE"
      ],
      "metadata": {
        "id": "ic-3zTIOb_Y8"
      },
      "execution_count": 3,
      "outputs": []
    },
    {
      "cell_type": "code",
      "source": [
        "import sys\n",
        "is_colab = 'google.colab' in sys.modules\n",
        "\n",
        "if is_colab:\n",
        "    from google.colab import auth\n",
        "    auth.authenticate_user()"
      ],
      "metadata": {
        "id": "ydz96kCdkBth"
      },
      "execution_count": 4,
      "outputs": []
    },
    {
      "cell_type": "code",
      "source": [
        "from google.colab import drive\n",
        "drive.mount('/content/drive')\n",
        "drive_path = '/content/drive/Shareddrives/CS523/lastFM-data/'"
      ],
      "metadata": {
        "colab": {
          "base_uri": "https://localhost:8080/"
        },
        "id": "ENNRDCAFkRNP",
        "outputId": "b5f05229-5a88-41b6-b65d-bf0f6e3121fd"
      },
      "execution_count": 5,
      "outputs": [
        {
          "output_type": "stream",
          "name": "stdout",
          "text": [
            "Mounted at /content/drive\n"
          ]
        }
      ]
    },
    {
      "cell_type": "markdown",
      "source": [
        "### Load dataset: LastFM"
      ],
      "metadata": {
        "id": "Hy92RRnibgEX"
      }
    },
    {
      "cell_type": "code",
      "source": [
        "df_feat = pd.read_json(drive_path + 'processed_feature.json')   # load features\n",
        "arr_feat = df_feat.T.values\n",
        "df_edge = pd.read_csv(drive_path + 'lastfm_asia_edges.csv')   # load edge indices\n",
        "arr_edge = df_edge.T.values\n",
        "df_tar = pd.read_csv(drive_path + 'lastfm_asia_target.csv', index_col=0)   # load targets\n",
        "arr_tar = df_tar.values\n",
        "num_features = arr_feat.shape[1]\n",
        "num_classes = len(df_tar.target.unique())\n",
        "classes = df_tar.target.sort_values().unique()\n",
        "\n",
        "print('Dataset:')\n",
        "print('====================')\n",
        "print(f'Number of nodes: {arr_feat.shape[0]}')\n",
        "print(f'Number of features: {num_features}')\n",
        "print(f'Number of edges: {arr_edge.shape[1]}')\n",
        "print(f'Number of distinct regions: {num_classes}')\n",
        "print(f'All region classes: {classes}')"
      ],
      "metadata": {
        "colab": {
          "base_uri": "https://localhost:8080/"
        },
        "id": "OjZdIyqKjrM0",
        "outputId": "cbd2a410-dc41-4ba3-b3ce-1abb653bfd16"
      },
      "execution_count": 6,
      "outputs": [
        {
          "output_type": "stream",
          "name": "stdout",
          "text": [
            "Dataset:\n",
            "====================\n",
            "Number of nodes: 7624\n",
            "Number of features: 7842\n",
            "Number of edges: 27806\n",
            "Number of distinct regions: 18\n",
            "All region classes: [ 0  1  2  3  4  5  6  7  8  9 10 11 12 13 14 15 16 17]\n"
          ]
        }
      ]
    },
    {
      "cell_type": "code",
      "source": [
        "graph_metadata = {'data': arr_feat, 'edge_index': arr_edge, 'label': arr_tar}"
      ],
      "metadata": {
        "id": "04Yjji1BqS8z"
      },
      "execution_count": 7,
      "outputs": []
    },
    {
      "cell_type": "markdown",
      "source": [
        "### Create GraphDataset"
      ],
      "metadata": {
        "id": "MSa2dZP0pTVo"
      }
    },
    {
      "cell_type": "code",
      "source": [
        "class GraphDataset(Dataset):\n",
        "    \n",
        "    def __init__(self, root, out_dir, metadata, transform=None, pre_transform=None, pre_filter=None):\n",
        "        self.root = root\n",
        "        self.out_dir = out_dir\n",
        "        self.metadata = metadata\n",
        "        super(GraphDataset, self).__init__(root, transform, pre_transform, pre_filter)\n",
        "\n",
        "    @property\n",
        "    def raw_file_names(self):\n",
        "        return root\n",
        "\n",
        "    @property\n",
        "    def processed_file_names(self):\n",
        "        return glob.glob(f'{self.out_dir}/*.pt')\n",
        "\n",
        "    def download(self):\n",
        "        pass\n",
        "    \n",
        "    \n",
        "    def process(self):\n",
        "\n",
        "        self.node_features = torch.tensor(self.metadata['data'], dtype=torch.float)\n",
        "        self.edge_index = torch.tensor(self.metadata['edge_index'], dtype=torch.int64)\n",
        "        self.label = torch.tensor(self.metadata['label'], dtype=torch.int64)\n",
        "\n",
        "        data = Data(x = self.node_features, \n",
        "                    edge_index = self.edge_index,\n",
        "                    # edge_attr = None,\n",
        "                    y = self.label)\n",
        "\n",
        "        torch.save(data, f'{self.out_dir}/data.pt')\n",
        "\n",
        "    def len(self):\n",
        "        return self.node_features.shape[0]\n",
        "\n",
        "    def get(self):\n",
        "        data = torch.load(f'{self.out_dir}/data.pt')\n",
        "        return data"
      ],
      "metadata": {
        "id": "eyvO5T5mpWZC"
      },
      "execution_count": 8,
      "outputs": []
    },
    {
      "cell_type": "code",
      "source": [
        "root = ''\n",
        "out_dir = 'graph_data'\n",
        "os.mkdir(out_dir)\n",
        "metadata = graph_metadata\n",
        "dataset = GraphDataset(root=root, out_dir=out_dir, metadata=metadata)"
      ],
      "metadata": {
        "colab": {
          "base_uri": "https://localhost:8080/"
        },
        "id": "deb4Wyu2sJzy",
        "outputId": "4ad797d3-0da5-4311-c249-bbe6b64e6587"
      },
      "execution_count": 9,
      "outputs": [
        {
          "output_type": "stream",
          "name": "stderr",
          "text": [
            "Processing...\n",
            "Done!\n"
          ]
        }
      ]
    },
    {
      "cell_type": "code",
      "source": [
        "# inspect the graph dataset\n",
        "data = dataset.get()\n",
        "print()\n",
        "print(data)\n",
        "print('=============================================================')\n",
        "print(f'Number of nodes: {data.num_nodes}')\n",
        "print(f'Number of edges: {data.num_edges}')"
      ],
      "metadata": {
        "colab": {
          "base_uri": "https://localhost:8080/"
        },
        "id": "Q8Q_Lz4Ttpz8",
        "outputId": "120847d1-39b2-41f5-9274-0f306bf01297"
      },
      "execution_count": 10,
      "outputs": [
        {
          "output_type": "stream",
          "name": "stdout",
          "text": [
            "\n",
            "Data(x=[7624, 7842], edge_index=[2, 27806], y=[7624, 1])\n",
            "=============================================================\n",
            "Number of nodes: 7624\n",
            "Number of edges: 27806\n"
          ]
        }
      ]
    },
    {
      "cell_type": "markdown",
      "source": [
        "### Train/valid/test split"
      ],
      "metadata": {
        "id": "JA8yaxXFvx__"
      }
    },
    {
      "cell_type": "code",
      "source": [
        "# train_ratio = 0.6\n",
        "valid_ratio = 0.2\n",
        "test_ratio = 0.2\n",
        "split = RandomNodeSplit(num_val = valid_ratio, num_test = test_ratio)\n",
        "split_graph = split(data)"
      ],
      "metadata": {
        "id": "K-YXNrOXygSn"
      },
      "execution_count": 11,
      "outputs": []
    },
    {
      "cell_type": "code",
      "source": [
        "print(f'Number of training nodes: {data.train_mask.sum()}')\n",
        "print(f'Number of validation nodes: {data.val_mask.sum()}')\n",
        "print(f'Number of testing nodes: {data.test_mask.sum()}')"
      ],
      "metadata": {
        "colab": {
          "base_uri": "https://localhost:8080/"
        },
        "id": "WAMcMg0E0u6_",
        "outputId": "b787118b-94cb-4148-e358-97b66c50a536"
      },
      "execution_count": 12,
      "outputs": [
        {
          "output_type": "stream",
          "name": "stdout",
          "text": [
            "Number of training nodes: 4574\n",
            "Number of validation nodes: 1525\n",
            "Number of testing nodes: 1525\n"
          ]
        }
      ]
    },
    {
      "cell_type": "markdown",
      "source": [
        "### Build GNN"
      ],
      "metadata": {
        "id": "va7_CVtBc3d8"
      }
    },
    {
      "cell_type": "code",
      "source": [
        "class GCN(torch.nn.Module):\n",
        "    def __init__(self, hidden_channels1, hidden_channels2, hidden_channels3):\n",
        "        super().__init__()\n",
        "        # torch.manual_seed(42)\n",
        "        self.conv1 = GCNConv(num_features, hidden_channels1)\n",
        "        self.conv2 = GCNConv(hidden_channels1, hidden_channels2)\n",
        "        self.conv3 = GCNConv(hidden_channels2, hidden_channels3)\n",
        "        self.linear = torch.nn.Linear(hidden_channels3, num_features)\n",
        "\n",
        "    def forward(self, x, edge_index):\n",
        "        x = self.conv1(x, edge_index)\n",
        "        x = x.relu()\n",
        "        # x = F.dropout(x, p=0.5, training=self.training)\n",
        "        x = self.conv2(x, edge_index)\n",
        "        x = x.relu()\n",
        "        x = self.conv3(x, edge_index)\n",
        "        x = x.relu()\n",
        "        x = self.linear(x)\n",
        "        x = x.sigmoid()\n",
        "        return x"
      ],
      "metadata": {
        "id": "XGxTkf2iVzuQ"
      },
      "execution_count": 17,
      "outputs": []
    },
    {
      "cell_type": "code",
      "source": [
        "model = GCN(1024, 512, 256)\n",
        "print(model)"
      ],
      "metadata": {
        "colab": {
          "base_uri": "https://localhost:8080/"
        },
        "id": "aoZYoUOvc77N",
        "outputId": "284aa0fe-0293-47ec-bc31-a149f8ade6a4"
      },
      "execution_count": 18,
      "outputs": [
        {
          "output_type": "stream",
          "name": "stdout",
          "text": [
            "GCN(\n",
            "  (conv1): GCNConv(7842, 1024)\n",
            "  (conv2): GCNConv(1024, 512)\n",
            "  (conv3): GCNConv(512, 256)\n",
            "  (linear): Linear(in_features=256, out_features=7842, bias=True)\n",
            ")\n"
          ]
        }
      ]
    },
    {
      "cell_type": "code",
      "source": [
        "criterion = torch.nn.BCEWithLogitsLoss()\n",
        "optimizer = torch.optim.Adam(model.parameters(), lr=5e-4, weight_decay=5e-4)"
      ],
      "metadata": {
        "id": "RyeLJOYR1yDt"
      },
      "execution_count": 19,
      "outputs": []
    },
    {
      "cell_type": "code",
      "source": [
        "def train():\n",
        "      model.train()\n",
        "      optimizer.zero_grad()\n",
        "      out = model(data.x, data.edge_index)\n",
        "      loss = criterion(out[data.train_mask], data.x[data.train_mask])\n",
        "      loss.backward()\n",
        "      optimizer.step()\n",
        "      return loss\n",
        "\n",
        "def test():\n",
        "      test_acc = []\n",
        "      model.eval()\n",
        "      out = model(data.x, data.edge_index)\n",
        "      metric = BinaryHammingDistance(task='multilabel', num_labels=2)   # measure average disagreement in a binary task\n",
        "      test_acc = 1 - metric(out[data.test_mask], data.x[data.test_mask])\n",
        "      return test_acc\n",
        "\n",
        "for epoch in range(100):\n",
        "    loss = train()\n",
        "    print(f'Epoch: {epoch+1:02d}, Loss: {loss:.4f}')"
      ],
      "metadata": {
        "colab": {
          "base_uri": "https://localhost:8080/"
        },
        "id": "TrQrdyzdddCA",
        "outputId": "3bb33997-3ed6-4b80-bbe7-f4d707df1d4e"
      },
      "execution_count": 20,
      "outputs": [
        {
          "output_type": "stream",
          "name": "stdout",
          "text": [
            "Epoch: 01, Loss: 0.9491\n",
            "Epoch: 02, Loss: 0.9485\n",
            "Epoch: 03, Loss: 0.9479\n",
            "Epoch: 04, Loss: 0.9471\n",
            "Epoch: 05, Loss: 0.9459\n",
            "Epoch: 06, Loss: 0.9441\n",
            "Epoch: 07, Loss: 0.9411\n",
            "Epoch: 08, Loss: 0.9366\n",
            "Epoch: 09, Loss: 0.9297\n",
            "Epoch: 10, Loss: 0.9198\n",
            "Epoch: 11, Loss: 0.9063\n",
            "Epoch: 12, Loss: 0.8891\n",
            "Epoch: 13, Loss: 0.8687\n",
            "Epoch: 14, Loss: 0.8461\n",
            "Epoch: 15, Loss: 0.8229\n",
            "Epoch: 16, Loss: 0.8006\n",
            "Epoch: 17, Loss: 0.7804\n",
            "Epoch: 18, Loss: 0.7629\n",
            "Epoch: 19, Loss: 0.7484\n",
            "Epoch: 20, Loss: 0.7369\n",
            "Epoch: 21, Loss: 0.7281\n",
            "Epoch: 22, Loss: 0.7214\n",
            "Epoch: 23, Loss: 0.7163\n",
            "Epoch: 24, Loss: 0.7126\n",
            "Epoch: 25, Loss: 0.7100\n",
            "Epoch: 26, Loss: 0.7081\n",
            "Epoch: 27, Loss: 0.7068\n",
            "Epoch: 28, Loss: 0.7057\n",
            "Epoch: 29, Loss: 0.7049\n",
            "Epoch: 30, Loss: 0.7041\n",
            "Epoch: 31, Loss: 0.7036\n",
            "Epoch: 32, Loss: 0.7033\n",
            "Epoch: 33, Loss: 0.7030\n",
            "Epoch: 34, Loss: 0.7027\n",
            "Epoch: 35, Loss: 0.7024\n",
            "Epoch: 36, Loss: 0.7022\n",
            "Epoch: 37, Loss: 0.7021\n",
            "Epoch: 38, Loss: 0.7020\n",
            "Epoch: 39, Loss: 0.7019\n",
            "Epoch: 40, Loss: 0.7019\n",
            "Epoch: 41, Loss: 0.7019\n",
            "Epoch: 42, Loss: 0.7019\n",
            "Epoch: 43, Loss: 0.7018\n",
            "Epoch: 44, Loss: 0.7018\n",
            "Epoch: 45, Loss: 0.7019\n",
            "Epoch: 46, Loss: 0.7020\n",
            "Epoch: 47, Loss: 0.7021\n",
            "Epoch: 48, Loss: 0.7022\n",
            "Epoch: 49, Loss: 0.7023\n",
            "Epoch: 50, Loss: 0.7024\n",
            "Epoch: 51, Loss: 0.7025\n",
            "Epoch: 52, Loss: 0.7025\n",
            "Epoch: 53, Loss: 0.7025\n",
            "Epoch: 54, Loss: 0.7024\n",
            "Epoch: 55, Loss: 0.7024\n",
            "Epoch: 56, Loss: 0.7023\n",
            "Epoch: 57, Loss: 0.7022\n",
            "Epoch: 58, Loss: 0.7021\n",
            "Epoch: 59, Loss: 0.7020\n",
            "Epoch: 60, Loss: 0.7019\n",
            "Epoch: 61, Loss: 0.7017\n",
            "Epoch: 62, Loss: 0.7016\n",
            "Epoch: 63, Loss: 0.7015\n",
            "Epoch: 64, Loss: 0.7014\n",
            "Epoch: 65, Loss: 0.7013\n",
            "Epoch: 66, Loss: 0.7012\n",
            "Epoch: 67, Loss: 0.7011\n",
            "Epoch: 68, Loss: 0.7010\n",
            "Epoch: 69, Loss: 0.7009\n",
            "Epoch: 70, Loss: 0.7008\n",
            "Epoch: 71, Loss: 0.7008\n",
            "Epoch: 72, Loss: 0.7007\n",
            "Epoch: 73, Loss: 0.7006\n",
            "Epoch: 74, Loss: 0.7006\n",
            "Epoch: 75, Loss: 0.7005\n",
            "Epoch: 76, Loss: 0.7004\n",
            "Epoch: 77, Loss: 0.7004\n",
            "Epoch: 78, Loss: 0.7003\n",
            "Epoch: 79, Loss: 0.7003\n",
            "Epoch: 80, Loss: 0.7003\n",
            "Epoch: 81, Loss: 0.7002\n",
            "Epoch: 82, Loss: 0.7002\n",
            "Epoch: 83, Loss: 0.7002\n",
            "Epoch: 84, Loss: 0.7001\n",
            "Epoch: 85, Loss: 0.7001\n",
            "Epoch: 86, Loss: 0.7001\n",
            "Epoch: 87, Loss: 0.7001\n",
            "Epoch: 88, Loss: 0.7000\n",
            "Epoch: 89, Loss: 0.7000\n",
            "Epoch: 90, Loss: 0.7000\n",
            "Epoch: 91, Loss: 0.6999\n",
            "Epoch: 92, Loss: 0.6998\n",
            "Epoch: 93, Loss: 0.6998\n",
            "Epoch: 94, Loss: 0.6998\n",
            "Epoch: 95, Loss: 0.6997\n",
            "Epoch: 96, Loss: 0.6997\n",
            "Epoch: 97, Loss: 0.6997\n",
            "Epoch: 98, Loss: 0.6996\n",
            "Epoch: 99, Loss: 0.6996\n",
            "Epoch: 100, Loss: 0.6996\n"
          ]
        }
      ]
    },
    {
      "cell_type": "code",
      "source": [
        "test_acc = test()\n",
        "print(f'Test Accuracy: {test_acc:.4f}')"
      ],
      "metadata": {
        "colab": {
          "base_uri": "https://localhost:8080/"
        },
        "id": "1nHwPGm7vLyc",
        "outputId": "70092e21-856a-47d7-e97c-5206afceb750"
      },
      "execution_count": 21,
      "outputs": [
        {
          "output_type": "stream",
          "name": "stdout",
          "text": [
            "Test Accuracy: 0.9491\n"
          ]
        }
      ]
    }
  ]
}