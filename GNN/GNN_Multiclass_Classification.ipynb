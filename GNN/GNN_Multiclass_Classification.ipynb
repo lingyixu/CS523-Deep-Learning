{
  "nbformat": 4,
  "nbformat_minor": 0,
  "metadata": {
    "colab": {
      "provenance": [],
      "include_colab_link": true
    },
    "kernelspec": {
      "name": "python3",
      "display_name": "Python 3"
    },
    "language_info": {
      "name": "python"
    },
    "accelerator": "GPU",
    "gpuClass": "premium"
  },
  "cells": [
    {
      "cell_type": "markdown",
      "metadata": {
        "id": "view-in-github",
        "colab_type": "text"
      },
      "source": [
        "<a href=\"https://colab.research.google.com/github/lingyixu/CS523-Deep-Learning/blob/main/GNN/GNN_Classification.ipynb\" target=\"_parent\"><img src=\"https://colab.research.google.com/assets/colab-badge.svg\" alt=\"Open In Colab\"/></a>"
      ]
    },
    {
      "cell_type": "markdown",
      "source": [
        "### Load packages"
      ],
      "metadata": {
        "id": "docIYKxAba5j"
      }
    },
    {
      "cell_type": "code",
      "execution_count": 1,
      "metadata": {
        "colab": {
          "base_uri": "https://localhost:8080/"
        },
        "id": "L7P6Gln1UcWV",
        "outputId": "9e7093d4-9f26-4b4b-b16f-2b37b8f6154c"
      },
      "outputs": [
        {
          "output_type": "stream",
          "name": "stdout",
          "text": [
            "2.0.0+cu118\n",
            "  Installing build dependencies ... \u001b[?25l\u001b[?25hdone\n",
            "  Getting requirements to build wheel ... \u001b[?25l\u001b[?25hdone\n",
            "  Preparing metadata (pyproject.toml) ... \u001b[?25l\u001b[?25hdone\n",
            "  Building wheel for torch_geometric (pyproject.toml) ... \u001b[?25l\u001b[?25hdone\n"
          ]
        }
      ],
      "source": [
        "import os\n",
        "import torch\n",
        "os.environ['TORCH'] = torch.__version__\n",
        "print(torch.__version__)\n",
        "\n",
        "!pip install -q torch-scatter -f https://data.pyg.org/whl/torch-${TORCH}.html\n",
        "!pip install -q torch-sparse -f https://data.pyg.org/whl/torch-${TORCH}.html\n",
        "!pip install -q git+https://github.com/pyg-team/pytorch_geometric.git"
      ]
    },
    {
      "cell_type": "code",
      "source": [
        "import torch\n",
        "import torch.nn.functional as F\n",
        "import torch_geometric\n",
        "from torch_geometric.data import Dataset, Data\n",
        "from torch_geometric.nn import GCNConv, GATConv\n",
        "from torch_geometric.transforms import RandomNodeSplit"
      ],
      "metadata": {
        "id": "60Uf21e2bfFS"
      },
      "execution_count": 2,
      "outputs": []
    },
    {
      "cell_type": "code",
      "source": [
        "import pandas as pd\n",
        "import numpy as np\n",
        "import json\n",
        "import glob\n",
        "%matplotlib inline\n",
        "import matplotlib.pyplot as plt\n",
        "from sklearn.manifold import TSNE"
      ],
      "metadata": {
        "id": "ic-3zTIOb_Y8"
      },
      "execution_count": 3,
      "outputs": []
    },
    {
      "cell_type": "code",
      "source": [
        "import sys\n",
        "is_colab = 'google.colab' in sys.modules\n",
        "\n",
        "if is_colab:\n",
        "    from google.colab import auth\n",
        "    auth.authenticate_user()"
      ],
      "metadata": {
        "id": "ydz96kCdkBth"
      },
      "execution_count": 4,
      "outputs": []
    },
    {
      "cell_type": "code",
      "source": [
        "from google.colab import drive\n",
        "drive.mount('/content/drive')\n",
        "drive_path = '/content/drive/Shareddrives/CS523/lastFM-data/'"
      ],
      "metadata": {
        "colab": {
          "base_uri": "https://localhost:8080/"
        },
        "id": "ENNRDCAFkRNP",
        "outputId": "05ca72ce-fbd9-4d77-b258-11f6ab4a51f6"
      },
      "execution_count": 5,
      "outputs": [
        {
          "output_type": "stream",
          "name": "stdout",
          "text": [
            "Mounted at /content/drive\n"
          ]
        }
      ]
    },
    {
      "cell_type": "markdown",
      "source": [
        "### Load dataset: LastFM"
      ],
      "metadata": {
        "id": "Hy92RRnibgEX"
      }
    },
    {
      "cell_type": "code",
      "source": [
        "df_feat = pd.read_json(drive_path + 'processed_feature.json')   # load features\n",
        "arr_feat = df_feat.T.values\n",
        "df_edge = pd.read_csv(drive_path + 'lastfm_asia_edges.csv')   # load edge indices\n",
        "arr_edge = df_edge.T.values\n",
        "df_tar = pd.read_csv(drive_path + 'lastfm_asia_target.csv', index_col=0)   # load targets\n",
        "arr_tar = df_tar.values\n",
        "num_features = arr_feat.shape[1]\n",
        "num_classes = len(df_tar.target.unique())\n",
        "classes = df_tar.target.sort_values().unique()\n",
        "\n",
        "print('Dataset:')\n",
        "print('====================')\n",
        "print(f'Number of nodes: {arr_feat.shape[0]}')\n",
        "print(f'Number of features: {num_features}')\n",
        "print(f'Number of edges: {arr_edge.shape[1]}')\n",
        "print(f'Number of distinct regions: {num_classes}')\n",
        "print(f'All region classes: {classes}')"
      ],
      "metadata": {
        "colab": {
          "base_uri": "https://localhost:8080/"
        },
        "id": "OjZdIyqKjrM0",
        "outputId": "5f99ed2b-a0ed-4252-f465-9c1764199a44"
      },
      "execution_count": 6,
      "outputs": [
        {
          "output_type": "stream",
          "name": "stdout",
          "text": [
            "Dataset:\n",
            "====================\n",
            "Number of nodes: 7624\n",
            "Number of features: 7842\n",
            "Number of edges: 27806\n",
            "Number of distinct regions: 18\n",
            "All region classes: [ 0  1  2  3  4  5  6  7  8  9 10 11 12 13 14 15 16 17]\n"
          ]
        }
      ]
    },
    {
      "cell_type": "code",
      "source": [
        "graph_metadata = {'data': arr_feat, 'edge_index': arr_edge, 'label': arr_tar}"
      ],
      "metadata": {
        "id": "04Yjji1BqS8z"
      },
      "execution_count": 7,
      "outputs": []
    },
    {
      "cell_type": "markdown",
      "source": [
        "### Create GraphDataset"
      ],
      "metadata": {
        "id": "MSa2dZP0pTVo"
      }
    },
    {
      "cell_type": "code",
      "source": [
        "class GraphDataset(Dataset):\n",
        "    \n",
        "    def __init__(self, root, out_dir, metadata, transform=None, pre_transform=None, pre_filter=None):\n",
        "        self.root = root\n",
        "        self.out_dir = out_dir\n",
        "        self.metadata = metadata\n",
        "        super(GraphDataset, self).__init__(root, transform, pre_transform, pre_filter)\n",
        "\n",
        "    @property\n",
        "    def raw_file_names(self):\n",
        "        return root\n",
        "\n",
        "    @property\n",
        "    def processed_file_names(self):\n",
        "        return glob.glob(f'{self.out_dir}/*.pt')\n",
        "\n",
        "    def download(self):\n",
        "        pass\n",
        "    \n",
        "    \n",
        "    def process(self):\n",
        "\n",
        "        self.node_features = torch.tensor(self.metadata['data'], dtype=torch.float)\n",
        "        self.edge_index = torch.tensor(self.metadata['edge_index'], dtype=torch.int64)\n",
        "        self.label = torch.tensor(self.metadata['label'], dtype=torch.int64)\n",
        "\n",
        "        data = Data(x = self.node_features, \n",
        "                    edge_index = self.edge_index,\n",
        "                    # edge_attr = None,\n",
        "                    y = self.label)\n",
        "\n",
        "        torch.save(data, f'{self.out_dir}/data.pt')\n",
        "\n",
        "    def len(self):\n",
        "        return self.node_features.shape[0]\n",
        "\n",
        "    def get(self):\n",
        "        data = torch.load(f'{self.out_dir}/data.pt')\n",
        "        return data"
      ],
      "metadata": {
        "id": "eyvO5T5mpWZC"
      },
      "execution_count": 8,
      "outputs": []
    },
    {
      "cell_type": "code",
      "source": [
        "root = ''\n",
        "out_dir = 'graph_data'\n",
        "os.mkdir(out_dir)\n",
        "metadata = graph_metadata\n",
        "dataset = GraphDataset(root=root, out_dir=out_dir, metadata=metadata)"
      ],
      "metadata": {
        "colab": {
          "base_uri": "https://localhost:8080/"
        },
        "id": "deb4Wyu2sJzy",
        "outputId": "bc37070e-e823-44ec-eceb-6fc3d61acd6f"
      },
      "execution_count": 9,
      "outputs": [
        {
          "output_type": "stream",
          "name": "stderr",
          "text": [
            "Processing...\n",
            "Done!\n"
          ]
        }
      ]
    },
    {
      "cell_type": "code",
      "source": [
        "# inspect the graph dataset\n",
        "data = dataset.get()\n",
        "print()\n",
        "print(data)\n",
        "print('=============================================================')\n",
        "print(f'Number of nodes: {data.num_nodes}')\n",
        "print(f'Number of edges: {data.num_edges}')"
      ],
      "metadata": {
        "colab": {
          "base_uri": "https://localhost:8080/"
        },
        "id": "Q8Q_Lz4Ttpz8",
        "outputId": "81fefa7a-c71b-40ee-b7e6-2fcadd06857c"
      },
      "execution_count": 10,
      "outputs": [
        {
          "output_type": "stream",
          "name": "stdout",
          "text": [
            "\n",
            "Data(x=[7624, 7842], edge_index=[2, 27806], y=[7624, 1])\n",
            "=============================================================\n",
            "Number of nodes: 7624\n",
            "Number of edges: 27806\n"
          ]
        }
      ]
    },
    {
      "cell_type": "markdown",
      "source": [
        "### Train/valid/test split"
      ],
      "metadata": {
        "id": "JA8yaxXFvx__"
      }
    },
    {
      "cell_type": "code",
      "source": [
        "# train_ratio = 0.6\n",
        "valid_ratio = 0.2\n",
        "test_ratio = 0.2\n",
        "split = RandomNodeSplit(num_val = valid_ratio, num_test = test_ratio)\n",
        "split_graph = split(data)"
      ],
      "metadata": {
        "id": "K-YXNrOXygSn"
      },
      "execution_count": 11,
      "outputs": []
    },
    {
      "cell_type": "code",
      "source": [
        "print(f'Number of training nodes: {data.train_mask.sum()}')\n",
        "print(f'Number of validation nodes: {data.val_mask.sum()}')\n",
        "print(f'Number of testing nodes: {data.test_mask.sum()}')"
      ],
      "metadata": {
        "colab": {
          "base_uri": "https://localhost:8080/"
        },
        "id": "WAMcMg0E0u6_",
        "outputId": "4fa254d2-2676-4779-fff8-e75505b5f05a"
      },
      "execution_count": 12,
      "outputs": [
        {
          "output_type": "stream",
          "name": "stdout",
          "text": [
            "Number of training nodes: 4574\n",
            "Number of validation nodes: 1525\n",
            "Number of testing nodes: 1525\n"
          ]
        }
      ]
    },
    {
      "cell_type": "markdown",
      "source": [
        "### Build GNN"
      ],
      "metadata": {
        "id": "va7_CVtBc3d8"
      }
    },
    {
      "cell_type": "code",
      "source": [
        "class GCN(torch.nn.Module):\n",
        "    def __init__(self, hidden_channels1, hidden_channels2, hidden_channels3):\n",
        "        super().__init__()\n",
        "        # torch.manual_seed(42)\n",
        "        self.conv1 = GCNConv(num_features, hidden_channels1)\n",
        "        self.conv2 = GCNConv(hidden_channels1, hidden_channels2)\n",
        "        self.conv3 = GCNConv(hidden_channels2, hidden_channels3)\n",
        "        self.linear = torch.nn.Linear(hidden_channels3, num_classes)\n",
        "\n",
        "    def forward(self, x, edge_index):\n",
        "        x = self.conv1(x, edge_index)\n",
        "        x = x.relu()\n",
        "        # x = F.dropout(x, p=0.5, training=self.training)\n",
        "        x = self.conv2(x, edge_index)\n",
        "        x = x.relu()\n",
        "        x = self.conv3(x, edge_index)\n",
        "        x = x.relu()\n",
        "        x = self.linear(x)\n",
        "        return x"
      ],
      "metadata": {
        "id": "XGxTkf2iVzuQ"
      },
      "execution_count": 23,
      "outputs": []
    },
    {
      "cell_type": "code",
      "source": [
        "model = GCN(256, 128, 64)\n",
        "print(model)"
      ],
      "metadata": {
        "colab": {
          "base_uri": "https://localhost:8080/"
        },
        "id": "aoZYoUOvc77N",
        "outputId": "07073964-49df-4ca8-d3af-47f7ebb9a09b"
      },
      "execution_count": 24,
      "outputs": [
        {
          "output_type": "stream",
          "name": "stdout",
          "text": [
            "GCN(\n",
            "  (conv1): GCNConv(7842, 256)\n",
            "  (conv2): GCNConv(256, 128)\n",
            "  (conv3): GCNConv(128, 64)\n",
            "  (linear): Linear(in_features=64, out_features=18, bias=True)\n",
            ")\n"
          ]
        }
      ]
    },
    {
      "cell_type": "code",
      "source": [
        "criterion = torch.nn.CrossEntropyLoss()\n",
        "optimizer = torch.optim.Adam(model.parameters(), lr=5e-4, weight_decay=5e-4)"
      ],
      "metadata": {
        "id": "RyeLJOYR1yDt"
      },
      "execution_count": 25,
      "outputs": []
    },
    {
      "cell_type": "code",
      "source": [
        "def train():\n",
        "      model.train()\n",
        "      optimizer.zero_grad()\n",
        "      out = model(data.x, data.edge_index)\n",
        "      loss = criterion(out[data.train_mask], data.y[data.train_mask].flatten())\n",
        "      loss.backward()\n",
        "      optimizer.step()\n",
        "      return loss\n",
        "\n",
        "def test():\n",
        "      model.eval()\n",
        "      out = model(data.x, data.edge_index)\n",
        "      pred = out.argmax(dim=1)\n",
        "      test_correct = pred[data.test_mask] == data.y[data.test_mask].flatten()\n",
        "      test_acc = int(test_correct.sum()) / int(data.test_mask.sum())\n",
        "      return test_acc\n",
        "\n",
        "for epoch in range(100):\n",
        "    loss = train()\n",
        "    print(f'Epoch: {epoch+1:02d}, Loss: {loss:.4f}')"
      ],
      "metadata": {
        "colab": {
          "base_uri": "https://localhost:8080/"
        },
        "id": "TrQrdyzdddCA",
        "outputId": "8326dd55-7f1c-467f-a0d5-f7fa7db8fe92"
      },
      "execution_count": 26,
      "outputs": [
        {
          "output_type": "stream",
          "name": "stdout",
          "text": [
            "Epoch: 01, Loss: 2.9264\n",
            "Epoch: 02, Loss: 2.7785\n",
            "Epoch: 03, Loss: 2.6372\n",
            "Epoch: 04, Loss: 2.4812\n",
            "Epoch: 05, Loss: 2.3227\n",
            "Epoch: 06, Loss: 2.1692\n",
            "Epoch: 07, Loss: 2.0153\n",
            "Epoch: 08, Loss: 1.8679\n",
            "Epoch: 09, Loss: 1.7319\n",
            "Epoch: 10, Loss: 1.6108\n",
            "Epoch: 11, Loss: 1.5019\n",
            "Epoch: 12, Loss: 1.4041\n",
            "Epoch: 13, Loss: 1.3197\n",
            "Epoch: 14, Loss: 1.2478\n",
            "Epoch: 15, Loss: 1.1847\n",
            "Epoch: 16, Loss: 1.1278\n",
            "Epoch: 17, Loss: 1.0770\n",
            "Epoch: 18, Loss: 1.0321\n",
            "Epoch: 19, Loss: 0.9915\n",
            "Epoch: 20, Loss: 0.9544\n",
            "Epoch: 21, Loss: 0.9202\n",
            "Epoch: 22, Loss: 0.8888\n",
            "Epoch: 23, Loss: 0.8592\n",
            "Epoch: 24, Loss: 0.8306\n",
            "Epoch: 25, Loss: 0.8032\n",
            "Epoch: 26, Loss: 0.7774\n",
            "Epoch: 27, Loss: 0.7530\n",
            "Epoch: 28, Loss: 0.7295\n",
            "Epoch: 29, Loss: 0.7069\n",
            "Epoch: 30, Loss: 0.6854\n",
            "Epoch: 31, Loss: 0.6649\n",
            "Epoch: 32, Loss: 0.6456\n",
            "Epoch: 33, Loss: 0.6273\n",
            "Epoch: 34, Loss: 0.6097\n",
            "Epoch: 35, Loss: 0.5926\n",
            "Epoch: 36, Loss: 0.5761\n",
            "Epoch: 37, Loss: 0.5605\n",
            "Epoch: 38, Loss: 0.5456\n",
            "Epoch: 39, Loss: 0.5313\n",
            "Epoch: 40, Loss: 0.5177\n",
            "Epoch: 41, Loss: 0.5047\n",
            "Epoch: 42, Loss: 0.4921\n",
            "Epoch: 43, Loss: 0.4802\n",
            "Epoch: 44, Loss: 0.4688\n",
            "Epoch: 45, Loss: 0.4580\n",
            "Epoch: 46, Loss: 0.4476\n",
            "Epoch: 47, Loss: 0.4374\n",
            "Epoch: 48, Loss: 0.4275\n",
            "Epoch: 49, Loss: 0.4182\n",
            "Epoch: 50, Loss: 0.4092\n",
            "Epoch: 51, Loss: 0.4006\n",
            "Epoch: 52, Loss: 0.3924\n",
            "Epoch: 53, Loss: 0.3846\n",
            "Epoch: 54, Loss: 0.3770\n",
            "Epoch: 55, Loss: 0.3695\n",
            "Epoch: 56, Loss: 0.3623\n",
            "Epoch: 57, Loss: 0.3552\n",
            "Epoch: 58, Loss: 0.3483\n",
            "Epoch: 59, Loss: 0.3417\n",
            "Epoch: 60, Loss: 0.3354\n",
            "Epoch: 61, Loss: 0.3293\n",
            "Epoch: 62, Loss: 0.3234\n",
            "Epoch: 63, Loss: 0.3176\n",
            "Epoch: 64, Loss: 0.3120\n",
            "Epoch: 65, Loss: 0.3066\n",
            "Epoch: 66, Loss: 0.3013\n",
            "Epoch: 67, Loss: 0.2962\n",
            "Epoch: 68, Loss: 0.2912\n",
            "Epoch: 69, Loss: 0.2863\n",
            "Epoch: 70, Loss: 0.2815\n",
            "Epoch: 71, Loss: 0.2768\n",
            "Epoch: 72, Loss: 0.2723\n",
            "Epoch: 73, Loss: 0.2678\n",
            "Epoch: 74, Loss: 0.2636\n",
            "Epoch: 75, Loss: 0.2594\n",
            "Epoch: 76, Loss: 0.2553\n",
            "Epoch: 77, Loss: 0.2514\n",
            "Epoch: 78, Loss: 0.2477\n",
            "Epoch: 79, Loss: 0.2450\n",
            "Epoch: 80, Loss: 0.2442\n",
            "Epoch: 81, Loss: 0.2450\n",
            "Epoch: 82, Loss: 0.2358\n",
            "Epoch: 83, Loss: 0.2311\n",
            "Epoch: 84, Loss: 0.2328\n",
            "Epoch: 85, Loss: 0.2261\n",
            "Epoch: 86, Loss: 0.2228\n",
            "Epoch: 87, Loss: 0.2231\n",
            "Epoch: 88, Loss: 0.2167\n",
            "Epoch: 89, Loss: 0.2157\n",
            "Epoch: 90, Loss: 0.2141\n",
            "Epoch: 91, Loss: 0.2088\n",
            "Epoch: 92, Loss: 0.2089\n",
            "Epoch: 93, Loss: 0.2060\n",
            "Epoch: 94, Loss: 0.2019\n",
            "Epoch: 95, Loss: 0.2020\n",
            "Epoch: 96, Loss: 0.1983\n",
            "Epoch: 97, Loss: 0.1956\n",
            "Epoch: 98, Loss: 0.1950\n",
            "Epoch: 99, Loss: 0.1914\n",
            "Epoch: 100, Loss: 0.1894\n"
          ]
        }
      ]
    },
    {
      "cell_type": "code",
      "source": [
        "test_acc = test()\n",
        "print(f'Test Accuracy: {test_acc:.4f}')"
      ],
      "metadata": {
        "colab": {
          "base_uri": "https://localhost:8080/"
        },
        "id": "kK-EBS32efm7",
        "outputId": "7c1c79ea-8f3d-4455-f857-f506ec8bc288"
      },
      "execution_count": 27,
      "outputs": [
        {
          "output_type": "stream",
          "name": "stdout",
          "text": [
            "Test Accuracy: 0.8085\n"
          ]
        }
      ]
    }
  ]
}
