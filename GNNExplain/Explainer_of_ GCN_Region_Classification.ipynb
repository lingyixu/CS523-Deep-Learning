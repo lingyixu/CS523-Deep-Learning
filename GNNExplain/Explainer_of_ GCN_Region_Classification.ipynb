{
  "nbformat": 4,
  "nbformat_minor": 0,
  "metadata": {
    "colab": {
      "provenance": []
    },
    "kernelspec": {
      "name": "python3",
      "display_name": "Python 3"
    },
    "language_info": {
      "name": "python"
    },
    "accelerator": "GPU",
    "gpuClass": "standard"
  },
  "cells": [
    {
      "cell_type": "markdown",
      "source": [
        "### Load packages"
      ],
      "metadata": {
        "id": "docIYKxAba5j"
      }
    },
    {
      "cell_type": "code",
      "execution_count": 1,
      "metadata": {
        "colab": {
          "base_uri": "https://localhost:8080/"
        },
        "id": "L7P6Gln1UcWV",
        "outputId": "a91e2052-c2f5-4b85-8316-2cc00325348e"
      },
      "outputs": [
        {
          "output_type": "stream",
          "name": "stdout",
          "text": [
            "2.0.0+cu118\n",
            "\u001b[2K     \u001b[90m━━━━━━━━━━━━━━━━━━━━━━━━━━━━━━━━━━━━━━━━\u001b[0m \u001b[32m10.2/10.2 MB\u001b[0m \u001b[31m41.6 MB/s\u001b[0m eta \u001b[36m0:00:00\u001b[0m\n",
            "\u001b[2K     \u001b[90m━━━━━━━━━━━━━━━━━━━━━━━━━━━━━━━━━━━━━━━━\u001b[0m \u001b[32m4.8/4.8 MB\u001b[0m \u001b[31m10.9 MB/s\u001b[0m eta \u001b[36m0:00:00\u001b[0m\n",
            "\u001b[?25h  Installing build dependencies ... \u001b[?25l\u001b[?25hdone\n",
            "  Getting requirements to build wheel ... \u001b[?25l\u001b[?25hdone\n",
            "  Preparing metadata (pyproject.toml) ... \u001b[?25l\u001b[?25hdone\n",
            "  Building wheel for torch_geometric (pyproject.toml) ... \u001b[?25l\u001b[?25hdone\n"
          ]
        }
      ],
      "source": [
        "import os\n",
        "import torch\n",
        "os.environ['TORCH'] = torch.__version__\n",
        "print(torch.__version__)\n",
        "\n",
        "!pip install -q torch-scatter -f https://data.pyg.org/whl/torch-${TORCH}.html\n",
        "!pip install -q torch-sparse -f https://data.pyg.org/whl/torch-${TORCH}.html\n",
        "!pip install -q git+https://github.com/pyg-team/pytorch_geometric.git"
      ]
    },
    {
      "cell_type": "code",
      "source": [
        "import torch\n",
        "import torch.nn.functional as F\n",
        "import torch_geometric\n",
        "from torch_geometric.data import Dataset, Data\n",
        "from torch_geometric.nn import GCNConv, GATConv\n",
        "from torch_geometric.transforms import RandomNodeSplit"
      ],
      "metadata": {
        "id": "60Uf21e2bfFS"
      },
      "execution_count": 2,
      "outputs": []
    },
    {
      "cell_type": "code",
      "source": [
        "import pandas as pd\n",
        "import numpy as np\n",
        "import json\n",
        "import glob\n",
        "%matplotlib inline\n",
        "import matplotlib.pyplot as plt\n",
        "from sklearn.manifold import TSNE"
      ],
      "metadata": {
        "id": "ic-3zTIOb_Y8"
      },
      "execution_count": 3,
      "outputs": []
    },
    {
      "cell_type": "code",
      "source": [
        "import sys\n",
        "is_colab = 'google.colab' in sys.modules\n",
        "\n",
        "if is_colab:\n",
        "    from google.colab import auth\n",
        "    auth.authenticate_user()"
      ],
      "metadata": {
        "id": "ydz96kCdkBth"
      },
      "execution_count": 4,
      "outputs": []
    },
    {
      "cell_type": "code",
      "source": [
        "from google.colab import drive\n",
        "drive.mount('/content/drive')\n",
        "drive_path = '/content/drive/Shareddrives/CS523/lastFM-data/'"
      ],
      "metadata": {
        "colab": {
          "base_uri": "https://localhost:8080/"
        },
        "id": "ENNRDCAFkRNP",
        "outputId": "8b00172d-6e45-4c1c-e5e2-43d8faf23fbd"
      },
      "execution_count": 5,
      "outputs": [
        {
          "output_type": "stream",
          "name": "stdout",
          "text": [
            "Mounted at /content/drive\n"
          ]
        }
      ]
    },
    {
      "cell_type": "markdown",
      "source": [
        "### Load dataset: LastFM"
      ],
      "metadata": {
        "id": "Hy92RRnibgEX"
      }
    },
    {
      "cell_type": "code",
      "source": [
        "df_feat = pd.read_json(drive_path + 'processed_feature.json')   # load features\n",
        "arr_feat = df_feat.T.values\n",
        "df_edge = pd.read_csv(drive_path + 'lastfm_asia_edges.csv')   # load edge indices\n",
        "arr_edge = df_edge.T.values\n",
        "df_tar = pd.read_csv(drive_path + 'lastfm_asia_target.csv', index_col=0)   # load targets\n",
        "arr_tar = df_tar.values\n",
        "num_features = arr_feat.shape[1]\n",
        "num_classes = len(df_tar.target.unique())\n",
        "classes = df_tar.target.sort_values().unique()\n",
        "\n",
        "print('Dataset:')\n",
        "print('====================')\n",
        "print(f'Number of nodes: {arr_feat.shape[0]}')\n",
        "print(f'Number of features: {num_features}')\n",
        "print(f'Number of edges: {arr_edge.shape[1]}')\n",
        "print(f'Number of distinct regions: {num_classes}')\n",
        "print(f'All region classes: {classes}')"
      ],
      "metadata": {
        "colab": {
          "base_uri": "https://localhost:8080/"
        },
        "id": "OjZdIyqKjrM0",
        "outputId": "9dddff62-0466-45ba-a3ca-9f41d0b357a1"
      },
      "execution_count": 6,
      "outputs": [
        {
          "output_type": "stream",
          "name": "stdout",
          "text": [
            "Dataset:\n",
            "====================\n",
            "Number of nodes: 7624\n",
            "Number of features: 7842\n",
            "Number of edges: 27806\n",
            "Number of distinct regions: 18\n",
            "All region classes: [ 0  1  2  3  4  5  6  7  8  9 10 11 12 13 14 15 16 17]\n"
          ]
        }
      ]
    },
    {
      "cell_type": "code",
      "source": [
        "graph_metadata = {'data': arr_feat, 'edge_index': arr_edge, 'label': arr_tar}"
      ],
      "metadata": {
        "id": "04Yjji1BqS8z"
      },
      "execution_count": 7,
      "outputs": []
    },
    {
      "cell_type": "markdown",
      "source": [
        "### Create GraphDataset"
      ],
      "metadata": {
        "id": "MSa2dZP0pTVo"
      }
    },
    {
      "cell_type": "code",
      "source": [
        "class GraphDataset(Dataset):\n",
        "    \n",
        "    def __init__(self, root, out_dir, metadata, transform=None, pre_transform=None, pre_filter=None):\n",
        "        self.root = root\n",
        "        self.out_dir = out_dir\n",
        "        self.metadata = metadata\n",
        "        super(GraphDataset, self).__init__(root, transform, pre_transform, pre_filter)\n",
        "\n",
        "    @property\n",
        "    def raw_file_names(self):\n",
        "        return root\n",
        "\n",
        "    @property\n",
        "    def processed_file_names(self):\n",
        "        return glob.glob(f'{self.out_dir}/*.pt')\n",
        "\n",
        "    def download(self):\n",
        "        pass\n",
        "    \n",
        "    \n",
        "    def process(self):\n",
        "\n",
        "        self.node_features = torch.tensor(self.metadata['data'], dtype=torch.float)\n",
        "        self.edge_index = torch.tensor(self.metadata['edge_index'], dtype=torch.int64)\n",
        "        self.label = torch.tensor(self.metadata['label'], dtype=torch.int64)\n",
        "\n",
        "        data = Data(x = self.node_features, \n",
        "                    edge_index = self.edge_index,\n",
        "                    # edge_attr = None,\n",
        "                    y = self.label)\n",
        "\n",
        "        torch.save(data, f'{self.out_dir}/data.pt')\n",
        "\n",
        "    def len(self):\n",
        "        return self.node_features.shape[0]\n",
        "\n",
        "    def get(self):\n",
        "        data = torch.load(f'{self.out_dir}/data.pt')\n",
        "        return data"
      ],
      "metadata": {
        "id": "eyvO5T5mpWZC"
      },
      "execution_count": 8,
      "outputs": []
    },
    {
      "cell_type": "code",
      "source": [
        "root = ''\n",
        "out_dir = 'graph_data'\n",
        "os.mkdir(out_dir)\n",
        "metadata = graph_metadata\n",
        "dataset = GraphDataset(root=root, out_dir=out_dir, metadata=metadata)"
      ],
      "metadata": {
        "colab": {
          "base_uri": "https://localhost:8080/"
        },
        "id": "deb4Wyu2sJzy",
        "outputId": "8f967a4d-2be4-46ba-bef9-ff339c777bbf"
      },
      "execution_count": 9,
      "outputs": [
        {
          "output_type": "stream",
          "name": "stderr",
          "text": [
            "Processing...\n",
            "Done!\n"
          ]
        }
      ]
    },
    {
      "cell_type": "code",
      "source": [
        "# inspect the graph dataset\n",
        "data = dataset.get()\n",
        "print()\n",
        "print(data)\n",
        "print('=============================================================')\n",
        "print(f'Number of nodes: {data.num_nodes}')\n",
        "print(f'Number of edges: {data.num_edges}')"
      ],
      "metadata": {
        "colab": {
          "base_uri": "https://localhost:8080/"
        },
        "id": "Q8Q_Lz4Ttpz8",
        "outputId": "a2eff0bf-f426-4881-b995-c3e9b9d32add"
      },
      "execution_count": 10,
      "outputs": [
        {
          "output_type": "stream",
          "name": "stdout",
          "text": [
            "\n",
            "Data(x=[7624, 7842], edge_index=[2, 27806], y=[7624, 1])\n",
            "=============================================================\n",
            "Number of nodes: 7624\n",
            "Number of edges: 27806\n"
          ]
        }
      ]
    },
    {
      "cell_type": "markdown",
      "source": [
        "### Train/valid/test split"
      ],
      "metadata": {
        "id": "JA8yaxXFvx__"
      }
    },
    {
      "cell_type": "code",
      "source": [
        "# train_ratio = 0.6\n",
        "valid_ratio = 0.2\n",
        "test_ratio = 0.2\n",
        "split = RandomNodeSplit(num_val = valid_ratio, num_test = test_ratio)\n",
        "split_graph = split(data)"
      ],
      "metadata": {
        "id": "K-YXNrOXygSn"
      },
      "execution_count": 11,
      "outputs": []
    },
    {
      "cell_type": "code",
      "source": [
        "print(f'Number of training nodes: {data.train_mask.sum()}')\n",
        "print(f'Number of validation nodes: {data.val_mask.sum()}')\n",
        "print(f'Number of testing nodes: {data.test_mask.sum()}')"
      ],
      "metadata": {
        "colab": {
          "base_uri": "https://localhost:8080/"
        },
        "id": "WAMcMg0E0u6_",
        "outputId": "61d12a3d-96ab-4ba0-ba7c-2059fcfaebd3"
      },
      "execution_count": 12,
      "outputs": [
        {
          "output_type": "stream",
          "name": "stdout",
          "text": [
            "Number of training nodes: 4574\n",
            "Number of validation nodes: 1525\n",
            "Number of testing nodes: 1525\n"
          ]
        }
      ]
    },
    {
      "cell_type": "markdown",
      "source": [
        "### Build GNN"
      ],
      "metadata": {
        "id": "va7_CVtBc3d8"
      }
    },
    {
      "cell_type": "code",
      "source": [
        "class GCN(torch.nn.Module):\n",
        "    def __init__(self, hidden_channels1, hidden_channels2, hidden_channels3):\n",
        "        super().__init__()\n",
        "        # torch.manual_seed(42)\n",
        "        self.conv1 = GCNConv(num_features, hidden_channels1)\n",
        "        self.conv2 = GCNConv(hidden_channels1, hidden_channels2)\n",
        "        self.conv3 = GCNConv(hidden_channels2, hidden_channels3)\n",
        "        self.linear = torch.nn.Linear(hidden_channels3, num_classes)\n",
        "\n",
        "    def forward(self, x, edge_index):\n",
        "        x = self.conv1(x, edge_index)\n",
        "        x = x.relu()\n",
        "        # x = F.dropout(x, p=0.5, training=self.training)\n",
        "        x = self.conv2(x, edge_index)\n",
        "        x = x.relu()\n",
        "        x = self.conv3(x, edge_index)\n",
        "        x = x.relu()\n",
        "        x = self.linear(x)\n",
        "        return x"
      ],
      "metadata": {
        "id": "XGxTkf2iVzuQ"
      },
      "execution_count": 13,
      "outputs": []
    },
    {
      "cell_type": "code",
      "source": [
        "model = GCN(256, 128, 64)\n",
        "print(model)"
      ],
      "metadata": {
        "colab": {
          "base_uri": "https://localhost:8080/"
        },
        "id": "aoZYoUOvc77N",
        "outputId": "d2a47c12-9369-4f82-ff29-655c341e2618"
      },
      "execution_count": 14,
      "outputs": [
        {
          "output_type": "stream",
          "name": "stdout",
          "text": [
            "GCN(\n",
            "  (conv1): GCNConv(7842, 256)\n",
            "  (conv2): GCNConv(256, 128)\n",
            "  (conv3): GCNConv(128, 64)\n",
            "  (linear): Linear(in_features=64, out_features=18, bias=True)\n",
            ")\n"
          ]
        }
      ]
    },
    {
      "cell_type": "code",
      "source": [
        "criterion = torch.nn.CrossEntropyLoss()\n",
        "optimizer = torch.optim.Adam(model.parameters(), lr=5e-4, weight_decay=5e-4)"
      ],
      "metadata": {
        "id": "RyeLJOYR1yDt"
      },
      "execution_count": 15,
      "outputs": []
    },
    {
      "cell_type": "code",
      "source": [
        "def train():\n",
        "      model.train()\n",
        "      optimizer.zero_grad()\n",
        "      out = model(data.x, data.edge_index)\n",
        "      loss = criterion(out[data.train_mask], data.y[data.train_mask].flatten())\n",
        "      loss.backward()\n",
        "      optimizer.step()\n",
        "      return loss\n",
        "\n",
        "def test():\n",
        "      model.eval()\n",
        "      out = model(data.x, data.edge_index)\n",
        "      pred = out.argmax(dim=1)\n",
        "      test_correct = pred[data.test_mask] == data.y[data.test_mask].flatten()\n",
        "      test_acc = int(test_correct.sum()) / int(data.test_mask.sum())\n",
        "      return test_acc\n",
        "\n",
        "for epoch in range(100):\n",
        "    loss = train()\n",
        "    print(f'Epoch: {epoch+1:02d}, Loss: {loss:.4f}')"
      ],
      "metadata": {
        "id": "TrQrdyzdddCA",
        "colab": {
          "base_uri": "https://localhost:8080/"
        },
        "outputId": "8aba54be-e0dd-4378-ea78-570ff0a823fa"
      },
      "execution_count": 16,
      "outputs": [
        {
          "output_type": "stream",
          "name": "stdout",
          "text": [
            "Epoch: 01, Loss: 2.9054\n",
            "Epoch: 02, Loss: 2.7162\n",
            "Epoch: 03, Loss: 2.5399\n",
            "Epoch: 04, Loss: 2.3837\n",
            "Epoch: 05, Loss: 2.2473\n",
            "Epoch: 06, Loss: 2.1221\n",
            "Epoch: 07, Loss: 1.9989\n",
            "Epoch: 08, Loss: 1.8814\n",
            "Epoch: 09, Loss: 1.7704\n",
            "Epoch: 10, Loss: 1.6623\n",
            "Epoch: 11, Loss: 1.5577\n",
            "Epoch: 12, Loss: 1.4608\n",
            "Epoch: 13, Loss: 1.3737\n",
            "Epoch: 14, Loss: 1.2971\n",
            "Epoch: 15, Loss: 1.2299\n",
            "Epoch: 16, Loss: 1.1715\n",
            "Epoch: 17, Loss: 1.1207\n",
            "Epoch: 18, Loss: 1.0762\n",
            "Epoch: 19, Loss: 1.0361\n",
            "Epoch: 20, Loss: 0.9980\n",
            "Epoch: 21, Loss: 0.9617\n",
            "Epoch: 22, Loss: 0.9281\n",
            "Epoch: 23, Loss: 0.8976\n",
            "Epoch: 24, Loss: 0.8690\n",
            "Epoch: 25, Loss: 0.8415\n",
            "Epoch: 26, Loss: 0.8151\n",
            "Epoch: 27, Loss: 0.7902\n",
            "Epoch: 28, Loss: 0.7661\n",
            "Epoch: 29, Loss: 0.7432\n",
            "Epoch: 30, Loss: 0.7214\n",
            "Epoch: 31, Loss: 0.7004\n",
            "Epoch: 32, Loss: 0.6802\n",
            "Epoch: 33, Loss: 0.6612\n",
            "Epoch: 34, Loss: 0.6429\n",
            "Epoch: 35, Loss: 0.6252\n",
            "Epoch: 36, Loss: 0.6083\n",
            "Epoch: 37, Loss: 0.5921\n",
            "Epoch: 38, Loss: 0.5767\n",
            "Epoch: 39, Loss: 0.5624\n",
            "Epoch: 40, Loss: 0.5488\n",
            "Epoch: 41, Loss: 0.5356\n",
            "Epoch: 42, Loss: 0.5229\n",
            "Epoch: 43, Loss: 0.5104\n",
            "Epoch: 44, Loss: 0.4984\n",
            "Epoch: 45, Loss: 0.4869\n",
            "Epoch: 46, Loss: 0.4758\n",
            "Epoch: 47, Loss: 0.4651\n",
            "Epoch: 48, Loss: 0.4546\n",
            "Epoch: 49, Loss: 0.4445\n",
            "Epoch: 50, Loss: 0.4347\n",
            "Epoch: 51, Loss: 0.4251\n",
            "Epoch: 52, Loss: 0.4158\n",
            "Epoch: 53, Loss: 0.4069\n",
            "Epoch: 54, Loss: 0.3982\n",
            "Epoch: 55, Loss: 0.3900\n",
            "Epoch: 56, Loss: 0.3820\n",
            "Epoch: 57, Loss: 0.3743\n",
            "Epoch: 58, Loss: 0.3669\n",
            "Epoch: 59, Loss: 0.3597\n",
            "Epoch: 60, Loss: 0.3527\n",
            "Epoch: 61, Loss: 0.3460\n",
            "Epoch: 62, Loss: 0.3395\n",
            "Epoch: 63, Loss: 0.3332\n",
            "Epoch: 64, Loss: 0.3269\n",
            "Epoch: 65, Loss: 0.3208\n",
            "Epoch: 66, Loss: 0.3148\n",
            "Epoch: 67, Loss: 0.3090\n",
            "Epoch: 68, Loss: 0.3033\n",
            "Epoch: 69, Loss: 0.2978\n",
            "Epoch: 70, Loss: 0.2925\n",
            "Epoch: 71, Loss: 0.2873\n",
            "Epoch: 72, Loss: 0.2822\n",
            "Epoch: 73, Loss: 0.2772\n",
            "Epoch: 74, Loss: 0.2724\n",
            "Epoch: 75, Loss: 0.2676\n",
            "Epoch: 76, Loss: 0.2630\n",
            "Epoch: 77, Loss: 0.2585\n",
            "Epoch: 78, Loss: 0.2541\n",
            "Epoch: 79, Loss: 0.2498\n",
            "Epoch: 80, Loss: 0.2456\n",
            "Epoch: 81, Loss: 0.2414\n",
            "Epoch: 82, Loss: 0.2374\n",
            "Epoch: 83, Loss: 0.2334\n",
            "Epoch: 84, Loss: 0.2295\n",
            "Epoch: 85, Loss: 0.2258\n",
            "Epoch: 86, Loss: 0.2221\n",
            "Epoch: 87, Loss: 0.2184\n",
            "Epoch: 88, Loss: 0.2150\n",
            "Epoch: 89, Loss: 0.2116\n",
            "Epoch: 90, Loss: 0.2082\n",
            "Epoch: 91, Loss: 0.2049\n",
            "Epoch: 92, Loss: 0.2017\n",
            "Epoch: 93, Loss: 0.1986\n",
            "Epoch: 94, Loss: 0.1955\n",
            "Epoch: 95, Loss: 0.1925\n",
            "Epoch: 96, Loss: 0.1898\n",
            "Epoch: 97, Loss: 0.1874\n",
            "Epoch: 98, Loss: 0.1868\n",
            "Epoch: 99, Loss: 0.1861\n",
            "Epoch: 100, Loss: 0.1849\n"
          ]
        }
      ]
    },
    {
      "cell_type": "code",
      "source": [
        "test_acc = test()\n",
        "print(f'Test Accuracy: {test_acc:.4f}')"
      ],
      "metadata": {
        "id": "kK-EBS32efm7",
        "colab": {
          "base_uri": "https://localhost:8080/"
        },
        "outputId": "dd0f55c0-022d-47cc-e4bb-73965e4cd1f7"
      },
      "execution_count": 17,
      "outputs": [
        {
          "output_type": "stream",
          "name": "stdout",
          "text": [
            "Test Accuracy: 0.8184\n"
          ]
        }
      ]
    },
    {
      "cell_type": "code",
      "source": [
        "from torch_geometric.explain import Explainer, GNNExplainer\n",
        "# Initialize explainer\n",
        "explainer = Explainer(\n",
        "    model=model,\n",
        "    algorithm=GNNExplainer(epochs=200),\n",
        "    explanation_type='model',\n",
        "    node_mask_type='attributes',\n",
        "    edge_mask_type='object',\n",
        "    model_config=dict(\n",
        "        mode='multiclass_classification',\n",
        "        task_level='node',\n",
        "        return_type='log_probs',\n",
        "    ),\n",
        ")\n",
        "node_index = 500\n",
        "explanation = explainer(data.x, data.edge_index, index=node_index)\n",
        "print(f'Generated explanations in {explanation.available_explanations}')\n",
        "\n",
        "path = 'feature_importance.png'\n",
        "explanation.visualize_feature_importance(path, top_k=10)\n",
        "print(f\"Feature importance plot has been saved to '{path}'\")\n",
        "\n",
        "path = 'subgraph.pdf'\n",
        "explanation.visualize_graph(path)\n",
        "print(f\"Subgraph visualization plot has been saved to '{path}'\")"
      ],
      "metadata": {
        "colab": {
          "base_uri": "https://localhost:8080/"
        },
        "id": "gBHYtvJQfFKS",
        "outputId": "133b0a01-d491-4a7b-9355-8542bac1812a"
      },
      "execution_count": 28,
      "outputs": [
        {
          "output_type": "stream",
          "name": "stdout",
          "text": [
            "Generated explanations in ['node_mask', 'edge_mask']\n",
            "Feature importance plot has been saved to 'feature_importance.png'\n",
            "Subgraph visualization plot has been saved to 'subgraph.pdf'\n"
          ]
        }
      ]
    },
    {
      "cell_type": "code",
      "source": [
        "explanation.edge_mask"
      ],
      "metadata": {
        "colab": {
          "base_uri": "https://localhost:8080/"
        },
        "id": "M-BsBz3Eli5x",
        "outputId": "da41497b-ab5d-4885-c490-ecd51271cce0"
      },
      "execution_count": 25,
      "outputs": [
        {
          "output_type": "execute_result",
          "data": {
            "text/plain": [
              "tensor([0., 0., 0.,  ..., 0., 0., 0.])"
            ]
          },
          "metadata": {},
          "execution_count": 25
        }
      ]
    },
    {
      "cell_type": "code",
      "source": [
        "# node_feat_mask, edge_feat_mask = explainer.explain_node(node_idx, data.x, data.edge_index)"
      ],
      "metadata": {
        "id": "omNJaZd9jMdN"
      },
      "execution_count": 19,
      "outputs": []
    },
    {
      "cell_type": "code",
      "source": [
        "path = 'graph.pdf'\n",
        "explanation.visualize_graph(path=path, backend=\"graphviz\")"
      ],
      "metadata": {
        "id": "Fcwa0vCym88e"
      },
      "execution_count": 26,
      "outputs": []
    }
  ]
}