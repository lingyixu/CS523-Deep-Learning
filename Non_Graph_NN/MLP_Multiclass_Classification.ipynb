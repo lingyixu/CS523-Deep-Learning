{
  "nbformat": 4,
  "nbformat_minor": 0,
  "metadata": {
    "colab": {
      "provenance": [],
      "include_colab_link": true
    },
    "kernelspec": {
      "name": "python3",
      "display_name": "Python 3"
    },
    "language_info": {
      "name": "python"
    },
    "gpuClass": "premium"
  },
  "cells": [
    {
      "cell_type": "markdown",
      "metadata": {
        "id": "view-in-github",
        "colab_type": "text"
      },
      "source": [
        "<a href=\"https://colab.research.google.com/github/lingyixu/CS523-Deep-Learning/blob/main/Non_Graph_NN/MLP_Multiclass_Classification.ipynb\" target=\"_parent\"><img src=\"https://colab.research.google.com/assets/colab-badge.svg\" alt=\"Open In Colab\"/></a>"
      ]
    },
    {
      "cell_type": "markdown",
      "source": [
        "### Load packages"
      ],
      "metadata": {
        "id": "docIYKxAba5j"
      }
    },
    {
      "cell_type": "code",
      "execution_count": 1,
      "metadata": {
        "colab": {
          "base_uri": "https://localhost:8080/"
        },
        "id": "L7P6Gln1UcWV",
        "outputId": "178d3383-0f52-45d9-ae5e-d44cdd46117a"
      },
      "outputs": [
        {
          "output_type": "stream",
          "name": "stdout",
          "text": [
            "2.0.0+cu118\n",
            "\u001b[2K     \u001b[90m━━━━━━━━━━━━━━━━━━━━━━━━━━━━━━━━━━━━━━━━\u001b[0m \u001b[32m10.2/10.2 MB\u001b[0m \u001b[31m13.2 MB/s\u001b[0m eta \u001b[36m0:00:00\u001b[0m\n",
            "\u001b[2K     \u001b[90m━━━━━━━━━━━━━━━━━━━━━━━━━━━━━━━━━━━━━━━━\u001b[0m \u001b[32m4.8/4.8 MB\u001b[0m \u001b[31m12.6 MB/s\u001b[0m eta \u001b[36m0:00:00\u001b[0m\n",
            "\u001b[?25h  Installing build dependencies ... \u001b[?25l\u001b[?25hdone\n",
            "  Getting requirements to build wheel ... \u001b[?25l\u001b[?25hdone\n",
            "  Preparing metadata (pyproject.toml) ... \u001b[?25l\u001b[?25hdone\n",
            "  Building wheel for torch_geometric (pyproject.toml) ... \u001b[?25l\u001b[?25hdone\n"
          ]
        }
      ],
      "source": [
        "import os\n",
        "import torch\n",
        "os.environ['TORCH'] = torch.__version__\n",
        "print(torch.__version__)\n",
        "\n",
        "!pip install -q torch-scatter -f https://data.pyg.org/whl/torch-${TORCH}.html\n",
        "!pip install -q torch-sparse -f https://data.pyg.org/whl/torch-${TORCH}.html\n",
        "!pip install -q git+https://github.com/pyg-team/pytorch_geometric.git"
      ]
    },
    {
      "cell_type": "code",
      "source": [
        "import torch\n",
        "import torch.nn.functional as F\n",
        "from torch import nn\n",
        "from torch.utils.data import Dataset, DataLoader\n",
        "from sklearn.model_selection import train_test_split\n",
        "# import torch_geometric\n",
        "# from torch_geometric.data import Dataset, Data\n",
        "# from torch_geometric.nn import GCNConv, GATConv\n",
        "# from torch_geometric.transforms import RandomNodeSplit"
      ],
      "metadata": {
        "id": "60Uf21e2bfFS"
      },
      "execution_count": 2,
      "outputs": []
    },
    {
      "cell_type": "code",
      "source": [
        "import pandas as pd\n",
        "import numpy as np\n",
        "import json\n",
        "import glob\n",
        "%matplotlib inline\n",
        "import matplotlib.pyplot as plt\n",
        "from sklearn.manifold import TSNE"
      ],
      "metadata": {
        "id": "ic-3zTIOb_Y8"
      },
      "execution_count": 3,
      "outputs": []
    },
    {
      "cell_type": "code",
      "source": [
        "from google.colab import drive\n",
        "drive.mount('/content/drive')\n",
        "drive_path = '/content/drive/Shareddrives/CS523/lastFM-data/'"
      ],
      "metadata": {
        "colab": {
          "base_uri": "https://localhost:8080/"
        },
        "id": "ENNRDCAFkRNP",
        "outputId": "e27745cb-1a65-48bf-ac63-1c3953103f7a"
      },
      "execution_count": 4,
      "outputs": [
        {
          "output_type": "stream",
          "name": "stdout",
          "text": [
            "Mounted at /content/drive\n"
          ]
        }
      ]
    },
    {
      "cell_type": "markdown",
      "source": [
        "### Load dataset: LastFM"
      ],
      "metadata": {
        "id": "Hy92RRnibgEX"
      }
    },
    {
      "cell_type": "code",
      "source": [
        "df_feat = pd.read_json(drive_path + 'processed_feature.json')   # load features\n",
        "arr_feat = df_feat.T.values\n",
        "df_edge = pd.read_csv(drive_path + 'lastfm_asia_edges.csv')   # load edge indices\n",
        "arr_edge = df_edge.T.values\n",
        "df_tar = pd.read_csv(drive_path + 'lastfm_asia_target.csv', index_col=0)   # load targets\n",
        "arr_tar = df_tar.values\n",
        "\n",
        "num_nodes = arr_feat.shape[0]\n",
        "num_features = arr_feat.shape[1]\n",
        "num_classes = len(df_tar.target.unique())\n",
        "classes = df_tar.target.sort_values().unique()\n",
        "\n",
        "print('Dataset:')\n",
        "print('====================')\n",
        "print(f'Number of users: {num_nodes}')\n",
        "print(f'Number of features: {num_features}')\n",
        "# print(f'Number of edges: {arr_edge.shape[1]}')\n",
        "print(f'Number of distinct regions: {num_classes}')\n",
        "print(f'All region classes: {classes}')"
      ],
      "metadata": {
        "colab": {
          "base_uri": "https://localhost:8080/"
        },
        "id": "OjZdIyqKjrM0",
        "outputId": "1c0be5d5-c68c-4f02-f323-08fd5cc648ce"
      },
      "execution_count": 5,
      "outputs": [
        {
          "output_type": "stream",
          "name": "stdout",
          "text": [
            "Dataset:\n",
            "====================\n",
            "Number of users: 7624\n",
            "Number of features: 7842\n",
            "Number of distinct regions: 18\n",
            "All region classes: [ 0  1  2  3  4  5  6  7  8  9 10 11 12 13 14 15 16 17]\n"
          ]
        }
      ]
    },
    {
      "cell_type": "markdown",
      "source": [
        "### Create Dataset"
      ],
      "metadata": {
        "id": "MSa2dZP0pTVo"
      }
    },
    {
      "cell_type": "code",
      "source": [
        "class LastFM(Dataset):\n",
        "    def __init__(self, x, y=None, transform=None):\n",
        "        self.x = torch.tensor(x, dtype=torch.float32)\n",
        "        self.y = torch.tensor(y, dtype=torch.long)\n",
        "        self.transform = transform\n",
        "        \n",
        "    def __len__(self):\n",
        "        return len(self.x)\n",
        "    \n",
        "    def __getitem__(self, index):\n",
        "        data = self.x[index,]\n",
        "        if self.transform is not None:\n",
        "            data = self.transform(data)\n",
        "        if self.y is not None:\n",
        "            return data, self.y[index]\n",
        "        else:\n",
        "            return data"
      ],
      "metadata": {
        "id": "xQmymeTy8NJF"
      },
      "execution_count": 6,
      "outputs": []
    },
    {
      "cell_type": "code",
      "source": [
        "# fm_dataset = LastFM(x=arr_feat, y=arr_tar)\n",
        "x_train, x_test, y_train, y_test = train_test_split(arr_feat, arr_tar, test_size=0.2, random_state=42)\n",
        "train_set = LastFM(x=x_train, y=y_train)\n",
        "test_set = LastFM(x=x_test, y=y_test)"
      ],
      "metadata": {
        "id": "_YCLEqgl7yDN"
      },
      "execution_count": 7,
      "outputs": []
    },
    {
      "cell_type": "code",
      "source": [
        "print(f'Number of training data: {len(train_set)}')\n",
        "print(f'Number of testing data: {len(test_set)}')"
      ],
      "metadata": {
        "colab": {
          "base_uri": "https://localhost:8080/"
        },
        "id": "WAMcMg0E0u6_",
        "outputId": "debb6150-01ae-44df-eb40-fd878f0bd98b"
      },
      "execution_count": 8,
      "outputs": [
        {
          "output_type": "stream",
          "name": "stdout",
          "text": [
            "Number of training data: 6099\n",
            "Number of testing data: 1525\n"
          ]
        }
      ]
    },
    {
      "cell_type": "markdown",
      "source": [
        "### Build Model"
      ],
      "metadata": {
        "id": "va7_CVtBc3d8"
      }
    },
    {
      "cell_type": "code",
      "source": [
        "# ref: https://www.kaggle.com/code/pinocookie/pytorch-simple-mlp/notebook\n",
        "class MLP(torch.nn.Module):\n",
        "    def __init__(self, hidden_channels1, hidden_channels2, hidden_channels3):\n",
        "        super().__init__()\n",
        "        # torch.manual_seed(42)\n",
        "        self.lin1 = nn.Linear(num_features, hidden_channels1)\n",
        "        self.lin2 = nn.Linear(hidden_channels1, hidden_channels2)\n",
        "        self.lin3 = nn.Linear(hidden_channels2, hidden_channels3)\n",
        "        self.lin4 = nn.Linear(hidden_channels3, num_classes)\n",
        "\n",
        "    def forward(self, x):\n",
        "        x = self.lin1(x)\n",
        "        x = x.relu()\n",
        "        x = F.dropout(x, p=0.1)\n",
        "        x = self.lin2(x)\n",
        "        x = x.relu()\n",
        "        x = F.dropout(x, p=0.1)\n",
        "        x = self.lin3(x)\n",
        "        x = x.relu()\n",
        "        x = F.dropout(x, p=0.1)\n",
        "        x = self.lin4(x)\n",
        "        return x"
      ],
      "metadata": {
        "id": "hUEIZ7NK6IuT"
      },
      "execution_count": 11,
      "outputs": []
    },
    {
      "cell_type": "code",
      "source": [
        "model = MLP(512, 256, 128)\n",
        "print(model)"
      ],
      "metadata": {
        "colab": {
          "base_uri": "https://localhost:8080/"
        },
        "id": "aoZYoUOvc77N",
        "outputId": "d0ef48e2-9ada-40b7-d16c-47e265bc02fb"
      },
      "execution_count": 12,
      "outputs": [
        {
          "output_type": "stream",
          "name": "stdout",
          "text": [
            "MLP(\n",
            "  (lin1): Linear(in_features=7842, out_features=512, bias=True)\n",
            "  (lin2): Linear(in_features=512, out_features=256, bias=True)\n",
            "  (lin3): Linear(in_features=256, out_features=128, bias=True)\n",
            "  (lin4): Linear(in_features=128, out_features=18, bias=True)\n",
            ")\n"
          ]
        }
      ]
    },
    {
      "cell_type": "code",
      "source": [
        "criterion = torch.nn.CrossEntropyLoss()\n",
        "optimizer = torch.optim.Adam(model.parameters(), lr=5e-4, weight_decay=5e-4)"
      ],
      "metadata": {
        "id": "RyeLJOYR1yDt"
      },
      "execution_count": 13,
      "outputs": []
    },
    {
      "cell_type": "code",
      "source": [
        "def train():\n",
        "      model.train()\n",
        "      optimizer.zero_grad()\n",
        "      out = model(train_set.x)\n",
        "      loss = criterion(out, train_set.y.flatten())\n",
        "      loss.backward()\n",
        "      optimizer.step()\n",
        "      return loss\n",
        "\n",
        "def test():\n",
        "      model.eval()\n",
        "      out = model(test_set.x)\n",
        "      pred = out.argmax(dim=1)\n",
        "      test_correct = pred == test_set.y.flatten()\n",
        "      test_acc = int(test_correct.sum()) / len(test_set)\n",
        "      return test_acc\n",
        "\n",
        "for epoch in range(50):\n",
        "    loss = train()\n",
        "    print(f'Epoch: {epoch+1:02d}, Loss: {loss:.4f}')"
      ],
      "metadata": {
        "colab": {
          "base_uri": "https://localhost:8080/"
        },
        "id": "TrQrdyzdddCA",
        "outputId": "e98e2b78-2d4e-4081-e84c-f7195e94c9c7"
      },
      "execution_count": 16,
      "outputs": [
        {
          "output_type": "stream",
          "name": "stdout",
          "text": [
            "Epoch: 01, Loss: 0.1220\n",
            "Epoch: 02, Loss: 0.1196\n",
            "Epoch: 03, Loss: 0.1186\n",
            "Epoch: 04, Loss: 0.1175\n",
            "Epoch: 05, Loss: 0.1161\n",
            "Epoch: 06, Loss: 0.1143\n",
            "Epoch: 07, Loss: 0.1132\n",
            "Epoch: 08, Loss: 0.1118\n",
            "Epoch: 09, Loss: 0.1105\n",
            "Epoch: 10, Loss: 0.1097\n",
            "Epoch: 11, Loss: 0.1088\n",
            "Epoch: 12, Loss: 0.1073\n",
            "Epoch: 13, Loss: 0.1045\n",
            "Epoch: 14, Loss: 0.1050\n",
            "Epoch: 15, Loss: 0.1045\n",
            "Epoch: 16, Loss: 0.1040\n",
            "Epoch: 17, Loss: 0.1024\n",
            "Epoch: 18, Loss: 0.1013\n",
            "Epoch: 19, Loss: 0.1004\n",
            "Epoch: 20, Loss: 0.0998\n",
            "Epoch: 21, Loss: 0.1001\n",
            "Epoch: 22, Loss: 0.0986\n",
            "Epoch: 23, Loss: 0.0972\n",
            "Epoch: 24, Loss: 0.0961\n",
            "Epoch: 25, Loss: 0.0965\n",
            "Epoch: 26, Loss: 0.0953\n",
            "Epoch: 27, Loss: 0.0949\n",
            "Epoch: 28, Loss: 0.0940\n",
            "Epoch: 29, Loss: 0.0923\n",
            "Epoch: 30, Loss: 0.0917\n",
            "Epoch: 31, Loss: 0.0917\n",
            "Epoch: 32, Loss: 0.0913\n",
            "Epoch: 33, Loss: 0.0897\n",
            "Epoch: 34, Loss: 0.0894\n",
            "Epoch: 35, Loss: 0.0887\n",
            "Epoch: 36, Loss: 0.0891\n",
            "Epoch: 37, Loss: 0.0885\n",
            "Epoch: 38, Loss: 0.0870\n",
            "Epoch: 39, Loss: 0.0862\n",
            "Epoch: 40, Loss: 0.0865\n",
            "Epoch: 41, Loss: 0.0854\n",
            "Epoch: 42, Loss: 0.0853\n",
            "Epoch: 43, Loss: 0.0849\n",
            "Epoch: 44, Loss: 0.0844\n",
            "Epoch: 45, Loss: 0.0838\n",
            "Epoch: 46, Loss: 0.0829\n",
            "Epoch: 47, Loss: 0.0843\n",
            "Epoch: 48, Loss: 0.0817\n",
            "Epoch: 49, Loss: 0.0836\n",
            "Epoch: 50, Loss: 0.0821\n"
          ]
        }
      ]
    },
    {
      "cell_type": "code",
      "source": [
        "test_acc = test()\n",
        "print(f'Test Accuracy: {test_acc:.4f}')"
      ],
      "metadata": {
        "colab": {
          "base_uri": "https://localhost:8080/"
        },
        "id": "kK-EBS32efm7",
        "outputId": "c16587d7-4f05-4c45-9b0c-54056c40a43e"
      },
      "execution_count": 18,
      "outputs": [
        {
          "output_type": "stream",
          "name": "stdout",
          "text": [
            "Test Accuracy: 0.7370\n"
          ]
        }
      ]
    }
  ]
}