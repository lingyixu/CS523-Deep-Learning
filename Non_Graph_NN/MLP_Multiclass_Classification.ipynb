{
  "nbformat": 4,
  "nbformat_minor": 0,
  "metadata": {
    "colab": {
      "provenance": [],
      "include_colab_link": true
    },
    "kernelspec": {
      "name": "python3",
      "display_name": "Python 3"
    },
    "language_info": {
      "name": "python"
    },
    "gpuClass": "premium"
  },
  "cells": [
    {
      "cell_type": "markdown",
      "metadata": {
        "id": "view-in-github",
        "colab_type": "text"
      },
      "source": [
        "<a href=\"https://colab.research.google.com/github/lingyixu/CS523-Deep-Learning/blob/main/Non_Graph_NN/MLP_Multiclass_Classification.ipynb\" target=\"_parent\"><img src=\"https://colab.research.google.com/assets/colab-badge.svg\" alt=\"Open In Colab\"/></a>"
      ]
    },
    {
      "cell_type": "markdown",
      "source": [
        "### Load packages"
      ],
      "metadata": {
        "id": "docIYKxAba5j"
      }
    },
    {
      "cell_type": "code",
      "execution_count": 1,
      "metadata": {
        "colab": {
          "base_uri": "https://localhost:8080/"
        },
        "id": "L7P6Gln1UcWV",
        "outputId": "001dd3d1-4e5e-4172-db80-75363560fd4b"
      },
      "outputs": [
        {
          "output_type": "stream",
          "name": "stdout",
          "text": [
            "2.0.0+cu118\n",
            "  Installing build dependencies ... \u001b[?25l\u001b[?25hdone\n",
            "  Getting requirements to build wheel ... \u001b[?25l\u001b[?25hdone\n",
            "  Preparing metadata (pyproject.toml) ... \u001b[?25l\u001b[?25hdone\n"
          ]
        }
      ],
      "source": [
        "import os\n",
        "import torch\n",
        "os.environ['TORCH'] = torch.__version__\n",
        "print(torch.__version__)\n",
        "\n",
        "!pip install -q torch-scatter -f https://data.pyg.org/whl/torch-${TORCH}.html\n",
        "!pip install -q torch-sparse -f https://data.pyg.org/whl/torch-${TORCH}.html\n",
        "!pip install -q git+https://github.com/pyg-team/pytorch_geometric.git"
      ]
    },
    {
      "cell_type": "code",
      "source": [
        "import torch\n",
        "import torch.nn.functional as F\n",
        "from torch import nn\n",
        "from torch.utils.data import Dataset, DataLoader\n",
        "from sklearn.model_selection import train_test_split\n",
        "# import torch_geometric\n",
        "# from torch_geometric.data import Dataset, Data\n",
        "# from torch_geometric.nn import GCNConv, GATConv\n",
        "# from torch_geometric.transforms import RandomNodeSplit"
      ],
      "metadata": {
        "id": "60Uf21e2bfFS"
      },
      "execution_count": 2,
      "outputs": []
    },
    {
      "cell_type": "code",
      "source": [
        "import pandas as pd\n",
        "import numpy as np\n",
        "import json\n",
        "import glob\n",
        "%matplotlib inline\n",
        "import matplotlib.pyplot as plt\n",
        "from sklearn.manifold import TSNE"
      ],
      "metadata": {
        "id": "ic-3zTIOb_Y8"
      },
      "execution_count": 3,
      "outputs": []
    },
    {
      "cell_type": "code",
      "source": [
        "from google.colab import drive\n",
        "drive.mount('/content/drive')\n",
        "drive_path = '/content/drive/Shareddrives/CS523/lastFM-data/'"
      ],
      "metadata": {
        "colab": {
          "base_uri": "https://localhost:8080/"
        },
        "id": "ENNRDCAFkRNP",
        "outputId": "b343b6a5-fe26-4863-a8d1-f365de5a779f"
      },
      "execution_count": 4,
      "outputs": [
        {
          "output_type": "stream",
          "name": "stdout",
          "text": [
            "Drive already mounted at /content/drive; to attempt to forcibly remount, call drive.mount(\"/content/drive\", force_remount=True).\n"
          ]
        }
      ]
    },
    {
      "cell_type": "markdown",
      "source": [
        "### Load dataset: LastFM"
      ],
      "metadata": {
        "id": "Hy92RRnibgEX"
      }
    },
    {
      "cell_type": "code",
      "source": [
        "df_feat = pd.read_json(drive_path + 'processed_feature.json')   # load features\n",
        "arr_feat = df_feat.T.values\n",
        "df_edge = pd.read_csv(drive_path + 'lastfm_asia_edges.csv')   # load edge indices\n",
        "arr_edge = df_edge.T.values\n",
        "df_tar = pd.read_csv(drive_path + 'lastfm_asia_target.csv', index_col=0)   # load targets\n",
        "arr_tar = df_tar.values\n",
        "\n",
        "num_nodes = arr_feat.shape[0]\n",
        "num_features = arr_feat.shape[1]\n",
        "num_classes = len(df_tar.target.unique())\n",
        "classes = df_tar.target.sort_values().unique()\n",
        "\n",
        "print('Dataset:')\n",
        "print('====================')\n",
        "print(f'Number of users: {num_nodes}')\n",
        "print(f'Number of features: {num_features}')\n",
        "# print(f'Number of edges: {arr_edge.shape[1]}')\n",
        "print(f'Number of distinct regions: {num_classes}')\n",
        "print(f'All region classes: {classes}')"
      ],
      "metadata": {
        "colab": {
          "base_uri": "https://localhost:8080/"
        },
        "id": "OjZdIyqKjrM0",
        "outputId": "c5a39675-cfa0-43fb-ce4a-7c1a2203fbf9"
      },
      "execution_count": 5,
      "outputs": [
        {
          "output_type": "stream",
          "name": "stdout",
          "text": [
            "Dataset:\n",
            "====================\n",
            "Number of users: 7624\n",
            "Number of features: 7842\n",
            "Number of distinct regions: 18\n",
            "All region classes: [ 0  1  2  3  4  5  6  7  8  9 10 11 12 13 14 15 16 17]\n"
          ]
        }
      ]
    },
    {
      "cell_type": "markdown",
      "source": [
        "### Create Dataset"
      ],
      "metadata": {
        "id": "MSa2dZP0pTVo"
      }
    },
    {
      "cell_type": "code",
      "source": [
        "class LastFM(Dataset):\n",
        "    def __init__(self, x, y=None, transform=None):\n",
        "        self.x = torch.tensor(x, dtype=torch.float32)\n",
        "        self.y = torch.tensor(y, dtype=torch.long)\n",
        "        self.transform = transform\n",
        "        \n",
        "    def __len__(self):\n",
        "        return len(self.x)\n",
        "    \n",
        "    def __getitem__(self, index):\n",
        "        data = self.x[index,]\n",
        "        if self.transform is not None:\n",
        "            data = self.transform(data)\n",
        "        if self.y is not None:\n",
        "            return data, self.y[index]\n",
        "        else:\n",
        "            return data"
      ],
      "metadata": {
        "id": "xQmymeTy8NJF"
      },
      "execution_count": 6,
      "outputs": []
    },
    {
      "cell_type": "code",
      "source": [
        "# fm_dataset = LastFM(x=arr_feat, y=arr_tar)\n",
        "x_train, x_test, y_train, y_test = train_test_split(arr_feat, arr_tar, test_size=0.2, random_state=42)\n",
        "train_set = LastFM(x=x_train, y=y_train)\n",
        "test_set = LastFM(x=x_test, y=y_test)"
      ],
      "metadata": {
        "id": "_YCLEqgl7yDN"
      },
      "execution_count": 7,
      "outputs": []
    },
    {
      "cell_type": "code",
      "source": [
        "print(f'Number of training data: {len(train_set)}')\n",
        "print(f'Number of testing data: {len(test_set)}')"
      ],
      "metadata": {
        "colab": {
          "base_uri": "https://localhost:8080/"
        },
        "id": "WAMcMg0E0u6_",
        "outputId": "0b954156-9140-4414-cb31-f1cb11487561"
      },
      "execution_count": 8,
      "outputs": [
        {
          "output_type": "stream",
          "name": "stdout",
          "text": [
            "Number of training data: 6099\n",
            "Number of testing data: 1525\n"
          ]
        }
      ]
    },
    {
      "cell_type": "markdown",
      "source": [
        "### Build Model"
      ],
      "metadata": {
        "id": "va7_CVtBc3d8"
      }
    },
    {
      "cell_type": "code",
      "source": [
        "# ref: https://www.kaggle.com/code/pinocookie/pytorch-simple-mlp/notebook\n",
        "class MLP(torch.nn.Module):\n",
        "    def __init__(self, hidden_channels1, hidden_channels2):\n",
        "        super().__init__()\n",
        "        # torch.manual_seed(42)\n",
        "        self.lin1 = nn.Linear(num_features, hidden_channels1)\n",
        "        self.lin2 = nn.Linear(hidden_channels1, hidden_channels2)\n",
        "        self.lin3 = nn.Linear(hidden_channels2, num_classes)\n",
        "\n",
        "    def forward(self, x):\n",
        "        x = self.lin1(x)\n",
        "        x = x.relu()\n",
        "        x = F.dropout(x, p=0.1)\n",
        "        x = self.lin2(x)\n",
        "        x = x.relu()\n",
        "        x = F.dropout(x, p=0.1)\n",
        "        x = self.lin3(x)\n",
        "        return x"
      ],
      "metadata": {
        "id": "hUEIZ7NK6IuT"
      },
      "execution_count": 9,
      "outputs": []
    },
    {
      "cell_type": "code",
      "source": [
        "model = MLP(256, 128)\n",
        "print(model)"
      ],
      "metadata": {
        "colab": {
          "base_uri": "https://localhost:8080/"
        },
        "id": "aoZYoUOvc77N",
        "outputId": "32d4c9af-cf94-4734-815b-3db07d1ac1bd"
      },
      "execution_count": 10,
      "outputs": [
        {
          "output_type": "stream",
          "name": "stdout",
          "text": [
            "MLP(\n",
            "  (lin1): Linear(in_features=7842, out_features=256, bias=True)\n",
            "  (lin2): Linear(in_features=256, out_features=128, bias=True)\n",
            "  (lin3): Linear(in_features=128, out_features=18, bias=True)\n",
            ")\n"
          ]
        }
      ]
    },
    {
      "cell_type": "code",
      "source": [
        "criterion = torch.nn.CrossEntropyLoss()\n",
        "optimizer = torch.optim.Adam(model.parameters(), lr=5e-4, weight_decay=5e-4)"
      ],
      "metadata": {
        "id": "RyeLJOYR1yDt"
      },
      "execution_count": 11,
      "outputs": []
    },
    {
      "cell_type": "code",
      "source": [
        "def train():\n",
        "      model.train()\n",
        "      optimizer.zero_grad()\n",
        "      out = model(train_set.x)\n",
        "      loss = criterion(out, train_set.y.flatten())\n",
        "      loss.backward()\n",
        "      optimizer.step()\n",
        "      return loss\n",
        "\n",
        "def test():\n",
        "      model.eval()\n",
        "      out = model(test_set.x)\n",
        "      pred = out.argmax(dim=1)\n",
        "      test_correct = pred == test_set.y.flatten()\n",
        "      test_acc = int(test_correct.sum()) / len(test_set)\n",
        "      return test_acc\n",
        "\n",
        "for epoch in range(100):\n",
        "    loss = train()\n",
        "    print(f'Epoch: {epoch+1:02d}, Loss: {loss:.4f}')"
      ],
      "metadata": {
        "colab": {
          "base_uri": "https://localhost:8080/"
        },
        "id": "TrQrdyzdddCA",
        "outputId": "2a94fe3e-6b67-47b0-ff33-4741880495e1"
      },
      "execution_count": 12,
      "outputs": [
        {
          "output_type": "stream",
          "name": "stdout",
          "text": [
            "Epoch: 01, Loss: 2.9106\n",
            "Epoch: 02, Loss: 2.8380\n",
            "Epoch: 03, Loss: 2.7612\n",
            "Epoch: 04, Loss: 2.6711\n",
            "Epoch: 05, Loss: 2.5722\n",
            "Epoch: 06, Loss: 2.4667\n",
            "Epoch: 07, Loss: 2.3637\n",
            "Epoch: 08, Loss: 2.2737\n",
            "Epoch: 09, Loss: 2.1928\n",
            "Epoch: 10, Loss: 2.1194\n",
            "Epoch: 11, Loss: 2.0496\n",
            "Epoch: 12, Loss: 1.9867\n",
            "Epoch: 13, Loss: 1.9186\n",
            "Epoch: 14, Loss: 1.8610\n",
            "Epoch: 15, Loss: 1.7978\n",
            "Epoch: 16, Loss: 1.7507\n",
            "Epoch: 17, Loss: 1.6949\n",
            "Epoch: 18, Loss: 1.6462\n",
            "Epoch: 19, Loss: 1.6009\n",
            "Epoch: 20, Loss: 1.5547\n",
            "Epoch: 21, Loss: 1.5069\n",
            "Epoch: 22, Loss: 1.4615\n",
            "Epoch: 23, Loss: 1.4243\n",
            "Epoch: 24, Loss: 1.3831\n",
            "Epoch: 25, Loss: 1.3472\n",
            "Epoch: 26, Loss: 1.3057\n",
            "Epoch: 27, Loss: 1.2725\n",
            "Epoch: 28, Loss: 1.2355\n",
            "Epoch: 29, Loss: 1.2026\n",
            "Epoch: 30, Loss: 1.1688\n",
            "Epoch: 31, Loss: 1.1352\n",
            "Epoch: 32, Loss: 1.1092\n",
            "Epoch: 33, Loss: 1.0787\n",
            "Epoch: 34, Loss: 1.0486\n",
            "Epoch: 35, Loss: 1.0124\n",
            "Epoch: 36, Loss: 0.9949\n",
            "Epoch: 37, Loss: 0.9621\n",
            "Epoch: 38, Loss: 0.9333\n",
            "Epoch: 39, Loss: 0.9107\n",
            "Epoch: 40, Loss: 0.8850\n",
            "Epoch: 41, Loss: 0.8584\n",
            "Epoch: 42, Loss: 0.8380\n",
            "Epoch: 43, Loss: 0.8179\n",
            "Epoch: 44, Loss: 0.7975\n",
            "Epoch: 45, Loss: 0.7723\n",
            "Epoch: 46, Loss: 0.7461\n",
            "Epoch: 47, Loss: 0.7292\n",
            "Epoch: 48, Loss: 0.7099\n",
            "Epoch: 49, Loss: 0.6943\n",
            "Epoch: 50, Loss: 0.6720\n",
            "Epoch: 51, Loss: 0.6552\n",
            "Epoch: 52, Loss: 0.6343\n",
            "Epoch: 53, Loss: 0.6139\n",
            "Epoch: 54, Loss: 0.5962\n",
            "Epoch: 55, Loss: 0.5793\n",
            "Epoch: 56, Loss: 0.5655\n",
            "Epoch: 57, Loss: 0.5472\n",
            "Epoch: 58, Loss: 0.5339\n",
            "Epoch: 59, Loss: 0.5153\n",
            "Epoch: 60, Loss: 0.5035\n",
            "Epoch: 61, Loss: 0.4867\n",
            "Epoch: 62, Loss: 0.4736\n",
            "Epoch: 63, Loss: 0.4599\n",
            "Epoch: 64, Loss: 0.4499\n",
            "Epoch: 65, Loss: 0.4339\n",
            "Epoch: 66, Loss: 0.4236\n",
            "Epoch: 67, Loss: 0.4180\n",
            "Epoch: 68, Loss: 0.4025\n",
            "Epoch: 69, Loss: 0.3931\n",
            "Epoch: 70, Loss: 0.3788\n",
            "Epoch: 71, Loss: 0.3722\n",
            "Epoch: 72, Loss: 0.3625\n",
            "Epoch: 73, Loss: 0.3556\n",
            "Epoch: 74, Loss: 0.3467\n",
            "Epoch: 75, Loss: 0.3380\n",
            "Epoch: 76, Loss: 0.3276\n",
            "Epoch: 77, Loss: 0.3201\n",
            "Epoch: 78, Loss: 0.3124\n",
            "Epoch: 79, Loss: 0.3073\n",
            "Epoch: 80, Loss: 0.3001\n",
            "Epoch: 81, Loss: 0.2928\n",
            "Epoch: 82, Loss: 0.2853\n",
            "Epoch: 83, Loss: 0.2816\n",
            "Epoch: 84, Loss: 0.2736\n",
            "Epoch: 85, Loss: 0.2689\n",
            "Epoch: 86, Loss: 0.2653\n",
            "Epoch: 87, Loss: 0.2584\n",
            "Epoch: 88, Loss: 0.2544\n",
            "Epoch: 89, Loss: 0.2489\n",
            "Epoch: 90, Loss: 0.2456\n",
            "Epoch: 91, Loss: 0.2405\n",
            "Epoch: 92, Loss: 0.2358\n",
            "Epoch: 93, Loss: 0.2330\n",
            "Epoch: 94, Loss: 0.2300\n",
            "Epoch: 95, Loss: 0.2239\n",
            "Epoch: 96, Loss: 0.2183\n",
            "Epoch: 97, Loss: 0.2198\n",
            "Epoch: 98, Loss: 0.2129\n",
            "Epoch: 99, Loss: 0.2101\n",
            "Epoch: 100, Loss: 0.2062\n"
          ]
        }
      ]
    },
    {
      "cell_type": "code",
      "source": [
        "test_acc = test()\n",
        "print(f'Test Accuracy: {test_acc:.4f}')"
      ],
      "metadata": {
        "colab": {
          "base_uri": "https://localhost:8080/"
        },
        "id": "kK-EBS32efm7",
        "outputId": "96a6fddb-7408-48d2-cfb1-1f783cfe60a6"
      },
      "execution_count": 13,
      "outputs": [
        {
          "output_type": "stream",
          "name": "stdout",
          "text": [
            "Test Accuracy: 0.7633\n"
          ]
        }
      ]
    }
  ]
}