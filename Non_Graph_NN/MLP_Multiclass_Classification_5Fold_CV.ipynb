{
  "nbformat": 4,
  "nbformat_minor": 0,
  "metadata": {
    "colab": {
      "provenance": [],
      "include_colab_link": true
    },
    "kernelspec": {
      "name": "python3",
      "display_name": "Python 3"
    },
    "language_info": {
      "name": "python"
    },
    "gpuClass": "premium",
    "accelerator": "GPU"
  },
  "cells": [
    {
      "cell_type": "markdown",
      "metadata": {
        "id": "view-in-github",
        "colab_type": "text"
      },
      "source": [
        "<a href=\"https://colab.research.google.com/github/lingyixu/CS523-Deep-Learning/blob/main/Non_Graph_NN/MLP_Multiclass_Classification_5Fold_CV.ipynb\" target=\"_parent\"><img src=\"https://colab.research.google.com/assets/colab-badge.svg\" alt=\"Open In Colab\"/></a>"
      ]
    },
    {
      "cell_type": "markdown",
      "source": [
        "### Load packages"
      ],
      "metadata": {
        "id": "docIYKxAba5j"
      }
    },
    {
      "cell_type": "code",
      "execution_count": 1,
      "metadata": {
        "colab": {
          "base_uri": "https://localhost:8080/"
        },
        "id": "L7P6Gln1UcWV",
        "outputId": "3ead086d-5cf9-4c0e-e14e-e70249e1b227"
      },
      "outputs": [
        {
          "output_type": "stream",
          "name": "stdout",
          "text": [
            "2.0.0+cu118\n",
            "\u001b[2K     \u001b[90m━━━━━━━━━━━━━━━━━━━━━━━━━━━━━━━━━━━━━━━━\u001b[0m \u001b[32m10.2/10.2 MB\u001b[0m \u001b[31m12.9 MB/s\u001b[0m eta \u001b[36m0:00:00\u001b[0m\n",
            "\u001b[2K     \u001b[90m━━━━━━━━━━━━━━━━━━━━━━━━━━━━━━━━━━━━━━━━\u001b[0m \u001b[32m4.8/4.8 MB\u001b[0m \u001b[31m64.0 MB/s\u001b[0m eta \u001b[36m0:00:00\u001b[0m\n",
            "\u001b[?25h  Installing build dependencies ... \u001b[?25l\u001b[?25hdone\n",
            "  Getting requirements to build wheel ... \u001b[?25l\u001b[?25hdone\n",
            "  Preparing metadata (pyproject.toml) ... \u001b[?25l\u001b[?25hdone\n",
            "  Building wheel for torch_geometric (pyproject.toml) ... \u001b[?25l\u001b[?25hdone\n"
          ]
        }
      ],
      "source": [
        "import os\n",
        "import torch\n",
        "os.environ['TORCH'] = torch.__version__\n",
        "print(torch.__version__)\n",
        "\n",
        "!pip install -q torch-scatter -f https://data.pyg.org/whl/torch-${TORCH}.html\n",
        "!pip install -q torch-sparse -f https://data.pyg.org/whl/torch-${TORCH}.html\n",
        "!pip install -q git+https://github.com/pyg-team/pytorch_geometric.git"
      ]
    },
    {
      "cell_type": "code",
      "source": [
        "import torch\n",
        "import torch.nn.functional as F\n",
        "from torch import nn\n",
        "from torch.utils.data import Dataset, DataLoader\n",
        "from sklearn.model_selection import KFold, train_test_split\n",
        "# import torch_geometric\n",
        "# from torch_geometric.data import Dataset, Data\n",
        "# from torch_geometric.nn import GCNConv, GATConv\n",
        "# from torch_geometric.transforms import RandomNodeSplit"
      ],
      "metadata": {
        "id": "60Uf21e2bfFS"
      },
      "execution_count": 2,
      "outputs": []
    },
    {
      "cell_type": "code",
      "source": [
        "import pandas as pd\n",
        "import numpy as np\n",
        "import json\n",
        "import glob\n",
        "%matplotlib inline\n",
        "import matplotlib.pyplot as plt\n",
        "from sklearn.manifold import TSNE"
      ],
      "metadata": {
        "id": "ic-3zTIOb_Y8"
      },
      "execution_count": 3,
      "outputs": []
    },
    {
      "cell_type": "code",
      "source": [
        "device = torch.device('cuda') if torch.cuda.is_available() else torch.device('cpu')\n",
        "device"
      ],
      "metadata": {
        "colab": {
          "base_uri": "https://localhost:8080/"
        },
        "id": "RrSYxEnKOzT8",
        "outputId": "35668e57-00e8-456c-cd26-59d3701d2f33"
      },
      "execution_count": 15,
      "outputs": [
        {
          "output_type": "execute_result",
          "data": {
            "text/plain": [
              "device(type='cuda')"
            ]
          },
          "metadata": {},
          "execution_count": 15
        }
      ]
    },
    {
      "cell_type": "code",
      "source": [
        "from google.colab import drive\n",
        "drive.mount('/content/drive')\n",
        "drive_path = '/content/drive/Shareddrives/CS523/lastFM-data/'"
      ],
      "metadata": {
        "colab": {
          "base_uri": "https://localhost:8080/"
        },
        "id": "ENNRDCAFkRNP",
        "outputId": "bf3e55fc-a2a6-4ec9-e16b-1d511687c284"
      },
      "execution_count": 4,
      "outputs": [
        {
          "output_type": "stream",
          "name": "stdout",
          "text": [
            "Mounted at /content/drive\n"
          ]
        }
      ]
    },
    {
      "cell_type": "markdown",
      "source": [
        "### Load dataset: LastFM"
      ],
      "metadata": {
        "id": "Hy92RRnibgEX"
      }
    },
    {
      "cell_type": "code",
      "source": [
        "df_feat = pd.read_json(drive_path + 'processed_feature.json')   # load features\n",
        "arr_feat = df_feat.T.values\n",
        "df_edge = pd.read_csv(drive_path + 'lastfm_asia_edges.csv')   # load edge indices\n",
        "arr_edge = df_edge.T.values\n",
        "df_tar = pd.read_csv(drive_path + 'lastfm_asia_target.csv', index_col=0)   # load targets\n",
        "arr_tar = df_tar.values\n",
        "\n",
        "num_nodes = arr_feat.shape[0]\n",
        "num_features = arr_feat.shape[1]\n",
        "num_classes = len(df_tar.target.unique())\n",
        "classes = df_tar.target.sort_values().unique()\n",
        "\n",
        "print('Dataset:')\n",
        "print('====================')\n",
        "print(f'Number of users: {num_nodes}')\n",
        "print(f'Number of features: {num_features}')\n",
        "# print(f'Number of edges: {arr_edge.shape[1]}')\n",
        "print(f'Number of distinct regions: {num_classes}')\n",
        "print(f'All region classes: {classes}')"
      ],
      "metadata": {
        "colab": {
          "base_uri": "https://localhost:8080/"
        },
        "id": "OjZdIyqKjrM0",
        "outputId": "1b89799c-a28c-4379-de96-772b0a4374e3"
      },
      "execution_count": 5,
      "outputs": [
        {
          "output_type": "stream",
          "name": "stdout",
          "text": [
            "Dataset:\n",
            "====================\n",
            "Number of users: 7624\n",
            "Number of features: 7842\n",
            "Number of distinct regions: 18\n",
            "All region classes: [ 0  1  2  3  4  5  6  7  8  9 10 11 12 13 14 15 16 17]\n"
          ]
        }
      ]
    },
    {
      "cell_type": "markdown",
      "source": [
        "### Create Dataset"
      ],
      "metadata": {
        "id": "MSa2dZP0pTVo"
      }
    },
    {
      "cell_type": "code",
      "source": [
        "class LastFM(Dataset):\n",
        "    def __init__(self, x, y=None, transform=None):\n",
        "        self.x = torch.tensor(x, dtype=torch.float32)\n",
        "        self.y = torch.tensor(y, dtype=torch.long)\n",
        "        self.transform = transform\n",
        "        \n",
        "    def __len__(self):\n",
        "        return len(self.x)\n",
        "    \n",
        "    def __getitem__(self, index):\n",
        "        data = self.x[index,]\n",
        "        if self.transform is not None:\n",
        "            data = self.transform(data)\n",
        "        if self.y is not None:\n",
        "            return data, self.y[index]\n",
        "        else:\n",
        "            return data"
      ],
      "metadata": {
        "id": "xQmymeTy8NJF"
      },
      "execution_count": 6,
      "outputs": []
    },
    {
      "cell_type": "code",
      "source": [
        "def dataset_split(n_fold):\n",
        "\n",
        "    X = np.arange(num_nodes)\n",
        "    splits = KFold(n_fold, shuffle=True, random_state=42)   # fix the seed to make the split reproducible\n",
        "    splits.split(X)\n",
        "    \n",
        "    train_ids = []\n",
        "    test_ids = []\n",
        "\n",
        "    for train_index, test_index in splits.split(X):\n",
        "        train_ids.append(list(train_index))\n",
        "        test_ids.append(list(test_index))\n",
        "\n",
        "    return train_ids, test_ids"
      ],
      "metadata": {
        "id": "4UOeeW3FJTID"
      },
      "execution_count": 7,
      "outputs": []
    },
    {
      "cell_type": "code",
      "source": [
        "n_fold = 5\n",
        "train_ids, test_ids = dataset_split(n_fold)\n",
        "\n",
        "for i in range(n_fold):\n",
        "    print('================')\n",
        "    print(f'Fold {i+1}:')\n",
        "    print(f'Train data: {len(train_ids[i])}')\n",
        "    print(f'Test data: {len(test_ids[i])}')"
      ],
      "metadata": {
        "colab": {
          "base_uri": "https://localhost:8080/"
        },
        "id": "fOd4Dl1nJo39",
        "outputId": "fbc56cc8-d3af-4b3b-a785-75c3d8a2d1c4"
      },
      "execution_count": 8,
      "outputs": [
        {
          "output_type": "stream",
          "name": "stdout",
          "text": [
            "================\n",
            "Fold 1:\n",
            "Train data: 6099\n",
            "Test data: 1525\n",
            "================\n",
            "Fold 2:\n",
            "Train data: 6099\n",
            "Test data: 1525\n",
            "================\n",
            "Fold 3:\n",
            "Train data: 6099\n",
            "Test data: 1525\n",
            "================\n",
            "Fold 4:\n",
            "Train data: 6099\n",
            "Test data: 1525\n",
            "================\n",
            "Fold 5:\n",
            "Train data: 6100\n",
            "Test data: 1524\n"
          ]
        }
      ]
    },
    {
      "cell_type": "code",
      "source": [
        "train_sets = []\n",
        "test_sets = []\n",
        "\n",
        "for i in range(n_fold):\n",
        "    train_sets.append(LastFM(x=arr_feat[train_ids[i]], y=arr_tar[train_ids[i]]))\n",
        "    test_sets.append(LastFM(x=arr_feat[test_ids[i]], y=arr_tar[test_ids[i]]))"
      ],
      "metadata": {
        "id": "_YCLEqgl7yDN"
      },
      "execution_count": 9,
      "outputs": []
    },
    {
      "cell_type": "markdown",
      "source": [
        "### Build Model"
      ],
      "metadata": {
        "id": "va7_CVtBc3d8"
      }
    },
    {
      "cell_type": "code",
      "source": [
        "# ref: https://www.kaggle.com/code/pinocookie/pytorch-simple-mlp/notebook\n",
        "class MLP(torch.nn.Module):\n",
        "    def __init__(self, hidden_channels1, hidden_channels2):\n",
        "        super().__init__()\n",
        "        # torch.manual_seed(42)\n",
        "        self.lin1 = nn.Linear(num_features, hidden_channels1)\n",
        "        self.lin2 = nn.Linear(hidden_channels1, hidden_channels2)\n",
        "        self.lin3 = nn.Linear(hidden_channels2, num_classes)\n",
        "\n",
        "    def forward(self, x):\n",
        "        x = self.lin1(x)\n",
        "        x = x.relu()\n",
        "        x = F.dropout(x, p=0.1)\n",
        "        x = self.lin2(x)\n",
        "        x = x.relu()\n",
        "        x = F.dropout(x, p=0.1)\n",
        "        x = self.lin3(x)\n",
        "        return x"
      ],
      "metadata": {
        "id": "hUEIZ7NK6IuT"
      },
      "execution_count": 10,
      "outputs": []
    },
    {
      "cell_type": "code",
      "source": [
        "criterion = torch.nn.CrossEntropyLoss()"
      ],
      "metadata": {
        "id": "RyeLJOYR1yDt"
      },
      "execution_count": 11,
      "outputs": []
    },
    {
      "cell_type": "markdown",
      "source": [
        "### Model training and testing"
      ],
      "metadata": {
        "id": "ImYjn2pdMgoA"
      }
    },
    {
      "cell_type": "code",
      "source": [
        "# set params\n",
        "hidden_channels1 = 4096\n",
        "hidden_channels2 = 4096\n",
        "lr = 5e-4\n",
        "weight_decay = 5e-4\n",
        "epoch = 100\n",
        "save_results = False"
      ],
      "metadata": {
        "id": "aoZYoUOvc77N"
      },
      "execution_count": 12,
      "outputs": []
    },
    {
      "cell_type": "code",
      "source": [
        "def train(model, train_set):\n",
        "      model.train()\n",
        "      optimizer.zero_grad()\n",
        "      out = model(train_set.x.to(device))\n",
        "      loss = criterion(out, train_set.y.flatten().to(device))\n",
        "      loss.backward()\n",
        "      optimizer.step()\n",
        "      # return loss\n",
        "\n",
        "def test(model, test_set):\n",
        "      model.eval()\n",
        "      out = model(test_set.x.to(device))\n",
        "      loss = criterion(out, test_set.y.flatten().to(device)).cpu().detach().item()\n",
        "      pred = out.argmax(dim=1)\n",
        "      correct = pred == test_set.y.flatten().to(device)\n",
        "      acc = correct.sum() / len(test_set)\n",
        "      return loss, acc.cpu().detach().item()"
      ],
      "metadata": {
        "id": "TrQrdyzdddCA"
      },
      "execution_count": 19,
      "outputs": []
    },
    {
      "cell_type": "code",
      "source": [
        "# cross validation\n",
        "train_acc_all = []\n",
        "test_acc_all = []\n",
        "train_loss_all = []\n",
        "test_loss_all = []\n",
        "\n",
        "for i in range(n_fold):   # loop through folds\n",
        "\n",
        "    print(f'===== Fold {i+1} ======')\n",
        "    \n",
        "    # initialize model and optimizer\n",
        "    model = MLP(hidden_channels1, hidden_channels2)\n",
        "    model.to(device)\n",
        "    optimizer = torch.optim.Adam(model.parameters(), lr=lr, weight_decay=weight_decay)\n",
        "\n",
        "    # accuracy per epoch\n",
        "    train_acc_epoch = []\n",
        "    test_acc_epoch = []\n",
        "    # loss per epoch\n",
        "    train_loss_epoch = []\n",
        "    test_loss_epoch = []\n",
        "\n",
        "    for e in range(epoch):   # loop through epochs\n",
        "        \n",
        "        train(model, train_sets[i])\n",
        "        train_loss, train_acc = test(model, train_sets[i])\n",
        "        test_loss, test_acc = test(model, test_sets[i])\n",
        "        \n",
        "        # save loss and accuracy history\n",
        "        train_acc_epoch.append(train_acc)\n",
        "        test_acc_epoch.append(test_acc)\n",
        "        train_loss_epoch.append(train_loss)\n",
        "        test_loss_epoch.append(test_loss)\n",
        "                \n",
        "        # save model and output\n",
        "        if (e == epoch-1) and (save_results==True):\n",
        "            torch.save(model, f'/content/drive/Shareddrives/CS523/Notebooks/model/MLP/fold_{i+1}.pt')\n",
        "            # torch.save(out, f'/content/drive/Shareddrives/CS523/Notebooks/output/MLP/fold_{i+1}.pt')\n",
        "\n",
        "        print(f'Epoch: {e+1:02d}, Train loss: {train_loss:.4f}, Test loss: {test_loss:.4f}')\n",
        "\n",
        "        torch.cuda.empty_cache()\n",
        "\n",
        "    train_acc_all.append(train_acc_epoch)\n",
        "    test_acc_all.append(test_acc_epoch)\n",
        "    train_loss_all.append(train_loss_epoch)\n",
        "    test_loss_all.append(test_loss_epoch)"
      ],
      "metadata": {
        "colab": {
          "base_uri": "https://localhost:8080/"
        },
        "id": "kK-EBS32efm7",
        "outputId": "93d0e598-5a72-47c4-fc5b-8a53b58ffe5c"
      },
      "execution_count": 20,
      "outputs": [
        {
          "output_type": "stream",
          "name": "stdout",
          "text": [
            "===== Fold 1 ======\n",
            "Epoch: 01, Train loss: 2.3814, Test loss: 2.3718\n",
            "Epoch: 02, Train loss: 2.1711, Test loss: 2.1843\n",
            "Epoch: 03, Train loss: 2.0316, Test loss: 2.0724\n",
            "Epoch: 04, Train loss: 1.8137, Test loss: 1.8762\n",
            "Epoch: 05, Train loss: 1.6148, Test loss: 1.7007\n",
            "Epoch: 06, Train loss: 1.5228, Test loss: 1.6505\n",
            "Epoch: 07, Train loss: 1.3333, Test loss: 1.4811\n",
            "Epoch: 08, Train loss: 1.2616, Test loss: 1.4514\n",
            "Epoch: 09, Train loss: 1.1385, Test loss: 1.3692\n",
            "Epoch: 10, Train loss: 1.0347, Test loss: 1.3071\n",
            "Epoch: 11, Train loss: 0.9472, Test loss: 1.2652\n",
            "Epoch: 12, Train loss: 0.8617, Test loss: 1.2075\n",
            "Epoch: 13, Train loss: 0.7924, Test loss: 1.1753\n",
            "Epoch: 14, Train loss: 0.7165, Test loss: 1.1290\n",
            "Epoch: 15, Train loss: 0.6467, Test loss: 1.0863\n",
            "Epoch: 16, Train loss: 0.5906, Test loss: 1.0656\n",
            "Epoch: 17, Train loss: 0.5236, Test loss: 1.0407\n",
            "Epoch: 18, Train loss: 0.4731, Test loss: 1.0363\n",
            "Epoch: 19, Train loss: 0.4310, Test loss: 1.0509\n",
            "Epoch: 20, Train loss: 0.3849, Test loss: 1.0295\n",
            "Epoch: 21, Train loss: 0.3450, Test loss: 1.0067\n",
            "Epoch: 22, Train loss: 0.3138, Test loss: 1.0051\n",
            "Epoch: 23, Train loss: 0.2844, Test loss: 1.0045\n",
            "Epoch: 24, Train loss: 0.2572, Test loss: 1.0142\n",
            "Epoch: 25, Train loss: 0.2340, Test loss: 1.0398\n",
            "Epoch: 26, Train loss: 0.2139, Test loss: 1.0604\n",
            "Epoch: 27, Train loss: 0.1964, Test loss: 1.0792\n",
            "Epoch: 28, Train loss: 0.1806, Test loss: 1.1062\n",
            "Epoch: 29, Train loss: 0.1665, Test loss: 1.1250\n",
            "Epoch: 30, Train loss: 0.1548, Test loss: 1.1406\n",
            "Epoch: 31, Train loss: 0.1445, Test loss: 1.1568\n",
            "Epoch: 32, Train loss: 0.1354, Test loss: 1.1755\n",
            "Epoch: 33, Train loss: 0.1270, Test loss: 1.1851\n",
            "Epoch: 34, Train loss: 0.1206, Test loss: 1.2092\n",
            "Epoch: 35, Train loss: 0.1142, Test loss: 1.2105\n",
            "Epoch: 36, Train loss: 0.1097, Test loss: 1.2247\n",
            "Epoch: 37, Train loss: 0.1054, Test loss: 1.2442\n",
            "Epoch: 38, Train loss: 0.1018, Test loss: 1.2608\n",
            "Epoch: 39, Train loss: 0.0976, Test loss: 1.2612\n",
            "Epoch: 40, Train loss: 0.0943, Test loss: 1.2636\n",
            "Epoch: 41, Train loss: 0.0914, Test loss: 1.2784\n",
            "Epoch: 42, Train loss: 0.0889, Test loss: 1.2756\n",
            "Epoch: 43, Train loss: 0.0868, Test loss: 1.2707\n",
            "Epoch: 44, Train loss: 0.0851, Test loss: 1.2935\n",
            "Epoch: 45, Train loss: 0.0834, Test loss: 1.2793\n",
            "Epoch: 46, Train loss: 0.0818, Test loss: 1.2769\n",
            "Epoch: 47, Train loss: 0.0805, Test loss: 1.2867\n",
            "Epoch: 48, Train loss: 0.0794, Test loss: 1.2827\n",
            "Epoch: 49, Train loss: 0.0785, Test loss: 1.2704\n",
            "Epoch: 50, Train loss: 0.0777, Test loss: 1.2684\n",
            "Epoch: 51, Train loss: 0.0769, Test loss: 1.2722\n",
            "Epoch: 52, Train loss: 0.0764, Test loss: 1.2638\n",
            "Epoch: 53, Train loss: 0.0760, Test loss: 1.2607\n",
            "Epoch: 54, Train loss: 0.0754, Test loss: 1.2519\n",
            "Epoch: 55, Train loss: 0.0749, Test loss: 1.2389\n",
            "Epoch: 56, Train loss: 0.0747, Test loss: 1.2291\n",
            "Epoch: 57, Train loss: 0.0744, Test loss: 1.2171\n",
            "Epoch: 58, Train loss: 0.0744, Test loss: 1.2244\n",
            "Epoch: 59, Train loss: 0.0743, Test loss: 1.2130\n",
            "Epoch: 60, Train loss: 0.0742, Test loss: 1.2034\n",
            "Epoch: 61, Train loss: 0.0741, Test loss: 1.1840\n",
            "Epoch: 62, Train loss: 0.0742, Test loss: 1.1938\n",
            "Epoch: 63, Train loss: 0.0741, Test loss: 1.1880\n",
            "Epoch: 64, Train loss: 0.0744, Test loss: 1.1704\n",
            "Epoch: 65, Train loss: 0.0744, Test loss: 1.1658\n",
            "Epoch: 66, Train loss: 0.0745, Test loss: 1.1573\n",
            "Epoch: 67, Train loss: 0.0745, Test loss: 1.1495\n",
            "Epoch: 68, Train loss: 0.0747, Test loss: 1.1473\n",
            "Epoch: 69, Train loss: 0.0746, Test loss: 1.1338\n",
            "Epoch: 70, Train loss: 0.0749, Test loss: 1.1185\n",
            "Epoch: 71, Train loss: 0.0747, Test loss: 1.1227\n",
            "Epoch: 72, Train loss: 0.0747, Test loss: 1.1000\n",
            "Epoch: 73, Train loss: 0.0749, Test loss: 1.1121\n",
            "Epoch: 74, Train loss: 0.0748, Test loss: 1.1103\n",
            "Epoch: 75, Train loss: 0.0748, Test loss: 1.1062\n",
            "Epoch: 76, Train loss: 0.0747, Test loss: 1.0963\n",
            "Epoch: 77, Train loss: 0.0744, Test loss: 1.0875\n",
            "Epoch: 78, Train loss: 0.0741, Test loss: 1.0927\n",
            "Epoch: 79, Train loss: 0.0739, Test loss: 1.0872\n",
            "Epoch: 80, Train loss: 0.0735, Test loss: 1.0841\n",
            "Epoch: 81, Train loss: 0.0732, Test loss: 1.0941\n",
            "Epoch: 82, Train loss: 0.0730, Test loss: 1.0931\n",
            "Epoch: 83, Train loss: 0.0725, Test loss: 1.0831\n",
            "Epoch: 84, Train loss: 0.0725, Test loss: 1.0925\n",
            "Epoch: 85, Train loss: 0.0722, Test loss: 1.1032\n",
            "Epoch: 86, Train loss: 0.0716, Test loss: 1.0933\n",
            "Epoch: 87, Train loss: 0.0711, Test loss: 1.1012\n",
            "Epoch: 88, Train loss: 0.0708, Test loss: 1.0971\n",
            "Epoch: 89, Train loss: 0.0705, Test loss: 1.1040\n",
            "Epoch: 90, Train loss: 0.0701, Test loss: 1.1014\n",
            "Epoch: 91, Train loss: 0.0697, Test loss: 1.1019\n",
            "Epoch: 92, Train loss: 0.0694, Test loss: 1.1068\n",
            "Epoch: 93, Train loss: 0.0692, Test loss: 1.0985\n",
            "Epoch: 94, Train loss: 0.0691, Test loss: 1.1074\n",
            "Epoch: 95, Train loss: 0.0686, Test loss: 1.1004\n",
            "Epoch: 96, Train loss: 0.0685, Test loss: 1.0955\n",
            "Epoch: 97, Train loss: 0.0681, Test loss: 1.1066\n",
            "Epoch: 98, Train loss: 0.0681, Test loss: 1.1221\n",
            "Epoch: 99, Train loss: 0.0677, Test loss: 1.1161\n",
            "Epoch: 100, Train loss: 0.0676, Test loss: 1.1037\n",
            "===== Fold 2 ======\n",
            "Epoch: 01, Train loss: 2.3833, Test loss: 2.3984\n",
            "Epoch: 02, Train loss: 2.1760, Test loss: 2.2163\n",
            "Epoch: 03, Train loss: 1.9820, Test loss: 2.0349\n",
            "Epoch: 04, Train loss: 1.7696, Test loss: 1.8365\n",
            "Epoch: 05, Train loss: 1.6379, Test loss: 1.7184\n",
            "Epoch: 06, Train loss: 1.4649, Test loss: 1.5684\n",
            "Epoch: 07, Train loss: 1.3487, Test loss: 1.4842\n",
            "Epoch: 08, Train loss: 1.2341, Test loss: 1.3937\n",
            "Epoch: 09, Train loss: 1.1179, Test loss: 1.2921\n",
            "Epoch: 10, Train loss: 1.0346, Test loss: 1.2321\n",
            "Epoch: 11, Train loss: 0.9356, Test loss: 1.1653\n",
            "Epoch: 12, Train loss: 0.8595, Test loss: 1.1188\n",
            "Epoch: 13, Train loss: 0.7844, Test loss: 1.0760\n",
            "Epoch: 14, Train loss: 0.7087, Test loss: 1.0216\n",
            "Epoch: 15, Train loss: 0.6488, Test loss: 1.0020\n",
            "Epoch: 16, Train loss: 0.5790, Test loss: 0.9626\n",
            "Epoch: 17, Train loss: 0.5242, Test loss: 0.9461\n",
            "Epoch: 18, Train loss: 0.4679, Test loss: 0.9243\n",
            "Epoch: 19, Train loss: 0.4206, Test loss: 0.9016\n",
            "Epoch: 20, Train loss: 0.3813, Test loss: 0.8847\n",
            "Epoch: 21, Train loss: 0.3436, Test loss: 0.8826\n",
            "Epoch: 22, Train loss: 0.3077, Test loss: 0.8808\n",
            "Epoch: 23, Train loss: 0.2790, Test loss: 0.9000\n",
            "Epoch: 24, Train loss: 0.2531, Test loss: 0.9188\n",
            "Epoch: 25, Train loss: 0.2298, Test loss: 0.9219\n",
            "Epoch: 26, Train loss: 0.2085, Test loss: 0.9220\n",
            "Epoch: 27, Train loss: 0.1913, Test loss: 0.9206\n",
            "Epoch: 28, Train loss: 0.1755, Test loss: 0.9258\n",
            "Epoch: 29, Train loss: 0.1622, Test loss: 0.9446\n",
            "Epoch: 30, Train loss: 0.1505, Test loss: 0.9653\n",
            "Epoch: 31, Train loss: 0.1400, Test loss: 0.9855\n",
            "Epoch: 32, Train loss: 0.1310, Test loss: 0.9997\n",
            "Epoch: 33, Train loss: 0.1236, Test loss: 1.0253\n",
            "Epoch: 34, Train loss: 0.1173, Test loss: 1.0332\n",
            "Epoch: 35, Train loss: 0.1119, Test loss: 1.0444\n",
            "Epoch: 36, Train loss: 0.1070, Test loss: 1.0546\n",
            "Epoch: 37, Train loss: 0.1022, Test loss: 1.0720\n",
            "Epoch: 38, Train loss: 0.0984, Test loss: 1.0728\n",
            "Epoch: 39, Train loss: 0.0950, Test loss: 1.0785\n",
            "Epoch: 40, Train loss: 0.0923, Test loss: 1.0810\n",
            "Epoch: 41, Train loss: 0.0897, Test loss: 1.0795\n",
            "Epoch: 42, Train loss: 0.0873, Test loss: 1.0764\n",
            "Epoch: 43, Train loss: 0.0856, Test loss: 1.0805\n",
            "Epoch: 44, Train loss: 0.0838, Test loss: 1.0870\n",
            "Epoch: 45, Train loss: 0.0823, Test loss: 1.0962\n",
            "Epoch: 46, Train loss: 0.0809, Test loss: 1.0813\n",
            "Epoch: 47, Train loss: 0.0798, Test loss: 1.0801\n",
            "Epoch: 48, Train loss: 0.0790, Test loss: 1.0799\n",
            "Epoch: 49, Train loss: 0.0780, Test loss: 1.0575\n",
            "Epoch: 50, Train loss: 0.0773, Test loss: 1.0790\n",
            "Epoch: 51, Train loss: 0.0766, Test loss: 1.0605\n",
            "Epoch: 52, Train loss: 0.0762, Test loss: 1.0602\n",
            "Epoch: 53, Train loss: 0.0757, Test loss: 1.0475\n",
            "Epoch: 54, Train loss: 0.0755, Test loss: 1.0412\n",
            "Epoch: 55, Train loss: 0.0751, Test loss: 1.0434\n",
            "Epoch: 56, Train loss: 0.0750, Test loss: 1.0448\n",
            "Epoch: 57, Train loss: 0.0749, Test loss: 1.0288\n",
            "Epoch: 58, Train loss: 0.0747, Test loss: 1.0217\n",
            "Epoch: 59, Train loss: 0.0747, Test loss: 0.9938\n",
            "Epoch: 60, Train loss: 0.0746, Test loss: 1.0052\n",
            "Epoch: 61, Train loss: 0.0747, Test loss: 1.0021\n",
            "Epoch: 62, Train loss: 0.0751, Test loss: 0.9879\n",
            "Epoch: 63, Train loss: 0.0749, Test loss: 0.9827\n",
            "Epoch: 64, Train loss: 0.0750, Test loss: 0.9676\n",
            "Epoch: 65, Train loss: 0.0752, Test loss: 0.9724\n",
            "Epoch: 66, Train loss: 0.0753, Test loss: 0.9625\n",
            "Epoch: 67, Train loss: 0.0754, Test loss: 0.9577\n",
            "Epoch: 68, Train loss: 0.0757, Test loss: 0.9555\n",
            "Epoch: 69, Train loss: 0.0756, Test loss: 0.9285\n",
            "Epoch: 70, Train loss: 0.0759, Test loss: 0.9332\n",
            "Epoch: 71, Train loss: 0.0759, Test loss: 0.9380\n",
            "Epoch: 72, Train loss: 0.0760, Test loss: 0.9446\n",
            "Epoch: 73, Train loss: 0.0760, Test loss: 0.9237\n",
            "Epoch: 74, Train loss: 0.0760, Test loss: 0.9220\n",
            "Epoch: 75, Train loss: 0.0759, Test loss: 0.9497\n",
            "Epoch: 76, Train loss: 0.0757, Test loss: 0.9371\n",
            "Epoch: 77, Train loss: 0.0754, Test loss: 0.9229\n",
            "Epoch: 78, Train loss: 0.0751, Test loss: 0.9228\n",
            "Epoch: 79, Train loss: 0.0750, Test loss: 0.9252\n",
            "Epoch: 80, Train loss: 0.0750, Test loss: 0.9379\n",
            "Epoch: 81, Train loss: 0.0745, Test loss: 0.9237\n",
            "Epoch: 82, Train loss: 0.0742, Test loss: 0.9107\n",
            "Epoch: 83, Train loss: 0.0740, Test loss: 0.9241\n",
            "Epoch: 84, Train loss: 0.0736, Test loss: 0.9319\n",
            "Epoch: 85, Train loss: 0.0732, Test loss: 0.9448\n",
            "Epoch: 86, Train loss: 0.0730, Test loss: 0.9245\n",
            "Epoch: 87, Train loss: 0.0726, Test loss: 0.9223\n",
            "Epoch: 88, Train loss: 0.0721, Test loss: 0.9429\n",
            "Epoch: 89, Train loss: 0.0720, Test loss: 0.9524\n",
            "Epoch: 90, Train loss: 0.0716, Test loss: 0.9332\n",
            "Epoch: 91, Train loss: 0.0714, Test loss: 0.9243\n",
            "Epoch: 92, Train loss: 0.0709, Test loss: 0.9409\n",
            "Epoch: 93, Train loss: 0.0706, Test loss: 0.9460\n",
            "Epoch: 94, Train loss: 0.0706, Test loss: 0.9444\n",
            "Epoch: 95, Train loss: 0.0703, Test loss: 0.9339\n",
            "Epoch: 96, Train loss: 0.0699, Test loss: 0.9423\n",
            "Epoch: 97, Train loss: 0.0697, Test loss: 0.9523\n",
            "Epoch: 98, Train loss: 0.0694, Test loss: 0.9578\n",
            "Epoch: 99, Train loss: 0.0692, Test loss: 0.9563\n",
            "Epoch: 100, Train loss: 0.0691, Test loss: 0.9443\n",
            "===== Fold 3 ======\n",
            "Epoch: 01, Train loss: 2.3840, Test loss: 2.3672\n",
            "Epoch: 02, Train loss: 2.1558, Test loss: 2.1271\n",
            "Epoch: 03, Train loss: 2.0080, Test loss: 1.9862\n",
            "Epoch: 04, Train loss: 1.7647, Test loss: 1.7676\n",
            "Epoch: 05, Train loss: 1.6500, Test loss: 1.6764\n",
            "Epoch: 06, Train loss: 1.4695, Test loss: 1.5077\n",
            "Epoch: 07, Train loss: 1.3673, Test loss: 1.4190\n",
            "Epoch: 08, Train loss: 1.2323, Test loss: 1.3114\n",
            "Epoch: 09, Train loss: 1.1250, Test loss: 1.2461\n",
            "Epoch: 10, Train loss: 1.0301, Test loss: 1.1944\n",
            "Epoch: 11, Train loss: 0.9281, Test loss: 1.1255\n",
            "Epoch: 12, Train loss: 0.8538, Test loss: 1.0882\n",
            "Epoch: 13, Train loss: 0.7725, Test loss: 1.0413\n",
            "Epoch: 14, Train loss: 0.6984, Test loss: 1.0080\n",
            "Epoch: 15, Train loss: 0.6377, Test loss: 0.9918\n",
            "Epoch: 16, Train loss: 0.5652, Test loss: 0.9528\n",
            "Epoch: 17, Train loss: 0.5106, Test loss: 0.9358\n",
            "Epoch: 18, Train loss: 0.4559, Test loss: 0.9246\n",
            "Epoch: 19, Train loss: 0.4096, Test loss: 0.9227\n",
            "Epoch: 20, Train loss: 0.3681, Test loss: 0.9043\n",
            "Epoch: 21, Train loss: 0.3324, Test loss: 0.8960\n",
            "Epoch: 22, Train loss: 0.2999, Test loss: 0.9040\n",
            "Epoch: 23, Train loss: 0.2702, Test loss: 0.9206\n",
            "Epoch: 24, Train loss: 0.2449, Test loss: 0.9232\n",
            "Epoch: 25, Train loss: 0.2236, Test loss: 0.9300\n",
            "Epoch: 26, Train loss: 0.2036, Test loss: 0.9432\n",
            "Epoch: 27, Train loss: 0.1867, Test loss: 0.9414\n",
            "Epoch: 28, Train loss: 0.1717, Test loss: 0.9539\n",
            "Epoch: 29, Train loss: 0.1589, Test loss: 0.9740\n",
            "Epoch: 30, Train loss: 0.1476, Test loss: 0.9799\n",
            "Epoch: 31, Train loss: 0.1373, Test loss: 0.9924\n",
            "Epoch: 32, Train loss: 0.1288, Test loss: 1.0118\n",
            "Epoch: 33, Train loss: 0.1219, Test loss: 1.0318\n",
            "Epoch: 34, Train loss: 0.1161, Test loss: 1.0398\n",
            "Epoch: 35, Train loss: 0.1108, Test loss: 1.0705\n",
            "Epoch: 36, Train loss: 0.1058, Test loss: 1.0832\n",
            "Epoch: 37, Train loss: 0.1013, Test loss: 1.0870\n",
            "Epoch: 38, Train loss: 0.0976, Test loss: 1.0880\n",
            "Epoch: 39, Train loss: 0.0942, Test loss: 1.0962\n",
            "Epoch: 40, Train loss: 0.0914, Test loss: 1.1040\n",
            "Epoch: 41, Train loss: 0.0889, Test loss: 1.1078\n",
            "Epoch: 42, Train loss: 0.0868, Test loss: 1.1136\n",
            "Epoch: 43, Train loss: 0.0850, Test loss: 1.1114\n",
            "Epoch: 44, Train loss: 0.0834, Test loss: 1.1134\n",
            "Epoch: 45, Train loss: 0.0816, Test loss: 1.1063\n",
            "Epoch: 46, Train loss: 0.0803, Test loss: 1.1271\n",
            "Epoch: 47, Train loss: 0.0792, Test loss: 1.1024\n",
            "Epoch: 48, Train loss: 0.0781, Test loss: 1.1203\n",
            "Epoch: 49, Train loss: 0.0772, Test loss: 1.0992\n",
            "Epoch: 50, Train loss: 0.0766, Test loss: 1.1098\n",
            "Epoch: 51, Train loss: 0.0759, Test loss: 1.0932\n",
            "Epoch: 52, Train loss: 0.0754, Test loss: 1.0808\n",
            "Epoch: 53, Train loss: 0.0748, Test loss: 1.0929\n",
            "Epoch: 54, Train loss: 0.0744, Test loss: 1.0866\n",
            "Epoch: 55, Train loss: 0.0741, Test loss: 1.0904\n",
            "Epoch: 56, Train loss: 0.0739, Test loss: 1.0780\n",
            "Epoch: 57, Train loss: 0.0739, Test loss: 1.0616\n",
            "Epoch: 58, Train loss: 0.0736, Test loss: 1.0473\n",
            "Epoch: 59, Train loss: 0.0736, Test loss: 1.0398\n",
            "Epoch: 60, Train loss: 0.0736, Test loss: 1.0334\n",
            "Epoch: 61, Train loss: 0.0737, Test loss: 1.0315\n",
            "Epoch: 62, Train loss: 0.0737, Test loss: 1.0356\n",
            "Epoch: 63, Train loss: 0.0737, Test loss: 1.0105\n",
            "Epoch: 64, Train loss: 0.0736, Test loss: 0.9895\n",
            "Epoch: 65, Train loss: 0.0737, Test loss: 1.0156\n",
            "Epoch: 66, Train loss: 0.0739, Test loss: 1.0020\n",
            "Epoch: 67, Train loss: 0.0741, Test loss: 0.9999\n",
            "Epoch: 68, Train loss: 0.0740, Test loss: 0.9834\n",
            "Epoch: 69, Train loss: 0.0741, Test loss: 0.9814\n",
            "Epoch: 70, Train loss: 0.0744, Test loss: 0.9691\n",
            "Epoch: 71, Train loss: 0.0743, Test loss: 0.9550\n",
            "Epoch: 72, Train loss: 0.0741, Test loss: 0.9713\n",
            "Epoch: 73, Train loss: 0.0744, Test loss: 0.9602\n",
            "Epoch: 74, Train loss: 0.0741, Test loss: 0.9581\n",
            "Epoch: 75, Train loss: 0.0739, Test loss: 0.9612\n",
            "Epoch: 76, Train loss: 0.0737, Test loss: 0.9597\n",
            "Epoch: 77, Train loss: 0.0735, Test loss: 0.9512\n",
            "Epoch: 78, Train loss: 0.0733, Test loss: 0.9599\n",
            "Epoch: 79, Train loss: 0.0729, Test loss: 0.9658\n",
            "Epoch: 80, Train loss: 0.0726, Test loss: 0.9561\n",
            "Epoch: 81, Train loss: 0.0725, Test loss: 0.9597\n",
            "Epoch: 82, Train loss: 0.0719, Test loss: 0.9557\n",
            "Epoch: 83, Train loss: 0.0718, Test loss: 0.9628\n",
            "Epoch: 84, Train loss: 0.0714, Test loss: 0.9625\n",
            "Epoch: 85, Train loss: 0.0711, Test loss: 0.9558\n",
            "Epoch: 86, Train loss: 0.0708, Test loss: 0.9688\n",
            "Epoch: 87, Train loss: 0.0703, Test loss: 0.9645\n",
            "Epoch: 88, Train loss: 0.0698, Test loss: 0.9767\n",
            "Epoch: 89, Train loss: 0.0694, Test loss: 0.9614\n",
            "Epoch: 90, Train loss: 0.0691, Test loss: 0.9620\n",
            "Epoch: 91, Train loss: 0.0690, Test loss: 0.9852\n",
            "Epoch: 92, Train loss: 0.0686, Test loss: 0.9709\n",
            "Epoch: 93, Train loss: 0.0685, Test loss: 0.9695\n",
            "Epoch: 94, Train loss: 0.0680, Test loss: 0.9892\n",
            "Epoch: 95, Train loss: 0.0678, Test loss: 0.9906\n",
            "Epoch: 96, Train loss: 0.0675, Test loss: 0.9796\n",
            "Epoch: 97, Train loss: 0.0673, Test loss: 0.9777\n",
            "Epoch: 98, Train loss: 0.0671, Test loss: 0.9833\n",
            "Epoch: 99, Train loss: 0.0671, Test loss: 0.9894\n",
            "Epoch: 100, Train loss: 0.0666, Test loss: 0.9930\n",
            "===== Fold 4 ======\n",
            "Epoch: 01, Train loss: 2.3823, Test loss: 2.3844\n",
            "Epoch: 02, Train loss: 2.1240, Test loss: 2.1572\n",
            "Epoch: 03, Train loss: 2.1210, Test loss: 2.1851\n",
            "Epoch: 04, Train loss: 1.7913, Test loss: 1.8748\n",
            "Epoch: 05, Train loss: 1.7102, Test loss: 1.7991\n",
            "Epoch: 06, Train loss: 1.5497, Test loss: 1.6598\n",
            "Epoch: 07, Train loss: 1.3932, Test loss: 1.5345\n",
            "Epoch: 08, Train loss: 1.3171, Test loss: 1.4852\n",
            "Epoch: 09, Train loss: 1.1944, Test loss: 1.3837\n",
            "Epoch: 10, Train loss: 1.0989, Test loss: 1.3127\n",
            "Epoch: 11, Train loss: 1.0228, Test loss: 1.2583\n",
            "Epoch: 12, Train loss: 0.9410, Test loss: 1.2019\n",
            "Epoch: 13, Train loss: 0.8464, Test loss: 1.1306\n",
            "Epoch: 14, Train loss: 0.7965, Test loss: 1.1096\n",
            "Epoch: 15, Train loss: 0.7291, Test loss: 1.0748\n",
            "Epoch: 16, Train loss: 0.6567, Test loss: 1.0360\n",
            "Epoch: 17, Train loss: 0.5989, Test loss: 1.0036\n",
            "Epoch: 18, Train loss: 0.5465, Test loss: 0.9818\n",
            "Epoch: 19, Train loss: 0.4915, Test loss: 0.9641\n",
            "Epoch: 20, Train loss: 0.4489, Test loss: 0.9618\n",
            "Epoch: 21, Train loss: 0.4070, Test loss: 0.9642\n",
            "Epoch: 22, Train loss: 0.3693, Test loss: 0.9515\n",
            "Epoch: 23, Train loss: 0.3386, Test loss: 0.9493\n",
            "Epoch: 24, Train loss: 0.3061, Test loss: 0.9394\n",
            "Epoch: 25, Train loss: 0.2794, Test loss: 0.9420\n",
            "Epoch: 26, Train loss: 0.2561, Test loss: 0.9360\n",
            "Epoch: 27, Train loss: 0.2353, Test loss: 0.9298\n",
            "Epoch: 28, Train loss: 0.2172, Test loss: 0.9241\n",
            "Epoch: 29, Train loss: 0.2005, Test loss: 0.9352\n",
            "Epoch: 30, Train loss: 0.1851, Test loss: 0.9543\n",
            "Epoch: 31, Train loss: 0.1720, Test loss: 0.9767\n",
            "Epoch: 32, Train loss: 0.1604, Test loss: 0.9928\n",
            "Epoch: 33, Train loss: 0.1503, Test loss: 1.0126\n",
            "Epoch: 34, Train loss: 0.1412, Test loss: 1.0205\n",
            "Epoch: 35, Train loss: 0.1327, Test loss: 1.0250\n",
            "Epoch: 36, Train loss: 0.1256, Test loss: 1.0268\n",
            "Epoch: 37, Train loss: 0.1195, Test loss: 1.0440\n",
            "Epoch: 38, Train loss: 0.1148, Test loss: 1.0659\n",
            "Epoch: 39, Train loss: 0.1098, Test loss: 1.0693\n",
            "Epoch: 40, Train loss: 0.1049, Test loss: 1.0735\n",
            "Epoch: 41, Train loss: 0.1011, Test loss: 1.0640\n",
            "Epoch: 42, Train loss: 0.0980, Test loss: 1.0747\n",
            "Epoch: 43, Train loss: 0.0950, Test loss: 1.0897\n",
            "Epoch: 44, Train loss: 0.0925, Test loss: 1.0875\n",
            "Epoch: 45, Train loss: 0.0902, Test loss: 1.0980\n",
            "Epoch: 46, Train loss: 0.0881, Test loss: 1.1003\n",
            "Epoch: 47, Train loss: 0.0865, Test loss: 1.1010\n",
            "Epoch: 48, Train loss: 0.0847, Test loss: 1.0959\n",
            "Epoch: 49, Train loss: 0.0834, Test loss: 1.0886\n",
            "Epoch: 50, Train loss: 0.0821, Test loss: 1.0879\n",
            "Epoch: 51, Train loss: 0.0812, Test loss: 1.0782\n",
            "Epoch: 52, Train loss: 0.0800, Test loss: 1.0862\n",
            "Epoch: 53, Train loss: 0.0793, Test loss: 1.0937\n",
            "Epoch: 54, Train loss: 0.0786, Test loss: 1.1020\n",
            "Epoch: 55, Train loss: 0.0780, Test loss: 1.0845\n",
            "Epoch: 56, Train loss: 0.0775, Test loss: 1.0908\n",
            "Epoch: 57, Train loss: 0.0770, Test loss: 1.0806\n",
            "Epoch: 58, Train loss: 0.0768, Test loss: 1.0519\n",
            "Epoch: 59, Train loss: 0.0765, Test loss: 1.0451\n",
            "Epoch: 60, Train loss: 0.0763, Test loss: 1.0478\n",
            "Epoch: 61, Train loss: 0.0761, Test loss: 1.0402\n",
            "Epoch: 62, Train loss: 0.0759, Test loss: 1.0379\n",
            "Epoch: 63, Train loss: 0.0757, Test loss: 1.0337\n",
            "Epoch: 64, Train loss: 0.0756, Test loss: 1.0267\n",
            "Epoch: 65, Train loss: 0.0758, Test loss: 1.0284\n",
            "Epoch: 66, Train loss: 0.0758, Test loss: 1.0072\n",
            "Epoch: 67, Train loss: 0.0757, Test loss: 1.0052\n",
            "Epoch: 68, Train loss: 0.0757, Test loss: 1.0009\n",
            "Epoch: 69, Train loss: 0.0759, Test loss: 1.0015\n",
            "Epoch: 70, Train loss: 0.0757, Test loss: 0.9980\n",
            "Epoch: 71, Train loss: 0.0758, Test loss: 0.9875\n",
            "Epoch: 72, Train loss: 0.0759, Test loss: 0.9892\n",
            "Epoch: 73, Train loss: 0.0759, Test loss: 0.9756\n",
            "Epoch: 74, Train loss: 0.0758, Test loss: 0.9687\n",
            "Epoch: 75, Train loss: 0.0758, Test loss: 0.9726\n",
            "Epoch: 76, Train loss: 0.0757, Test loss: 0.9637\n",
            "Epoch: 77, Train loss: 0.0756, Test loss: 0.9718\n",
            "Epoch: 78, Train loss: 0.0754, Test loss: 0.9597\n",
            "Epoch: 79, Train loss: 0.0752, Test loss: 0.9637\n",
            "Epoch: 80, Train loss: 0.0751, Test loss: 0.9560\n",
            "Epoch: 81, Train loss: 0.0747, Test loss: 0.9652\n",
            "Epoch: 82, Train loss: 0.0746, Test loss: 0.9677\n",
            "Epoch: 83, Train loss: 0.0740, Test loss: 0.9482\n",
            "Epoch: 84, Train loss: 0.0738, Test loss: 0.9536\n",
            "Epoch: 85, Train loss: 0.0734, Test loss: 0.9584\n",
            "Epoch: 86, Train loss: 0.0735, Test loss: 0.9682\n",
            "Epoch: 87, Train loss: 0.0729, Test loss: 0.9595\n",
            "Epoch: 88, Train loss: 0.0726, Test loss: 0.9629\n",
            "Epoch: 89, Train loss: 0.0721, Test loss: 0.9731\n",
            "Epoch: 90, Train loss: 0.0716, Test loss: 0.9675\n",
            "Epoch: 91, Train loss: 0.0714, Test loss: 0.9669\n",
            "Epoch: 92, Train loss: 0.0712, Test loss: 0.9760\n",
            "Epoch: 93, Train loss: 0.0706, Test loss: 0.9705\n",
            "Epoch: 94, Train loss: 0.0704, Test loss: 0.9765\n",
            "Epoch: 95, Train loss: 0.0701, Test loss: 0.9750\n",
            "Epoch: 96, Train loss: 0.0698, Test loss: 0.9645\n",
            "Epoch: 97, Train loss: 0.0694, Test loss: 0.9657\n",
            "Epoch: 98, Train loss: 0.0692, Test loss: 0.9765\n",
            "Epoch: 99, Train loss: 0.0690, Test loss: 0.9798\n",
            "Epoch: 100, Train loss: 0.0686, Test loss: 0.9691\n",
            "===== Fold 5 ======\n",
            "Epoch: 01, Train loss: 2.3784, Test loss: 2.4462\n",
            "Epoch: 02, Train loss: 2.1176, Test loss: 2.2139\n",
            "Epoch: 03, Train loss: 1.9316, Test loss: 2.0306\n",
            "Epoch: 04, Train loss: 1.7736, Test loss: 1.8910\n",
            "Epoch: 05, Train loss: 1.5912, Test loss: 1.7124\n",
            "Epoch: 06, Train loss: 1.4569, Test loss: 1.5874\n",
            "Epoch: 07, Train loss: 1.3327, Test loss: 1.5001\n",
            "Epoch: 08, Train loss: 1.2213, Test loss: 1.4153\n",
            "Epoch: 09, Train loss: 1.1142, Test loss: 1.3143\n",
            "Epoch: 10, Train loss: 1.0209, Test loss: 1.2314\n",
            "Epoch: 11, Train loss: 0.9325, Test loss: 1.1707\n",
            "Epoch: 12, Train loss: 0.8543, Test loss: 1.1405\n",
            "Epoch: 13, Train loss: 0.7801, Test loss: 1.1034\n",
            "Epoch: 14, Train loss: 0.7118, Test loss: 1.0640\n",
            "Epoch: 15, Train loss: 0.6423, Test loss: 1.0211\n",
            "Epoch: 16, Train loss: 0.5835, Test loss: 0.9938\n",
            "Epoch: 17, Train loss: 0.5269, Test loss: 0.9746\n",
            "Epoch: 18, Train loss: 0.4715, Test loss: 0.9531\n",
            "Epoch: 19, Train loss: 0.4251, Test loss: 0.9482\n",
            "Epoch: 20, Train loss: 0.3845, Test loss: 0.9378\n",
            "Epoch: 21, Train loss: 0.3450, Test loss: 0.9211\n",
            "Epoch: 22, Train loss: 0.3136, Test loss: 0.9132\n",
            "Epoch: 23, Train loss: 0.2840, Test loss: 0.9162\n",
            "Epoch: 24, Train loss: 0.2567, Test loss: 0.9127\n",
            "Epoch: 25, Train loss: 0.2352, Test loss: 0.9143\n",
            "Epoch: 26, Train loss: 0.2152, Test loss: 0.9307\n",
            "Epoch: 27, Train loss: 0.1975, Test loss: 0.9422\n",
            "Epoch: 28, Train loss: 0.1814, Test loss: 0.9648\n",
            "Epoch: 29, Train loss: 0.1669, Test loss: 0.9771\n",
            "Epoch: 30, Train loss: 0.1551, Test loss: 0.9906\n",
            "Epoch: 31, Train loss: 0.1451, Test loss: 1.0057\n",
            "Epoch: 32, Train loss: 0.1361, Test loss: 1.0219\n",
            "Epoch: 33, Train loss: 0.1277, Test loss: 1.0157\n",
            "Epoch: 34, Train loss: 0.1204, Test loss: 1.0186\n",
            "Epoch: 35, Train loss: 0.1141, Test loss: 1.0392\n",
            "Epoch: 36, Train loss: 0.1085, Test loss: 1.0390\n",
            "Epoch: 37, Train loss: 0.1041, Test loss: 1.0441\n",
            "Epoch: 38, Train loss: 0.1001, Test loss: 1.0549\n",
            "Epoch: 39, Train loss: 0.0964, Test loss: 1.0644\n",
            "Epoch: 40, Train loss: 0.0935, Test loss: 1.0778\n",
            "Epoch: 41, Train loss: 0.0908, Test loss: 1.0837\n",
            "Epoch: 42, Train loss: 0.0880, Test loss: 1.0774\n",
            "Epoch: 43, Train loss: 0.0857, Test loss: 1.0743\n",
            "Epoch: 44, Train loss: 0.0839, Test loss: 1.0947\n",
            "Epoch: 45, Train loss: 0.0821, Test loss: 1.0884\n",
            "Epoch: 46, Train loss: 0.0807, Test loss: 1.1042\n",
            "Epoch: 47, Train loss: 0.0791, Test loss: 1.1145\n",
            "Epoch: 48, Train loss: 0.0780, Test loss: 1.1025\n",
            "Epoch: 49, Train loss: 0.0770, Test loss: 1.1085\n",
            "Epoch: 50, Train loss: 0.0760, Test loss: 1.0970\n",
            "Epoch: 51, Train loss: 0.0755, Test loss: 1.0909\n",
            "Epoch: 52, Train loss: 0.0746, Test loss: 1.0987\n",
            "Epoch: 53, Train loss: 0.0743, Test loss: 1.1003\n",
            "Epoch: 54, Train loss: 0.0739, Test loss: 1.0719\n",
            "Epoch: 55, Train loss: 0.0735, Test loss: 1.0711\n",
            "Epoch: 56, Train loss: 0.0733, Test loss: 1.0729\n",
            "Epoch: 57, Train loss: 0.0731, Test loss: 1.0727\n",
            "Epoch: 58, Train loss: 0.0729, Test loss: 1.0663\n",
            "Epoch: 59, Train loss: 0.0728, Test loss: 1.0497\n",
            "Epoch: 60, Train loss: 0.0727, Test loss: 1.0509\n",
            "Epoch: 61, Train loss: 0.0729, Test loss: 1.0371\n",
            "Epoch: 62, Train loss: 0.0727, Test loss: 1.0300\n",
            "Epoch: 63, Train loss: 0.0727, Test loss: 1.0247\n",
            "Epoch: 64, Train loss: 0.0727, Test loss: 1.0314\n",
            "Epoch: 65, Train loss: 0.0730, Test loss: 1.0260\n",
            "Epoch: 66, Train loss: 0.0732, Test loss: 1.0139\n",
            "Epoch: 67, Train loss: 0.0732, Test loss: 1.0003\n",
            "Epoch: 68, Train loss: 0.0733, Test loss: 1.0017\n",
            "Epoch: 69, Train loss: 0.0733, Test loss: 1.0017\n",
            "Epoch: 70, Train loss: 0.0733, Test loss: 0.9812\n",
            "Epoch: 71, Train loss: 0.0735, Test loss: 0.9851\n",
            "Epoch: 72, Train loss: 0.0734, Test loss: 0.9840\n",
            "Epoch: 73, Train loss: 0.0735, Test loss: 0.9642\n",
            "Epoch: 74, Train loss: 0.0734, Test loss: 0.9732\n",
            "Epoch: 75, Train loss: 0.0735, Test loss: 0.9860\n",
            "Epoch: 76, Train loss: 0.0733, Test loss: 0.9826\n",
            "Epoch: 77, Train loss: 0.0729, Test loss: 0.9738\n",
            "Epoch: 78, Train loss: 0.0730, Test loss: 0.9874\n",
            "Epoch: 79, Train loss: 0.0728, Test loss: 0.9720\n",
            "Epoch: 80, Train loss: 0.0725, Test loss: 0.9767\n",
            "Epoch: 81, Train loss: 0.0721, Test loss: 0.9688\n",
            "Epoch: 82, Train loss: 0.0719, Test loss: 0.9817\n",
            "Epoch: 83, Train loss: 0.0715, Test loss: 0.9654\n",
            "Epoch: 84, Train loss: 0.0712, Test loss: 0.9972\n",
            "Epoch: 85, Train loss: 0.0710, Test loss: 0.9786\n",
            "Epoch: 86, Train loss: 0.0707, Test loss: 0.9801\n",
            "Epoch: 87, Train loss: 0.0704, Test loss: 0.9786\n",
            "Epoch: 88, Train loss: 0.0702, Test loss: 0.9851\n",
            "Epoch: 89, Train loss: 0.0697, Test loss: 0.9762\n",
            "Epoch: 90, Train loss: 0.0694, Test loss: 0.9872\n",
            "Epoch: 91, Train loss: 0.0692, Test loss: 0.9846\n",
            "Epoch: 92, Train loss: 0.0687, Test loss: 0.9889\n",
            "Epoch: 93, Train loss: 0.0685, Test loss: 0.9892\n",
            "Epoch: 94, Train loss: 0.0682, Test loss: 0.9816\n",
            "Epoch: 95, Train loss: 0.0680, Test loss: 0.9996\n",
            "Epoch: 96, Train loss: 0.0677, Test loss: 0.9856\n",
            "Epoch: 97, Train loss: 0.0675, Test loss: 0.9993\n",
            "Epoch: 98, Train loss: 0.0675, Test loss: 1.0093\n",
            "Epoch: 99, Train loss: 0.0671, Test loss: 0.9954\n",
            "Epoch: 100, Train loss: 0.0669, Test loss: 0.9972\n"
          ]
        }
      ]
    },
    {
      "cell_type": "code",
      "source": [
        "# plot train and test loss\n",
        "fig, ax = plt.subplots(figsize=(10,4))\n",
        "colors = ['#0343DF', '#E50000', '#008000', '#DDA0DD', '#FFA500']\n",
        "for i in range(n_fold):\n",
        "    ax.plot(range(1,len(train_loss_all[i])+1), train_loss_all[i], '-x', markersize=3, label=f'train_fold_{i+1}', color=colors[i])\n",
        "    ax.plot(range(1,len(test_loss_all[i])+1), test_loss_all[i], '-o', markersize=3, label=f'test_fold_{i+1}', color=colors[i])\n",
        "# ax.set_xticks(np.arange(1, epoch+1))\n",
        "ax.grid()\n",
        "ax.set_title('Train and test loss')\n",
        "ax.set_xlabel('epochs')\n",
        "fig.legend()\n",
        "fig.show()"
      ],
      "metadata": {
        "colab": {
          "base_uri": "https://localhost:8080/",
          "height": 429
        },
        "id": "QtHzSz_ZOEHU",
        "outputId": "4122d0d4-3d41-42e0-82a6-61369363a278"
      },
      "execution_count": 27,
      "outputs": [
        {
          "output_type": "display_data",
          "data": {
            "text/plain": [
              "<Figure size 1000x400 with 1 Axes>"
            ],
            "image/png": "[encoded data removed]"
          },
          "metadata": {}
        }
      ]
    },
    {
      "cell_type": "code",
      "source": [
        "# plot train and test accuracy\n",
        "fig, ax = plt.subplots(figsize=(10,4))\n",
        "for i in range(n_fold):\n",
        "    ax.plot(range(1,len(train_acc_all[i])+1), train_acc_all[i], '-x', markersize=3, label=f'train_fold_{i+1}', color=colors[i])\n",
        "    ax.plot(range(1,len(test_acc_all[i])+1), test_acc_all[i], '-o', markersize=3, label=f'test_fold_{i+1}', color=colors[i])\n",
        "# ax.set_xticks(np.arange(1, epoch+1))\n",
        "ax.grid()\n",
        "ax.set_title('Train and test accuracy')\n",
        "ax.set_xlabel('epochs')\n",
        "fig.legend()\n",
        "fig.show()"
      ],
      "metadata": {
        "colab": {
          "base_uri": "https://localhost:8080/",
          "height": 429
        },
        "id": "vKXebzezOGtX",
        "outputId": "c50b958b-7cc8-4fd1-e36c-b258b9d962de"
      },
      "execution_count": 29,
      "outputs": [
        {
          "output_type": "display_data",
          "data": {
            "text/plain": [
              "<Figure size 1000x400 with 1 Axes>"
            ],
            "image/png": "[encoded data removed]"
          },
          "metadata": {}
        }
      ]
    },
    {
      "cell_type": "code",
      "source": [
        "# print out average accuracy\n",
        "acc_list = []\n",
        "for i in range(n_fold):\n",
        "    acc = test_acc_all[i][-1]\n",
        "    acc_list.append(acc)\n",
        "    print(f'Fold {i+1} test accuracy: {acc:.4f}')\n",
        "print(f'Average accuracy: {np.mean(acc_list):.4f}')"
      ],
      "metadata": {
        "colab": {
          "base_uri": "https://localhost:8080/"
        },
        "id": "NRFD1URWOI2E",
        "outputId": "72ef577e-c05e-427b-84cd-5b70932103b1"
      },
      "execution_count": 30,
      "outputs": [
        {
          "output_type": "stream",
          "name": "stdout",
          "text": [
            "Fold 1 test accuracy: 0.7607\n",
            "Fold 2 test accuracy: 0.7659\n",
            "Fold 3 test accuracy: 0.7646\n",
            "Fold 4 test accuracy: 0.7652\n",
            "Fold 5 test accuracy: 0.7533\n",
            "Average accuracy: 0.7619\n"
          ]
        }
      ]
    }
  ]
}